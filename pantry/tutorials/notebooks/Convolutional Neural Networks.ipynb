{
 "cells": [
  {
   "cell_type": "markdown",
   "metadata": {},
   "source": [
    "# Convolutional Neural Networks\n",
    "\n",
    "### Need for Convolution Neural Network\n",
    "In the previous tutorials we saw learned about the Feed Forward Neural Networks where each neuron in a network learns from every neuron in the previous layer. This architecture of the network assumes independence between the features of the data. This helps in learning the abstract global representation. However, this architure cannot learn local representations of the data because there is no interaction between the neighboring neurons. For Example we are analyzing an image or a video or a spech sequence we need to learn the local representations of the and build on those local representations to form a global representation.\n",
    "\n",
    "### Convolution and Pooling layer\n",
    "\n",
    "We attain this function by imposing sparsity on the layers such that most of the weight are zeros exept few. We attain sparcity by forcig each neuron to learn only from new neighboring inputs. Let $k$ be number of neighnors we allow a neuron to learn from. If we take $k=3$ then each neuron only get input from the the 3 previous neurons. Forcibly reducing the inputs of the neuron to 3 will allow the neuron to learn the local representations of the image. For an image case that initial convolution layer learns small edges from the image. Another advantage of this technique is good old reusuability. Once is neuron is trained to learn an edge from an image, we can use the same neuron to detect the edge wherever it is present in the image by moving it around the entire image. We can see this in two ways we can think of this as a single neuron moving around the image to detect the features or many neurons sharing the same weights. This operaiton is called convolution.\n",
    "\n",
    "Let's look at it mathematically. Let  $x = [x^{(1)}, x^{(2)},......,x^{(d)}]$ d dimensional input vector and $W = [w_1, w_2,.......,w_3]$ be the weight vector of the neuron. This operation can be mathematically represented as \n",
    "$$z^{(j)} = \\sum_{i=1}^{k}x^{j+i-1}W_k, \\forall j=[1,2,…,𝑑−𝑘+1] $$\n",
    "\n",
    "#### Receptive Field\n",
    "\n",
    "The value k we used before that represents the number of inputs the neuron learns from can be seen as the number of signals it recieves from the previous layer. Therefore, this k is called the receptive field. It can also be viewed in a different way. If k is 3 then the neurons receptive field is 3 from the previous layer. What about the neuron's receptive field with respect to the layer before that? The previous layer has each neuron recieved from 3 inputs from the layer before. Thefore the current neuron recieves 9 inputs from the 2 layers before.\n",
    "\n",
    "#### Pooling Operation\n",
    "\n",
    "From the previous section we learned that each neuron recieves input from k neighboring k values in the input and produces one ouput. As the neuron moves in the entire layer, it produces d-k+1 outputs where d is the number of dimensions in the input. Each neuron produces d-k+1 oututs, so if we have n neurons in each layer then we have $n*(d-k+1)$ outputs. For Example for a 20 neuron layer, if the input is 100 dimensional, for k=3 we have 1960 outputs. from 100 to 1960 is a huge jump and this keeps on increasing and will result in a computational instability. To prevent that we have a special operation called pooling. We downsample the entire output space into lower dimension by taking a single value for a given pooling length. depending on the value we consider we call it either as avg pooling or max pooling. \n",
    "\n",
    "#### Stride\n",
    "\n",
    "We can reduce the number of outputs by using strides without using pooling. A stride operation is equivalent to a hop. Stride is the number of hops we make from convolution to convolution. We can use longer strides where we don't want outputs to read from common inputs.\n",
    "\n",
    "### Convolution layer in YANN\n",
    "We can add a convolution layer to our network using add_layer function with the following syntax:\n",
    "<code> net.add_layer ( type = \"conv_pool\",\n",
    "                origin = \"input\",\n",
    "                id = \"conv_pool_1\",\n",
    "                num_neurons = \n",
    "                filter_size = (,),\n",
    "                pool_size = (,),\n",
    "                activation = ('maxout', 'maxout', 2),\n",
    "                batch_norm = True,\n",
    "                regularize = True,\n",
    "                verbose = verbose\n",
    "            )\n",
    "            </code>"
   ]
  },
  {
   "cell_type": "code",
   "execution_count": 8,
   "metadata": {},
   "outputs": [
    {
     "name": "stdout",
     "output_type": "stream",
     "text": [
      ". Setting up dataset \n",
      ".. setting up skdata\n",
      "... Importing mnist from skdata\n",
      ".. setting up dataset\n",
      ".. training data\n",
      ".. validation data \n",
      ".. testing data \n",
      ". Dataset 74549 is created.\n",
      ". Time taken is 0.480078 seconds\n",
      ". Initializing the network\n",
      ".. Setting up the optimizer\n",
      ".. Setting up the datastream\n",
      ".. Setting up the visualizer\n",
      ".. Adding input layer input\n",
      ".. Adding conv_pool layer conv_pool_1\n",
      ".. Adding conv_pool layer conv_pool_2\n",
      ".. Adding dot_product layer dot_product_1\n",
      ".. Adding flatten layer 4\n",
      ".. Adding dot_product layer dot_product_2\n",
      ".. Adding classifier layer softmax\n",
      ".. Adding objective layer obj\n",
      ".. This method will be deprecated with the implementation of a visualizer,also this works only for tree-like networks. This will cause errors in printing DAG-style networks.\n",
      " |-\n",
      " |-\n",
      " |-\n",
      " |- id: input\n",
      " |-=================------------------\n",
      " |- type: input\n",
      " |- output shape: (500, 1, 28, 28)\n",
      " |------------------------------------\n",
      "          |-\n",
      "          |-\n",
      "          |-\n",
      "          |- id: conv_pool_1\n",
      "          |-=================------------------\n",
      "          |- type: conv_pool\n",
      "          |- output shape: (500, 10, 8, 8)\n",
      "          |- batch norm is OFF\n",
      "          |------------------------------------\n",
      "          |- filter size [5 X 5]\n",
      "          |- pooling size [3 X 3]\n",
      "          |- stride size [1 X 1]\n",
      "          |- input shape [28 28]\n",
      "          |- input number of feature maps is 1\n",
      "          |------------------------------------\n",
      "                   |-\n",
      "                   |-\n",
      "                   |-\n",
      "                   |- id: conv_pool_2\n",
      "                   |-=================------------------\n",
      "                   |- type: conv_pool\n",
      "                   |- output shape: (500, 50, 6, 6)\n",
      "                   |- batch norm is OFF\n",
      "                   |------------------------------------\n",
      "                   |- filter size [3 X 3]\n",
      "                   |- pooling size [1 X 1]\n",
      "                   |- stride size [1 X 1]\n",
      "                   |- input shape [8 8]\n",
      "                   |- input number of feature maps is 10\n",
      "                   |------------------------------------\n",
      "                            |-\n",
      "                            |-\n",
      "                            |-\n",
      "                            |- id: 4\n",
      "                            |-=================------------------\n",
      "                            |- type: flatten\n",
      "                            |- output shape: (500, 1800)\n",
      "                            |------------------------------------\n",
      "                                     |-\n",
      "                                     |-\n",
      "                                     |-\n",
      "                                     |- id: dot_product_1\n",
      "                                     |-=================------------------\n",
      "                                     |- type: dot_product\n",
      "                                     |- output shape: (500, 1250)\n",
      "                                     |- batch norm is OFF\n",
      "                                     |------------------------------------\n",
      "                                              |-\n",
      "                                              |-\n",
      "                                              |-\n",
      "                                              |- id: dot_product_2\n",
      "                                              |-=================------------------\n",
      "                                              |- type: dot_product\n",
      "                                              |- output shape: (500, 1250)\n",
      "                                              |- batch norm is OFF\n",
      "                                              |------------------------------------\n",
      "                                                       |-\n",
      "                                                       |-\n",
      "                                                       |-\n",
      "                                                       |- id: softmax\n",
      "                                                       |-=================------------------\n",
      "                                                       |- type: classifier\n",
      "                                                       |- output shape: (500, 10)\n",
      "                                                       |------------------------------------\n",
      "                                                                |-\n",
      "                                                                |-\n",
      "                                                                |-\n",
      "                                                                |- id: obj\n",
      "                                                                |-=================------------------\n",
      "                                                                |- type: objective\n",
      "                                                                |- output shape: (1,)\n",
      "                                                                |------------------------------------\n",
      ".. Saving the network down as an image\n",
      ".. Cooking the network\n",
      ".. Setting up the resultor\n",
      ".. All checks complete, cooking continues\n",
      ". Training\n",
      ". \n",
      "\n",
      ".. Epoch: 0 Era: 0\n"
     ]
    },
    {
     "name": "stderr",
     "output_type": "stream",
     "text": [
      "| training  100% Time: 0:00:02                                                 \n",
      "| validation  100% Time: 0:00:01                                               \n"
     ]
    },
    {
     "name": "stdout",
     "output_type": "stream",
     "text": [
      ".. Validation accuracy : 76.45\n",
      ".. Training accuracy : 74.75\n",
      ".. Best training accuracy\n",
      ".. Best validation accuracy\n",
      ".. Cost                : 1.71155\n",
      "... Learning Rate       : 9.99999974738e-05\n",
      "... Momentum            : 0.649999976158\n",
      ". \n",
      "\n",
      ".. Epoch: 1 Era: 0\n"
     ]
    },
    {
     "name": "stderr",
     "output_type": "stream",
     "text": [
      "| training  100% Time: 0:00:02                                                 \n",
      "| validation  100% Time: 0:00:01                                               \n"
     ]
    },
    {
     "name": "stdout",
     "output_type": "stream",
     "text": [
      ".. Validation accuracy : 88.34\n",
      ".. Training accuracy : 87.104\n",
      ".. Best training accuracy\n",
      ".. Best validation accuracy\n",
      ".. Cost                : 0.5723\n",
      "... Learning Rate       : 9.49999957811e-05\n",
      "... Momentum            : 0.660666584969\n",
      ". \n",
      "\n",
      ".. Epoch: 2 Era: 0\n"
     ]
    },
    {
     "name": "stderr",
     "output_type": "stream",
     "text": [
      "| training  100% Time: 0:00:02                                                 \n",
      "| validation  100% Time: 0:00:01                                               \n"
     ]
    },
    {
     "name": "stdout",
     "output_type": "stream",
     "text": [
      ".. Validation accuracy : 92.43\n",
      ".. Training accuracy : 91.708\n",
      ".. Best training accuracy\n",
      ".. Best validation accuracy\n",
      ".. Cost                : 0.350749\n",
      "... Learning Rate       : 9.02499959921e-05\n",
      "... Momentum            : 0.671333312988\n",
      ". \n",
      "\n",
      ".. Epoch: 3 Era: 0\n"
     ]
    },
    {
     "name": "stderr",
     "output_type": "stream",
     "text": [
      "| training  100% Time: 0:00:02                                                 \n",
      "| validation  100% Time: 0:00:01                                               \n"
     ]
    },
    {
     "name": "stdout",
     "output_type": "stream",
     "text": [
      ".. Validation accuracy : 94.65\n",
      ".. Training accuracy : 94.146\n",
      ".. Best training accuracy\n",
      ".. Best validation accuracy\n",
      ".. Cost                : 0.243391\n",
      "... Learning Rate       : 8.57374980114e-05\n",
      "... Momentum            : 0.681999981403\n",
      ". \n",
      "\n",
      ".. Epoch: 4 Era: 0\n"
     ]
    },
    {
     "name": "stderr",
     "output_type": "stream",
     "text": [
      "| training  100% Time: 0:00:02                                                 \n",
      "| validation  100% Time: 0:00:01                                               \n"
     ]
    },
    {
     "name": "stdout",
     "output_type": "stream",
     "text": [
      ".. Validation accuracy : 95.95\n",
      ".. Training accuracy : 95.55\n",
      ".. Best training accuracy\n",
      ".. Best validation accuracy\n",
      ".. Cost                : 0.179968\n",
      "... Learning Rate       : 8.14506202005e-05\n",
      "... Momentum            : 0.692666649818\n",
      ". \n",
      "\n",
      ".. Epoch: 5 Era: 0\n"
     ]
    },
    {
     "name": "stderr",
     "output_type": "stream",
     "text": [
      "| training  100% Time: 0:00:02                                                 \n",
      "| validation  100% Time: 0:00:01                                               \n"
     ]
    },
    {
     "name": "stdout",
     "output_type": "stream",
     "text": [
      ".. Validation accuracy : 96.66\n",
      ".. Training accuracy : 96.414\n",
      ".. Best training accuracy\n",
      ".. Best validation accuracy\n",
      ".. Cost                : 0.14017\n",
      "... Learning Rate       : 7.73780921008e-05\n",
      "... Momentum            : 0.703333318233\n",
      ". \n",
      "\n",
      ".. Epoch: 6 Era: 0\n"
     ]
    },
    {
     "name": "stderr",
     "output_type": "stream",
     "text": [
      "| training  100% Time: 0:00:02                                                 \n",
      "| validation  100% Time: 0:00:01                                               \n"
     ]
    },
    {
     "name": "stdout",
     "output_type": "stream",
     "text": [
      ".. Validation accuracy : 97.09\n",
      ".. Training accuracy : 97.034\n",
      ".. Best training accuracy\n",
      ".. Best validation accuracy\n",
      ".. Cost                : 0.114157\n",
      "... Learning Rate       : 7.3509188951e-05\n",
      "... Momentum            : 0.713999986649\n",
      ". \n",
      "\n",
      ".. Epoch: 7 Era: 0\n"
     ]
    },
    {
     "name": "stderr",
     "output_type": "stream",
     "text": [
      "| training  100% Time: 0:00:02                                                 \n",
      "| validation  100% Time: 0:00:01                                               \n"
     ]
    },
    {
     "name": "stdout",
     "output_type": "stream",
     "text": [
      ".. Validation accuracy : 97.43\n",
      ".. Training accuracy : 97.526\n",
      ".. Best training accuracy\n",
      ".. Best validation accuracy\n",
      ".. Cost                : 0.0956501\n",
      "... Learning Rate       : 6.98337316862e-05\n",
      "... Momentum            : 0.724666655064\n",
      ". \n",
      "\n",
      ".. Epoch: 8 Era: 0\n"
     ]
    },
    {
     "name": "stderr",
     "output_type": "stream",
     "text": [
      "| training  100% Time: 0:00:02                                                 \n",
      "| validation  100% Time: 0:00:01                                               \n"
     ]
    },
    {
     "name": "stdout",
     "output_type": "stream",
     "text": [
      ".. Validation accuracy : 97.65\n",
      ".. Training accuracy : 97.812\n",
      ".. Best training accuracy\n",
      ".. Best validation accuracy\n",
      ".. Cost                : 0.0818051\n",
      "... Learning Rate       : 6.63420432829e-05\n",
      "... Momentum            : 0.735333323479\n",
      ". \n",
      "\n",
      ".. Epoch: 9 Era: 0\n"
     ]
    },
    {
     "name": "stderr",
     "output_type": "stream",
     "text": [
      "| training  100% Time: 0:00:02                                                 \n",
      "| validation  100% Time: 0:00:01                                               \n"
     ]
    },
    {
     "name": "stdout",
     "output_type": "stream",
     "text": [
      ".. Validation accuracy : 97.81\n",
      ".. Training accuracy : 98.078\n",
      ".. Best training accuracy\n",
      ".. Best validation accuracy\n",
      ".. Cost                : 0.0710442\n",
      "... Learning Rate       : 6.30249414826e-05\n",
      "... Momentum            : 0.745999991894\n",
      ". \n",
      "\n",
      ".. Epoch: 10 Era: 0\n"
     ]
    },
    {
     "name": "stderr",
     "output_type": "stream",
     "text": [
      "| training  100% Time: 0:00:02                                                 \n",
      "| validation  100% Time: 0:00:01                                               \n"
     ]
    },
    {
     "name": "stdout",
     "output_type": "stream",
     "text": [
      ".. Validation accuracy : 97.91\n",
      ".. Training accuracy : 98.284\n",
      ".. Best training accuracy\n",
      ".. Best validation accuracy\n",
      ".. Cost                : 0.062519\n",
      "... Learning Rate       : 5.9873695136e-05\n",
      "... Momentum            : 0.756666600704\n",
      ". \n",
      "\n",
      ".. Epoch: 11 Era: 0\n"
     ]
    },
    {
     "name": "stderr",
     "output_type": "stream",
     "text": [
      "| training  100% Time: 0:00:02                                                 \n",
      "| validation  100% Time: 0:00:01                                               \n"
     ]
    },
    {
     "name": "stdout",
     "output_type": "stream",
     "text": [
      ".. Validation accuracy : 97.96\n",
      ".. Training accuracy : 98.464\n",
      ".. Best training accuracy\n",
      ".. Best validation accuracy\n",
      ".. Cost                : 0.0554453\n",
      "... Learning Rate       : 5.68800096516e-05\n",
      "... Momentum            : 0.767333269119\n",
      ". \n",
      "\n",
      ".. Epoch: 12 Era: 0\n"
     ]
    },
    {
     "name": "stderr",
     "output_type": "stream",
     "text": [
      "| training  100% Time: 0:00:02                                                 \n",
      "| validation  100% Time: 0:00:01                                               \n"
     ]
    },
    {
     "name": "stdout",
     "output_type": "stream",
     "text": [
      ".. Validation accuracy : 98.05\n",
      ".. Training accuracy : 98.624\n",
      ".. Best training accuracy\n",
      ".. Best validation accuracy\n",
      ".. Cost                : 0.0495137\n",
      "... Learning Rate       : 5.40360088053e-05\n",
      "... Momentum            : 0.777999937534\n",
      ". \n",
      "\n",
      ".. Epoch: 13 Era: 0\n"
     ]
    },
    {
     "name": "stderr",
     "output_type": "stream",
     "text": [
      "| training  100% Time: 0:00:02                                                 \n",
      "| validation  100% Time: 0:00:01                                               \n"
     ]
    },
    {
     "name": "stdout",
     "output_type": "stream",
     "text": [
      ".. Validation accuracy : 98.17\n",
      ".. Training accuracy : 98.714\n",
      ".. Best training accuracy\n",
      ".. Best validation accuracy\n",
      ".. Cost                : 0.0443415\n",
      "... Learning Rate       : 5.13342092745e-05\n",
      "... Momentum            : 0.788666665554\n",
      ". \n",
      "\n",
      ".. Epoch: 14 Era: 0\n"
     ]
    },
    {
     "name": "stderr",
     "output_type": "stream",
     "text": [
      "| training  100% Time: 0:00:02                                                 \n",
      "| validation  100% Time: 0:00:01                                               \n"
     ]
    },
    {
     "name": "stdout",
     "output_type": "stream",
     "text": [
      ".. Validation accuracy : 98.26\n",
      ".. Training accuracy : 98.812\n",
      ".. Best training accuracy\n",
      ".. Best validation accuracy\n",
      ".. Cost                : 0.039851\n",
      "... Learning Rate       : 4.87674988108e-05\n",
      "... Momentum            : 0.799333274364\n",
      ". \n",
      "\n",
      ".. Epoch: 15 Era: 0\n"
     ]
    },
    {
     "name": "stderr",
     "output_type": "stream",
     "text": [
      "| training  100% Time: 0:00:02                                                 \n",
      "| validation  100% Time: 0:00:01                                               \n"
     ]
    },
    {
     "name": "stdout",
     "output_type": "stream",
     "text": [
      ".. Validation accuracy : 98.24\n",
      ".. Training accuracy : 98.906\n",
      ".. Best training accuracy\n",
      ".. Cost                : 0.0360325\n",
      "... Learning Rate       : 4.63291253254e-05\n",
      "... Momentum            : 0.80999994278\n",
      ". \n",
      "\n",
      ".. Epoch: 16 Era: 0\n"
     ]
    },
    {
     "name": "stderr",
     "output_type": "stream",
     "text": [
      "| training  100% Time: 0:00:02                                                 \n",
      "| validation  100% Time: 0:00:01                                               \n"
     ]
    },
    {
     "name": "stdout",
     "output_type": "stream",
     "text": [
      ".. Validation accuracy : 98.22\n",
      ".. Training accuracy : 98.966\n",
      ".. Best training accuracy\n",
      ".. Cost                : 0.0327061\n",
      "... Learning Rate       : 4.40126677859e-05\n",
      "... Momentum            : 0.820666670799\n",
      ". \n",
      "\n",
      ".. Epoch: 17 Era: 0\n"
     ]
    },
    {
     "name": "stderr",
     "output_type": "stream",
     "text": [
      "| training  100% Time: 0:00:02                                                 \n",
      "| validation  100% Time: 0:00:01                                               \n"
     ]
    },
    {
     "name": "stdout",
     "output_type": "stream",
     "text": [
      ".. Validation accuracy : 98.17\n",
      ".. Training accuracy : 98.984\n",
      ".. Best training accuracy\n",
      ".. Cost                : 0.0297545\n",
      "... Learning Rate       : 4.18120325776e-05\n",
      "... Momentum            : 0.83133327961\n",
      ". \n",
      "\n",
      ".. Epoch: 18 Era: 0\n"
     ]
    },
    {
     "name": "stderr",
     "output_type": "stream",
     "text": [
      "| training  100% Time: 0:00:02                                                 \n",
      "| validation  100% Time: 0:00:01                                               \n"
     ]
    },
    {
     "name": "stdout",
     "output_type": "stream",
     "text": [
      ".. Validation accuracy : 98.2\n",
      ".. Training accuracy : 99.024\n",
      ".. Best training accuracy\n",
      ".. Cost                : 0.0271253\n",
      "... Learning Rate       : 3.97214316763e-05\n",
      "... Momentum            : 0.841999948025\n",
      ". \n",
      "\n",
      ".. Epoch: 19 Era: 0\n"
     ]
    },
    {
     "name": "stderr",
     "output_type": "stream",
     "text": [
      "| training  100% Time: 0:00:02                                                 \n",
      "| validation  100% Time: 0:00:01                                               \n"
     ]
    },
    {
     "name": "stdout",
     "output_type": "stream",
     "text": [
      ".. Validation accuracy : 98.18\n",
      ".. Training accuracy : 99.07\n",
      ".. Best training accuracy\n",
      ".. Cost                : 0.0248562\n",
      "... Learning Rate       : 3.77353608201e-05\n",
      "... Momentum            : 0.85266661644\n",
      ".. Learning rate was already lower than specified. Not changing it.\n",
      ".. Old learning rate was :3.58485922334e-05\n",
      ".. Was trying to change to: 0.001\n",
      ". \n",
      "\n",
      ".. Epoch: 20 Era: 1\n"
     ]
    },
    {
     "name": "stderr",
     "output_type": "stream",
     "text": [
      "| training  100% Time: 0:00:02                                                 \n",
      "| validation  100% Time: 0:00:01                                               \n"
     ]
    },
    {
     "name": "stdout",
     "output_type": "stream",
     "text": [
      ".. Validation accuracy : 98.19\n",
      ".. Training accuracy : 98.884\n",
      ".. Cost                : 0.0368601\n",
      "... Learning Rate       : 3.58485922334e-05\n",
      "... Momentum            : 0.863333284855\n",
      ". \n",
      "\n",
      ".. Epoch: 21 Era: 1\n"
     ]
    },
    {
     "name": "stderr",
     "output_type": "stream",
     "text": [
      "| training  100% Time: 0:00:02                                                 \n",
      "| validation  100% Time: 0:00:01                                               \n"
     ]
    },
    {
     "name": "stdout",
     "output_type": "stream",
     "text": [
      ".. Validation accuracy : 98.18\n",
      ".. Training accuracy : 98.934\n",
      ".. Cost                : 0.0334258\n",
      "... Learning Rate       : 3.40561637131e-05\n",
      "... Momentum            : 0.87399995327\n",
      ". \n",
      "\n",
      ".. Epoch: 22 Era: 1\n"
     ]
    },
    {
     "name": "stderr",
     "output_type": "stream",
     "text": [
      "| training  100% Time: 0:00:02                                                 \n",
      "| validation  100% Time: 0:00:01                                               \n"
     ]
    },
    {
     "name": "stdout",
     "output_type": "stream",
     "text": [
      ".. Validation accuracy : 98.17\n",
      ".. Training accuracy : 98.966\n",
      ".. Cost                : 0.030458\n",
      "... Learning Rate       : 3.23533568007e-05\n",
      "... Momentum            : 0.884666621685\n",
      ". \n",
      "\n",
      ".. Epoch: 23 Era: 1\n"
     ]
    },
    {
     "name": "stderr",
     "output_type": "stream",
     "text": [
      "| training  100% Time: 0:00:02                                                 \n",
      "| validation  100% Time: 0:00:01                                               \n"
     ]
    },
    {
     "name": "stdout",
     "output_type": "stream",
     "text": [
      ".. Validation accuracy : 98.21\n",
      ".. Training accuracy : 98.972\n",
      ".. Cost                : 0.027694\n",
      "... Learning Rate       : 3.07356895064e-05\n",
      "... Momentum            : 0.8953332901\n",
      ". \n",
      "\n",
      ".. Epoch: 24 Era: 1\n"
     ]
    },
    {
     "name": "stderr",
     "output_type": "stream",
     "text": [
      "| training  100% Time: 0:00:02                                                 \n",
      "| validation  100% Time: 0:00:01                                               \n"
     ]
    },
    {
     "name": "stdout",
     "output_type": "stream",
     "text": [
      ".. Validation accuracy : 98.1\n",
      ".. Training accuracy : 98.94\n",
      ".. Cost                : 0.025167\n",
      "... Learning Rate       : 2.91989053949e-05\n",
      "... Momentum            : 0.905999958515\n",
      ". \n",
      "\n",
      ".. Epoch: 25 Era: 1\n"
     ]
    },
    {
     "name": "stderr",
     "output_type": "stream",
     "text": [
      "| training  100% Time: 0:00:02                                                 \n",
      "| validation  100% Time: 0:00:01                                               \n"
     ]
    },
    {
     "name": "stdout",
     "output_type": "stream",
     "text": [
      ".. Validation accuracy : 98.07\n",
      ".. Training accuracy : 98.904\n",
      ".. Cost                : 0.0230637\n",
      "... Learning Rate       : 2.77389608527e-05\n",
      "... Momentum            : 0.91666662693\n",
      ". \n",
      "\n",
      ".. Epoch: 26 Era: 1\n"
     ]
    },
    {
     "name": "stderr",
     "output_type": "stream",
     "text": [
      "| training  100% Time: 0:00:02                                                 \n",
      "| validation  100% Time: 0:00:01                                               \n"
     ]
    },
    {
     "name": "stdout",
     "output_type": "stream",
     "text": [
      ".. Validation accuracy : 98.1\n",
      ".. Training accuracy : 98.944\n",
      ".. Cost                : 0.0214425\n",
      "... Learning Rate       : 2.63520123553e-05\n",
      "... Momentum            : 0.927333295345\n",
      ". \n",
      "\n",
      ".. Epoch: 27 Era: 1\n"
     ]
    },
    {
     "name": "stderr",
     "output_type": "stream",
     "text": [
      "| training  100% Time: 0:00:02                                                 \n",
      "| validation  100% Time: 0:00:01                                               \n"
     ]
    },
    {
     "name": "stdout",
     "output_type": "stream",
     "text": [
      ".. Validation accuracy : 98.14\n",
      ".. Training accuracy : 99.096\n",
      ".. Best training accuracy\n",
      ".. Cost                : 0.0211709\n",
      "... Learning Rate       : 2.503441101e-05\n",
      "... Momentum            : 0.93799996376\n",
      ". \n",
      "\n",
      ".. Epoch: 28 Era: 1\n"
     ]
    },
    {
     "name": "stderr",
     "output_type": "stream",
     "text": [
      "| training  100% Time: 0:00:02                                                 \n",
      "| validation  100% Time: 0:00:01                                               \n"
     ]
    },
    {
     "name": "stdout",
     "output_type": "stream",
     "text": [
      ".. Validation accuracy : 98.31\n",
      ".. Training accuracy : 99.31\n",
      ".. Best training accuracy\n",
      ".. Best validation accuracy\n",
      ".. Cost                : 0.0218001\n",
      "... Learning Rate       : 2.37826898228e-05\n",
      "... Momentum            : 0.948666632175\n",
      ". \n",
      "\n",
      ".. Epoch: 29 Era: 1\n"
     ]
    },
    {
     "name": "stderr",
     "output_type": "stream",
     "text": [
      "| training  100% Time: 0:00:02                                                 \n",
      "| validation  100% Time: 0:00:01                                               \n"
     ]
    },
    {
     "name": "stdout",
     "output_type": "stream",
     "text": [
      ".. Validation accuracy : 98.3\n",
      ".. Training accuracy : 99.232\n",
      ".. Cost                : 0.0222707\n",
      "... Learning Rate       : 2.25935546041e-05\n",
      "... Momentum            : 0.959333300591\n",
      ". \n",
      "\n",
      ".. Epoch: 30 Era: 1\n"
     ]
    },
    {
     "name": "stderr",
     "output_type": "stream",
     "text": [
      "| training  100% Time: 0:00:02                                                 \n",
      "| validation  100% Time: 0:00:01                                               \n"
     ]
    },
    {
     "name": "stdout",
     "output_type": "stream",
     "text": [
      ".. Validation accuracy : 98.17\n",
      ".. Training accuracy : 98.94\n",
      ".. Cost                : 0.0250492\n",
      "... Learning Rate       : 2.1463876692e-05\n",
      "... Momentum            : 0.969999969006\n",
      ". \n",
      "\n",
      ".. Epoch: 31 Era: 1\n"
     ]
    },
    {
     "name": "stderr",
     "output_type": "stream",
     "text": [
      "| training  100% Time: 0:00:02                                                 \n",
      "| validation  100% Time: 0:00:01                                               \n"
     ]
    },
    {
     "name": "stdout",
     "output_type": "stream",
     "text": [
      ".. Validation accuracy : 98.33\n",
      ".. Training accuracy : 99.236\n",
      ".. Best validation accuracy\n",
      ".. Cost                : 0.0261564\n",
      "... Learning Rate       : 2.03906820389e-05\n",
      "... Momentum            : 0.97000002861\n",
      ". \n",
      "\n",
      ".. Epoch: 32 Era: 1\n"
     ]
    },
    {
     "name": "stderr",
     "output_type": "stream",
     "text": [
      "| training  100% Time: 0:00:02                                                 \n",
      "| validation  100% Time: 0:00:01                                               \n"
     ]
    },
    {
     "name": "stdout",
     "output_type": "stream",
     "text": [
      ".. Validation accuracy : 98.52\n",
      ".. Training accuracy : 99.47\n",
      ".. Best training accuracy\n",
      ".. Best validation accuracy\n",
      ".. Cost                : 0.0215522\n",
      "... Learning Rate       : 1.93711475731e-05\n",
      "... Momentum            : 0.97000002861\n",
      ". \n",
      "\n",
      ".. Epoch: 33 Era: 1\n"
     ]
    },
    {
     "name": "stderr",
     "output_type": "stream",
     "text": [
      "| training  100% Time: 0:00:02                                                 \n",
      "| validation  100% Time: 0:00:01                                               \n"
     ]
    },
    {
     "name": "stdout",
     "output_type": "stream",
     "text": [
      ".. Validation accuracy : 98.48\n",
      ".. Training accuracy : 99.626\n",
      ".. Best training accuracy\n",
      ".. Cost                : 0.0145997\n",
      "... Learning Rate       : 1.84025902854e-05\n",
      "... Momentum            : 0.97000002861\n",
      ". \n",
      "\n",
      ".. Epoch: 34 Era: 1\n"
     ]
    },
    {
     "name": "stderr",
     "output_type": "stream",
     "text": [
      "| training  100% Time: 0:00:02                                                 \n",
      "| validation  100% Time: 0:00:01                                               \n"
     ]
    },
    {
     "name": "stdout",
     "output_type": "stream",
     "text": [
      ".. Validation accuracy : 98.66\n",
      ".. Training accuracy : 99.706\n",
      ".. Best training accuracy\n",
      ".. Best validation accuracy\n",
      ".. Cost                : 0.0115174\n",
      "... Learning Rate       : 1.74824599526e-05\n",
      "... Momentum            : 0.97000002861\n",
      ". \n",
      "\n",
      ".. Epoch: 35 Era: 1\n"
     ]
    },
    {
     "name": "stderr",
     "output_type": "stream",
     "text": [
      "| training  100% Time: 0:00:02                                                 \n",
      "| validation  100% Time: 0:00:01                                               \n"
     ]
    },
    {
     "name": "stdout",
     "output_type": "stream",
     "text": [
      ".. Validation accuracy : 98.63\n",
      ".. Training accuracy : 99.634\n",
      ".. Cost                : 0.0104252\n",
      "... Learning Rate       : 1.66083373188e-05\n",
      "... Momentum            : 0.97000002861\n",
      ". \n",
      "\n",
      ".. Epoch: 36 Era: 1\n"
     ]
    },
    {
     "name": "stderr",
     "output_type": "stream",
     "text": [
      "| training  100% Time: 0:00:02                                                 \n",
      "| validation  100% Time: 0:00:01                                               \n"
     ]
    },
    {
     "name": "stdout",
     "output_type": "stream",
     "text": [
      ".. Validation accuracy : 98.46\n",
      ".. Training accuracy : 99.512\n",
      ".. Cost                : 0.0109738\n",
      "... Learning Rate       : 1.57779195433e-05\n",
      "... Momentum            : 0.97000002861\n",
      ". \n",
      "\n",
      ".. Epoch: 37 Era: 1\n"
     ]
    },
    {
     "name": "stderr",
     "output_type": "stream",
     "text": [
      "| training  100% Time: 0:00:02                                                 \n",
      "| validation  100% Time: 0:00:01                                               \n"
     ]
    },
    {
     "name": "stdout",
     "output_type": "stream",
     "text": [
      ".. Validation accuracy : 98.59\n",
      ".. Training accuracy : 99.692\n",
      ".. Cost                : 0.00921145\n",
      "... Learning Rate       : 1.4989023839e-05\n",
      "... Momentum            : 0.97000002861\n",
      ". \n",
      "\n",
      ".. Epoch: 38 Era: 1\n"
     ]
    },
    {
     "name": "stderr",
     "output_type": "stream",
     "text": [
      "| training  100% Time: 0:00:02                                                 \n",
      "| validation  100% Time: 0:00:01                                               \n"
     ]
    },
    {
     "name": "stdout",
     "output_type": "stream",
     "text": [
      ".. Validation accuracy : 98.54\n",
      ".. Training accuracy : 99.72\n",
      ".. Best training accuracy\n",
      ".. Cost                : 0.00735605\n",
      "... Learning Rate       : 1.42395729199e-05\n",
      "... Momentum            : 0.97000002861\n",
      ". \n",
      "\n",
      ".. Epoch: 39 Era: 1\n"
     ]
    },
    {
     "name": "stderr",
     "output_type": "stream",
     "text": [
      "| training  100% Time: 0:00:02                                                 \n",
      "| validation  100% Time: 0:00:01                                               \n"
     ]
    },
    {
     "name": "stdout",
     "output_type": "stream",
     "text": [
      ".. Validation accuracy : 98.66\n",
      ".. Training accuracy : 99.79\n",
      ".. Best training accuracy\n",
      ".. Cost                : 0.00573931\n",
      "... Learning Rate       : 1.3527594092e-05\n",
      "... Momentum            : 0.97000002861\n",
      ".. Training complete.Took 7.28132636667 minutes\n",
      ".. Testing\n"
     ]
    },
    {
     "name": "stderr",
     "output_type": "stream",
     "text": [
      "| testing  100% Time: 0:00:00                                                  \n"
     ]
    },
    {
     "name": "stdout",
     "output_type": "stream",
     "text": [
      ".. Testing accuracy : 98.96\n",
      "None\n"
     ]
    }
   ],
   "source": [
    "from yann.network import network\n",
    "from yann.utils.graph import draw_network\n",
    "from yann.special.datasets import cook_mnist\n",
    "def lenet5 ( dataset= None, verbose = 1, regularization = None ):             \n",
    "    \"\"\"\n",
    "    This function is a demo example of lenet5 from the infamous paper by Yann LeCun. \n",
    "    This is an example code.  \n",
    "    \n",
    "    Warning:\n",
    "        This is not the exact implementation but a modern re-incarnation.\n",
    "\n",
    "    Args: \n",
    "        dataset: Supply a dataset.    \n",
    "        verbose: Similar to the rest of the dataset.\n",
    "    \"\"\"\n",
    "    optimizer_params =  {        \n",
    "                \"momentum_type\"       : 'nesterov',             \n",
    "                \"momentum_params\"     : (0.65, 0.97, 30),      \n",
    "                \"optimizer_type\"      : 'rmsprop',                \n",
    "                \"id\"                  : \"main\"\n",
    "                        }\n",
    "\n",
    "    dataset_params  = {\n",
    "                            \"dataset\"   : dataset,\n",
    "                            \"svm\"       : False, \n",
    "                            \"n_classes\" : 10,\n",
    "                            \"id\"        : 'data'\n",
    "                      }\n",
    "\n",
    "    visualizer_params = {\n",
    "                    \"root\"       : 'lenet5',\n",
    "                    \"frequency\"  : 1,\n",
    "                    \"sample_size\": 144,\n",
    "                    \"rgb_filters\": True,\n",
    "                    \"debug_functions\" : False,\n",
    "                    \"debug_layers\": False,  # Since we are on steroids this time, print everything.\n",
    "                    \"id\"         : 'main'\n",
    "                        }       \n",
    "\n",
    "    # intitialize the network\n",
    "    net = network(   borrow = True,\n",
    "                     verbose = verbose )                       \n",
    "    \n",
    "    # or you can add modules after you create the net.\n",
    "    net.add_module ( type = 'optimizer',\n",
    "                     params = optimizer_params, \n",
    "                     verbose = verbose )\n",
    "\n",
    "    net.add_module ( type = 'datastream', \n",
    "                     params = dataset_params,\n",
    "                     verbose = verbose )\n",
    "\n",
    "    net.add_module ( type = 'visualizer',\n",
    "                     params = visualizer_params,\n",
    "                     verbose = verbose \n",
    "                    )\n",
    "    # add an input layer \n",
    "    net.add_layer ( type = \"input\",\n",
    "                    id = \"input\",\n",
    "                    verbose = verbose, \n",
    "                    datastream_origin = 'data', # if you didnt add a dataset module, now is \n",
    "                                                 # the time. \n",
    "                    mean_subtract = False )\n",
    "    \n",
    "    # add first convolutional layer\n",
    "    net.add_layer ( type = \"conv_pool\",\n",
    "                    origin = \"input\",\n",
    "                    id = \"conv_pool_1\",\n",
    "                    num_neurons = 20,\n",
    "                    filter_size = (5,5),\n",
    "                    pool_size = (3,3),\n",
    "                    activation = ('maxout', 'maxout', 2),\n",
    "                    # regularize = True,\n",
    "                    verbose = verbose\n",
    "                    )\n",
    "\n",
    "    net.add_layer ( type = \"conv_pool\",\n",
    "                    origin = \"conv_pool_1\",\n",
    "                    id = \"conv_pool_2\",\n",
    "                    num_neurons = 50,\n",
    "                    filter_size = (3,3),\n",
    "                    pool_size = (1,1),\n",
    "                    activation = 'relu',\n",
    "                    # regularize = True,\n",
    "                    verbose = verbose\n",
    "                    )      \n",
    "\n",
    "\n",
    "    net.add_layer ( type = \"dot_product\",\n",
    "                    origin = \"conv_pool_2\",\n",
    "                    id = \"dot_product_1\",\n",
    "                    num_neurons = 1250,\n",
    "                    activation = 'relu',\n",
    "                    # regularize = True,\n",
    "                    verbose = verbose\n",
    "                    )\n",
    "\n",
    "    net.add_layer ( type = \"dot_product\",\n",
    "                    origin = \"dot_product_1\",\n",
    "                    id = \"dot_product_2\",\n",
    "                    num_neurons = 1250,                    \n",
    "                    activation = 'relu',  \n",
    "                    # regularize = True,    \n",
    "                    verbose = verbose\n",
    "                    ) \n",
    "    \n",
    "    net.add_layer ( type = \"classifier\",\n",
    "                    id = \"softmax\",\n",
    "                    origin = \"dot_product_2\",\n",
    "                    num_classes = 10,\n",
    "                    # regularize = True,\n",
    "                    activation = 'softmax',\n",
    "                    verbose = verbose\n",
    "                    )\n",
    "\n",
    "    net.add_layer ( type = \"objective\",\n",
    "                    id = \"obj\",\n",
    "                    origin = \"softmax\",\n",
    "                    objective = \"nll\",\n",
    "                    datastream_origin = 'data', \n",
    "                    regularization = regularization,                \n",
    "                    verbose = verbose\n",
    "                    )\n",
    "                    \n",
    "    learning_rates = (0.05, .0001, 0.001)  \n",
    "    net.pretty_print()  \n",
    "    draw_network(net.graph, filename = 'lenet.png')   \n",
    "\n",
    "    net.cook()\n",
    "\n",
    "    net.train( epochs = (20, 20), \n",
    "               validate_after_epochs = 1,\n",
    "               training_accuracy = True,\n",
    "               learning_rates = learning_rates,               \n",
    "               show_progress = True,\n",
    "               early_terminate = True,\n",
    "               patience = 2,\n",
    "               verbose = verbose)\n",
    "\n",
    "    print(net.test(verbose = verbose))\n",
    "data = cook_mnist()\n",
    "dataset = data.dataset_location()\n",
    "lenet5 ( dataset, verbose = 2)"
   ]
  }
 ],
 "metadata": {
  "kernelspec": {
   "display_name": "Python 2",
   "language": "python",
   "name": "python2"
  },
  "language_info": {
   "codemirror_mode": {
    "name": "ipython",
    "version": 2
   },
   "file_extension": ".py",
   "mimetype": "text/x-python",
   "name": "python",
   "nbconvert_exporter": "python",
   "pygments_lexer": "ipython2",
   "version": "2.7.13"
  }
 },
 "nbformat": 4,
 "nbformat_minor": 2
}
