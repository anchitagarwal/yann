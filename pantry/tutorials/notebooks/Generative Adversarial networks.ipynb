{
 "cells": [
  {
   "cell_type": "markdown",
   "metadata": {},
   "source": [
    "# Generative Adversarial Networks(GAN)\n",
    "GAN is one of the areas in the Neural Networks with a very fast pace of reasearch. Every week there is new GAN. To explain the concept of GAN, let's use a small anecdote to stage this concept. In old movies to sketch a criminal there will be an artist and a witness. Witness tells artist some details and witness validates his art and says if it is correct or not. If the imageis not similar to the criminal, artist will redraw it again with further changes. This process will be repeated until artist produces an image which is accepted by the witness. In other words witness unable to differentiate the artists imaginary art from the crimial. At this point they stop.\n",
    "\n",
    "GAN works similar to this idea. We have a generator network that generates random images and a Descriminator network that clssifies whether that image is fake or real. If the image is fake the descriminator discards the image and if image is real, it accepts it. This process continues until generator generates all real images. The generator is a decoder network from the autoencoder we discussed in the tutorial before. We take a random codeword and we pass it to the generator network to generate image. We take that generated image and feed it to descriminator to tell if it is a real or fake image. To achieve that we always keep our descriminator a step ahead.\n",
    "\n",
    "The following code shows the implementation of GAN using YANN:\n",
    "For GAN in YANN we need to use the yann.special.gan package which has similar functionalities like a network."
   ]
  },
  {
   "cell_type": "code",
   "execution_count": 1,
   "metadata": {},
   "outputs": [
    {
     "name": "stderr",
     "output_type": "stream",
     "text": [
      "WARNING (theano.sandbox.cuda): The cuda backend is deprecated and will be removed in the next release (v0.10).  Please switch to the gpuarray backend. You can get more information about how to switch at this URL:\n",
      " https://github.com/Theano/Theano/wiki/Converting-to-the-new-gpu-back-end%28gpuarray%29\n",
      "\n",
      "Using gpu device 0: GeForce GTX 750 Ti (CNMeM is enabled with initial size: 80.0% of memory, cuDNN 5110)\n"
     ]
    },
    {
     "name": "stdout",
     "output_type": "stream",
     "text": [
      " creating a new dataset to run through\n",
      ". Setting up dataset \n",
      ".. setting up skdata\n",
      "... Importing mnist from skdata\n",
      ".. setting up dataset\n",
      ".. training data\n",
      ".. validation data \n",
      ".. testing data \n",
      ". Dataset 60713 is created.\n",
      ". Time taken is 0.890919 seconds\n",
      ". Initializing the network\n",
      ".. Setting up the datastream\n",
      ".. Setting up the visualizer\n",
      ".. Adding random layer z\n",
      ".. Adding input layer x\n",
      ".. Adding dot_product layer G(z)\n",
      ".. Adding dot_product layer D(x)\n",
      ".. Adding flatten layer 4\n",
      ".. Adding dot_product layer D(G(z))\n",
      ".. Adding dot_product layer real\n",
      ".. Adding dot_product layer fake\n",
      ".. Adding classifier layer softmax\n",
      ".. Adding tensor layer discriminator_task\n",
      ".. Adding objective layer discriminator_obj\n",
      ".. Adding tensor layer objective_task\n",
      ".. Adding objective layer generator_obj\n",
      ".. Adding objective layer classifier_obj\n",
      ".. Saving the network down as an image\n",
      ".. This method will be deprecated with the implementation of a visualizer,also this works only for tree-like networks. This will cause errors in printing DAG-style networks.\n",
      " |-\n",
      " |-\n",
      " |-\n",
      " |- id: objective_task\n",
      " |-=================------------------\n",
      " |- type: tensor\n",
      " |- output shape: (1,)\n",
      " |------------------------------------\n",
      "          |-\n",
      "          |-\n",
      "          |-\n",
      "          |- id: generator_obj\n",
      "          |-=================------------------\n",
      "          |- type: objective\n",
      "          |- output shape: (1,)\n",
      "          |------------------------------------\n",
      " |-\n",
      " |-\n",
      " |-\n",
      " |- id: x\n",
      " |-=================------------------\n",
      " |- type: input\n",
      " |- output shape: (500, 1, 28, 28)\n",
      " |------------------------------------\n",
      "          |-\n",
      "          |-\n",
      "          |-\n",
      "          |- id: 4\n",
      "          |-=================------------------\n",
      "          |- type: flatten\n",
      "          |- output shape: (500, 784)\n",
      "          |------------------------------------\n",
      "                   |-\n",
      "                   |-\n",
      "                   |-\n",
      "                   |- id: D(x)\n",
      "                   |-=================------------------\n",
      "                   |- type: dot_product\n",
      "                   |- output shape: (500, 800)\n",
      "                   |- batch norm is OFF\n",
      "                   |------------------------------------\n",
      "                            |-\n",
      "                            |-\n",
      "                            |-\n",
      "                            |- id: real\n",
      "                            |-=================------------------\n",
      "                            |- type: dot_product\n",
      "                            |- output shape: (500, 1)\n",
      "                            |- batch norm is OFF\n",
      "                            |------------------------------------\n",
      "                            |-\n",
      "                            |-\n",
      "                            |-\n",
      "                            |- id: softmax\n",
      "                            |-=================------------------\n",
      "                            |- type: classifier\n",
      "                            |- output shape: (500, 10)\n",
      "                            |------------------------------------\n",
      "                                     |-\n",
      "                                     |-\n",
      "                                     |-\n",
      "                                     |- id: classifier_obj\n",
      "                                     |-=================------------------\n",
      "                                     |- type: objective\n",
      "                                     |- output shape: (1,)\n",
      "                                     |------------------------------------\n",
      " |-\n",
      " |-\n",
      " |-\n",
      " |- id: z\n",
      " |-=================------------------\n",
      " |- type: random\n",
      " |- output shape: (100, 32)\n",
      " |------------------------------------\n",
      "          |-\n",
      "          |-\n",
      "          |-\n",
      "          |- id: G(z)\n",
      "          |-=================------------------\n",
      "          |- type: dot_product\n",
      "          |- output shape: (100, 784)\n",
      "          |- batch norm is OFF\n",
      "          |------------------------------------\n",
      "          |        |-\n",
      "          |        |-\n",
      "          |        |-\n",
      "          |        |- id: D(G(z))\n",
      "          |        |-=================------------------\n",
      "          |        |- type: dot_product\n",
      "          |        |- output shape: (100, 800)\n",
      "          |        |- batch norm is OFF\n",
      "          |        |------------------------------------\n",
      "          |                 |-\n",
      "          |                 |-\n",
      "          |                 |-\n",
      "          |                 |- id: fake\n",
      "          |                 |-=================------------------\n",
      "          |                 |- type: dot_product\n",
      "          |                 |- output shape: (100, 1)\n",
      "          |                 |- batch norm is OFF\n",
      "          |                 |------------------------------------\n",
      "          |-\n",
      "          |-\n",
      "          |-\n",
      "          |- id: G(z)\n",
      "          |-=================------------------\n",
      "          |- type: dot_product\n",
      "          |- output shape: (100, 784)\n",
      "          |- batch norm is OFF\n",
      "          |------------------------------------\n",
      "                   |-\n",
      "                   |-\n",
      "                   |-\n",
      "                   |- id: D(G(z))\n",
      "                   |-=================------------------\n",
      "                   |- type: dot_product\n",
      "                   |- output shape: (100, 800)\n",
      "                   |- batch norm is OFF\n",
      "                   |------------------------------------\n",
      "                            |-\n",
      "                            |-\n",
      "                            |-\n",
      "                            |- id: fake\n",
      "                            |-=================------------------\n",
      "                            |- type: dot_product\n",
      "                            |- output shape: (100, 1)\n",
      "                            |- batch norm is OFF\n",
      "                            |------------------------------------\n",
      " |-\n",
      " |-\n",
      " |-\n",
      " |- id: discriminator_task\n",
      " |-=================------------------\n",
      " |- type: tensor\n",
      " |- output shape: (1,)\n",
      " |------------------------------------\n",
      "          |-\n",
      "          |-\n",
      "          |-\n",
      "          |- id: discriminator_obj\n",
      "          |-=================------------------\n",
      "          |- type: objective\n",
      "          |- output shape: (1,)\n",
      "          |------------------------------------\n",
      ".. Cooking the network\n",
      ".. Setting up the resultor\n",
      ".. Setting up the optimizer\n",
      ".. Setting up the optimizer\n",
      ".. Setting up the optimizer\n",
      ". Training\n",
      ".\n",
      "\n",
      "\n",
      ".. Pre-Training Epoch: 0\n"
     ]
    },
    {
     "name": "stderr",
     "output_type": "stream",
     "text": [
      "| training  100% Time: 0:00:00                                                 \n",
      "| validation    0% ETA:  --:--:--                                              \r"
     ]
    },
    {
     "name": "stdout",
     "output_type": "stream",
     "text": [
      ".. Discriminator Softmax Cost       : 19.0017\n"
     ]
    },
    {
     "name": "stderr",
     "output_type": "stream",
     "text": [
      "| validation  100% Time: 0:00:00                                               \n"
     ]
    },
    {
     "name": "stdout",
     "output_type": "stream",
     "text": [
      ".. Validation accuracy : 88.69\n",
      ".. Training accuracy : 87.728\n",
      ".. Best training accuracy\n",
      ".. Best validation accuracy\n",
      ".\n",
      "\n",
      "\n",
      ".. Pre-Training Epoch: 1\n"
     ]
    },
    {
     "name": "stderr",
     "output_type": "stream",
     "text": [
      "| training  100% Time: 0:00:00                                                 \n",
      "| validation    0% ETA:  --:--:--                                              \r"
     ]
    },
    {
     "name": "stdout",
     "output_type": "stream",
     "text": [
      ".. Discriminator Softmax Cost       : 0.634408\n"
     ]
    },
    {
     "name": "stderr",
     "output_type": "stream",
     "text": [
      "| validation  100% Time: 0:00:00                                               \n"
     ]
    },
    {
     "name": "stdout",
     "output_type": "stream",
     "text": [
      ".. Validation accuracy : 89.11\n",
      ".. Training accuracy : 87.636\n",
      ".. Best validation accuracy\n",
      ".\n",
      "\n",
      "\n",
      ".. Pre-Training Epoch: 2\n"
     ]
    },
    {
     "name": "stderr",
     "output_type": "stream",
     "text": [
      "| training  100% Time: 0:00:00                                                 \n",
      "| validation    0% ETA:  --:--:--                                              \r"
     ]
    },
    {
     "name": "stdout",
     "output_type": "stream",
     "text": [
      ".. Discriminator Softmax Cost       : 0.690765\n"
     ]
    },
    {
     "name": "stderr",
     "output_type": "stream",
     "text": [
      "| validation  100% Time: 0:00:00                                               \n"
     ]
    },
    {
     "name": "stdout",
     "output_type": "stream",
     "text": [
      ".. Validation accuracy : 90.52\n",
      ".. Training accuracy : 89.722\n",
      ".. Best training accuracy\n",
      ".. Best validation accuracy\n",
      ".. Pre- Training complete.Took 0.181362733333 minutes\n",
      ".\n",
      "\n",
      "\n",
      ".. Epoch: 0 Era: 0\n"
     ]
    },
    {
     "name": "stderr",
     "output_type": "stream",
     "text": [
      "| training  100% Time: 0:00:00                                                 \n",
      "| validation    6% ETA:  0:00:01                                               \r"
     ]
    },
    {
     "name": "stdout",
     "output_type": "stream",
     "text": [
      ".. Discriminator Sigmoid D(x)   : 0.622721\n",
      ".. Generator Sigmoid D(G(z))         : 0.422515\n"
     ]
    },
    {
     "name": "stderr",
     "output_type": "stream",
     "text": [
      "| validation  100% Time: 0:00:00                                               \n"
     ]
    },
    {
     "name": "stdout",
     "output_type": "stream",
     "text": [
      ".. Validation accuracy : 82.69\n",
      ".. Training accuracy : 80.798\n",
      ".\n",
      "\n",
      "\n",
      ".. Epoch: 1 Era: 0\n"
     ]
    },
    {
     "name": "stderr",
     "output_type": "stream",
     "text": [
      "| training  100% Time: 0:00:00                                                 \n",
      "| validation    0% ETA:  --:--:--                                              \r"
     ]
    },
    {
     "name": "stdout",
     "output_type": "stream",
     "text": [
      ".. Discriminator Sigmoid D(x)   : 0.584707\n",
      ".. Generator Sigmoid D(G(z))         : 0.312661\n"
     ]
    },
    {
     "name": "stderr",
     "output_type": "stream",
     "text": [
      "| validation  100% Time: 0:00:00                                               \n"
     ]
    },
    {
     "name": "stdout",
     "output_type": "stream",
     "text": [
      ".. Validation accuracy : 76.8\n",
      ".. Training accuracy : 75.728\n",
      ".\n",
      "\n",
      "\n",
      ".. Epoch: 2 Era: 0\n"
     ]
    },
    {
     "name": "stderr",
     "output_type": "stream",
     "text": [
      "| training  100% Time: 0:00:00                                                 \n",
      "| validation    6% ETA:  0:00:01                                               \r"
     ]
    },
    {
     "name": "stdout",
     "output_type": "stream",
     "text": [
      ".. Discriminator Sigmoid D(x)   : 0.823963\n",
      ".. Generator Sigmoid D(G(z))         : 0.57011\n"
     ]
    },
    {
     "name": "stderr",
     "output_type": "stream",
     "text": [
      "| validation  100% Time: 0:00:00                                               \n"
     ]
    },
    {
     "name": "stdout",
     "output_type": "stream",
     "text": [
      ".. Validation accuracy : 76.38\n",
      ".. Training accuracy : 74.724\n",
      ".\n",
      "\n",
      "\n",
      ".. Epoch: 3 Era: 0\n"
     ]
    },
    {
     "name": "stderr",
     "output_type": "stream",
     "text": [
      "| training  100% Time: 0:00:00                                                 \n",
      "| validation    0% ETA:  --:--:--                                              \r"
     ]
    },
    {
     "name": "stdout",
     "output_type": "stream",
     "text": [
      ".. Discriminator Sigmoid D(x)   : 0.572462\n",
      ".. Generator Sigmoid D(G(z))         : 0.40043\n"
     ]
    },
    {
     "name": "stderr",
     "output_type": "stream",
     "text": [
      "| validation  100% Time: 0:00:00                                               \n"
     ]
    },
    {
     "name": "stdout",
     "output_type": "stream",
     "text": [
      ".. Validation accuracy : 77.75\n",
      ".. Training accuracy : 76.034\n",
      ".\n",
      "\n",
      "\n",
      ".. Epoch: 4 Era: 0\n"
     ]
    },
    {
     "name": "stderr",
     "output_type": "stream",
     "text": [
      "| training  100% Time: 0:00:00                                                 \n",
      "| validation    6% ETA:  0:00:01                                               \r"
     ]
    },
    {
     "name": "stdout",
     "output_type": "stream",
     "text": [
      ".. Discriminator Sigmoid D(x)   : 0.859632\n",
      ".. Generator Sigmoid D(G(z))         : 0.686642\n"
     ]
    },
    {
     "name": "stderr",
     "output_type": "stream",
     "text": [
      "| validation  100% Time: 0:00:00                                               \n"
     ]
    },
    {
     "name": "stdout",
     "output_type": "stream",
     "text": [
      ".. Validation accuracy : 80.35\n",
      ".. Training accuracy : 78.6\n",
      ".\n",
      "\n",
      "\n",
      ".. Epoch: 5 Era: 0\n"
     ]
    },
    {
     "name": "stderr",
     "output_type": "stream",
     "text": [
      "| training  100% Time: 0:00:00                                                 \n",
      "| validation    0% ETA:  --:--:--                                              \r"
     ]
    },
    {
     "name": "stdout",
     "output_type": "stream",
     "text": [
      ".. Discriminator Sigmoid D(x)   : 0.527774\n",
      ".. Generator Sigmoid D(G(z))         : 0.37337\n"
     ]
    },
    {
     "name": "stderr",
     "output_type": "stream",
     "text": [
      "| validation  100% Time: 0:00:00                                               \n"
     ]
    },
    {
     "name": "stdout",
     "output_type": "stream",
     "text": [
      ".. Validation accuracy : 83.96\n",
      ".. Training accuracy : 82.402\n",
      ".\n",
      "\n",
      "\n",
      ".. Epoch: 6 Era: 0\n"
     ]
    },
    {
     "name": "stderr",
     "output_type": "stream",
     "text": [
      "| training  100% Time: 0:00:00                                                 \n",
      "| validation    6% ETA:  0:00:01                                               \r"
     ]
    },
    {
     "name": "stdout",
     "output_type": "stream",
     "text": [
      ".. Discriminator Sigmoid D(x)   : 0.611699\n",
      ".. Generator Sigmoid D(G(z))         : 0.455202\n"
     ]
    },
    {
     "name": "stderr",
     "output_type": "stream",
     "text": [
      "| validation  100% Time: 0:00:00                                               \n"
     ]
    },
    {
     "name": "stdout",
     "output_type": "stream",
     "text": [
      ".. Validation accuracy : 85.0\n",
      ".. Training accuracy : 83.0\n",
      ".\n",
      "\n",
      "\n",
      ".. Epoch: 7 Era: 0\n"
     ]
    },
    {
     "name": "stderr",
     "output_type": "stream",
     "text": [
      "| training  100% ETA:  0:00:00                                                 \r"
     ]
    },
    {
     "name": "stdout",
     "output_type": "stream",
     "text": [
      ".. Discriminator Sigmoid D(x)   : 0.743451\n",
      ".. Generator Sigmoid D(G(z))         : 0.64773\n"
     ]
    },
    {
     "name": "stderr",
     "output_type": "stream",
     "text": [
      "| training  100% Time: 0:00:00                                                 \n",
      "| validation  100% Time: 0:00:00                                               \n"
     ]
    },
    {
     "name": "stdout",
     "output_type": "stream",
     "text": [
      ".. Validation accuracy : 78.24\n",
      ".. Training accuracy : 76.71\n",
      ".\n",
      "\n",
      "\n",
      ".. Epoch: 8 Era: 0\n"
     ]
    },
    {
     "name": "stderr",
     "output_type": "stream",
     "text": [
      "| training  100% Time: 0:00:00                                                 \n",
      "| validation    0% ETA:  --:--:--                                              \r"
     ]
    },
    {
     "name": "stdout",
     "output_type": "stream",
     "text": [
      ".. Discriminator Sigmoid D(x)   : 0.575549\n",
      ".. Generator Sigmoid D(G(z))         : 0.406572\n"
     ]
    },
    {
     "name": "stderr",
     "output_type": "stream",
     "text": [
      "| validation  100% Time: 0:00:00                                               \n"
     ]
    },
    {
     "name": "stdout",
     "output_type": "stream",
     "text": [
      ".. Validation accuracy : 82.22\n",
      ".. Training accuracy : 81.058\n",
      ".\n",
      "\n",
      "\n",
      ".. Epoch: 9 Era: 0\n"
     ]
    },
    {
     "name": "stderr",
     "output_type": "stream",
     "text": [
      "| training  100% Time: 0:00:00                                                 \n",
      "| validation   33% ETA:  0:00:00                                               \r"
     ]
    },
    {
     "name": "stdout",
     "output_type": "stream",
     "text": [
      ".. Discriminator Sigmoid D(x)   : 0.342317\n",
      ".. Generator Sigmoid D(G(z))         : 0.287621\n"
     ]
    },
    {
     "name": "stderr",
     "output_type": "stream",
     "text": [
      "/ validation   35% ETA:  0:00:00                                               \r",
      "- validation   36% ETA:  0:00:00                                               \r",
      "\\ validation   38% ETA:  0:00:00                                               \r",
      "| validation   40% ETA:  0:00:00                                               \r",
      "/ validation   41% ETA:  0:00:00                                               \r",
      "- validation   43% ETA:  0:00:00                                               \r",
      "\\ validation   45% ETA:  0:00:00                                               \r",
      "| validation   46% ETA:  0:00:00                                               \r",
      "/ validation   48% ETA:  0:00:00                                               \r",
      "- validation   50% ETA:  0:00:00                                               \r",
      "\\ validation   51% ETA:  0:00:00                                               \r",
      "| validation   53% ETA:  0:00:00                                               \r",
      "/ validation   55% ETA:  0:00:00                                               \r",
      "- validation   56% ETA:  0:00:00                                               \r",
      "\\ validation   58% ETA:  0:00:00                                               \r",
      "| validation   60% ETA:  0:00:00                                               \r",
      "/ validation   61% ETA:  0:00:00                                               \r",
      "- validation   63% ETA:  0:00:00                                               \r",
      "\\ validation   65% ETA:  0:00:00                                               \r",
      "| validation   66% ETA:  0:00:00                                               \r",
      "/ validation   68% ETA:  0:00:00                                               \r",
      "- validation   70% ETA:  0:00:00                                               \r",
      "\\ validation   71% ETA:  0:00:00                                               \r",
      "| validation   73% ETA:  0:00:00                                               \r",
      "/ validation   75% ETA:  0:00:00                                               \r",
      "- validation   76% ETA:  0:00:00                                               \r",
      "\\ validation   78% ETA:  0:00:00                                               \r",
      "| validation   80% ETA:  0:00:00                                               \r",
      "/ validation   81% ETA:  0:00:00                                               \r",
      "- validation   83% ETA:  0:00:00                                               \r",
      "\\ validation   85% ETA:  0:00:00                                               \r",
      "| validation   86% ETA:  0:00:00                                               \r",
      "/ validation   88% ETA:  0:00:00                                               \r",
      "- validation   90% ETA:  0:00:00                                               \r",
      "\\ validation   91% ETA:  0:00:00                                               \r",
      "| validation   93% ETA:  0:00:00                                               \r",
      "/ validation   95% ETA:  0:00:00                                               \r",
      "- validation   96% ETA:  0:00:00                                               \r",
      "\\ validation   98% ETA:  0:00:00                                               \r",
      "| validation  100% ETA:  0:00:00                                               \r",
      "| validation  100% Time: 0:00:00                                               \r\n"
     ]
    },
    {
     "name": "stdout",
     "output_type": "stream",
     "text": [
      ".. Validation accuracy : 76.24\n",
      ".. Training accuracy : 74.368\n",
      ".\n",
      "\n",
      "\n",
      ".. Epoch: 10 Era: 0\n"
     ]
    },
    {
     "name": "stderr",
     "output_type": "stream",
     "text": [
      "| training  100% Time: 0:00:00                                                 \n",
      "| validation    0% ETA:  --:--:--                                              \r"
     ]
    },
    {
     "name": "stdout",
     "output_type": "stream",
     "text": [
      ".. Discriminator Sigmoid D(x)   : 0.533018\n",
      ".. Generator Sigmoid D(G(z))         : 0.373018\n"
     ]
    },
    {
     "name": "stderr",
     "output_type": "stream",
     "text": [
      "| validation  100% Time: 0:00:00                                               \n"
     ]
    },
    {
     "name": "stdout",
     "output_type": "stream",
     "text": [
      ".. Validation accuracy : 86.94\n",
      ".. Training accuracy : 85.57\n",
      ".\n",
      "\n",
      "\n",
      ".. Epoch: 11 Era: 0\n"
     ]
    },
    {
     "name": "stderr",
     "output_type": "stream",
     "text": [
      "| training  100% Time: 0:00:00                                                 \n",
      "| validation    0% ETA:  --:--:--                                              \r"
     ]
    },
    {
     "name": "stdout",
     "output_type": "stream",
     "text": [
      ".. Discriminator Sigmoid D(x)   : 0.627197\n",
      ".. Generator Sigmoid D(G(z))         : 0.529224\n"
     ]
    },
    {
     "name": "stderr",
     "output_type": "stream",
     "text": [
      "| validation  100% Time: 0:00:00                                               \n"
     ]
    },
    {
     "name": "stdout",
     "output_type": "stream",
     "text": [
      ".. Validation accuracy : 89.11\n",
      ".. Training accuracy : 87.852\n",
      ".\n",
      "\n",
      "\n",
      ".. Epoch: 12 Era: 0\n"
     ]
    },
    {
     "name": "stderr",
     "output_type": "stream",
     "text": [
      "| training  100% Time: 0:00:00                                                 \n",
      "| validation    0% ETA:  --:--:--                                              \r"
     ]
    },
    {
     "name": "stdout",
     "output_type": "stream",
     "text": [
      ".. Discriminator Sigmoid D(x)   : 0.509487\n",
      ".. Generator Sigmoid D(G(z))         : 0.388974\n"
     ]
    },
    {
     "name": "stderr",
     "output_type": "stream",
     "text": [
      "| validation  100% Time: 0:00:00                                               \n"
     ]
    },
    {
     "name": "stdout",
     "output_type": "stream",
     "text": [
      ".. Validation accuracy : 90.37\n",
      ".. Training accuracy : 89.298\n",
      ".\n",
      "\n",
      "\n",
      ".. Epoch: 13 Era: 0\n"
     ]
    },
    {
     "name": "stderr",
     "output_type": "stream",
     "text": [
      "| training  100% Time: 0:00:00                                                 \n",
      "/ validation   35% ETA:  0:00:00                                               \r"
     ]
    },
    {
     "name": "stdout",
     "output_type": "stream",
     "text": [
      ".. Discriminator Sigmoid D(x)   : 0.546393\n",
      ".. Generator Sigmoid D(G(z))         : 0.453736\n"
     ]
    },
    {
     "name": "stderr",
     "output_type": "stream",
     "text": [
      "- validation   36% ETA:  0:00:00                                               \r",
      "\\ validation   38% ETA:  0:00:00                                               \r",
      "| validation   40% ETA:  0:00:00                                               \r",
      "/ validation   41% ETA:  0:00:00                                               \r",
      "- validation   43% ETA:  0:00:00                                               \r",
      "\\ validation   45% ETA:  0:00:00                                               \r",
      "| validation   46% ETA:  0:00:00                                               \r",
      "/ validation   48% ETA:  0:00:00                                               \r",
      "- validation   50% ETA:  0:00:00                                               \r",
      "\\ validation   51% ETA:  0:00:00                                               \r",
      "| validation   53% ETA:  0:00:00                                               \r",
      "/ validation   55% ETA:  0:00:00                                               \r",
      "- validation   56% ETA:  0:00:00                                               \r",
      "\\ validation   58% ETA:  0:00:00                                               \r",
      "| validation   60% ETA:  0:00:00                                               \r",
      "/ validation   61% ETA:  0:00:00                                               \r",
      "- validation   63% ETA:  0:00:00                                               \r",
      "\\ validation   65% ETA:  0:00:00                                               \r",
      "| validation   66% ETA:  0:00:00                                               \r",
      "/ validation   68% ETA:  0:00:00                                               \r",
      "- validation   70% ETA:  0:00:00                                               \r",
      "\\ validation   71% ETA:  0:00:00                                               \r",
      "| validation   73% ETA:  0:00:00                                               \r",
      "/ validation   75% ETA:  0:00:00                                               \r",
      "- validation   76% ETA:  0:00:00                                               \r",
      "\\ validation   78% ETA:  0:00:00                                               \r",
      "| validation   80% ETA:  0:00:00                                               \r",
      "/ validation   81% ETA:  0:00:00                                               \r",
      "- validation   83% ETA:  0:00:00                                               \r",
      "\\ validation   85% ETA:  0:00:00                                               \r",
      "| validation   86% ETA:  0:00:00                                               \r",
      "/ validation   88% ETA:  0:00:00                                               \r",
      "- validation   90% ETA:  0:00:00                                               \r",
      "\\ validation   91% ETA:  0:00:00                                               \r",
      "| validation   93% ETA:  0:00:00                                               \r",
      "/ validation   95% ETA:  0:00:00                                               \r",
      "- validation   96% ETA:  0:00:00                                               \r",
      "\\ validation   98% ETA:  0:00:00                                               \r",
      "| validation  100% ETA:  0:00:00                                               \r",
      "| validation  100% Time: 0:00:00                                               \r\n"
     ]
    },
    {
     "name": "stdout",
     "output_type": "stream",
     "text": [
      ".. Validation accuracy : 87.47\n",
      ".. Training accuracy : 86.172\n",
      ".\n",
      "\n",
      "\n",
      ".. Epoch: 14 Era: 0\n"
     ]
    },
    {
     "name": "stderr",
     "output_type": "stream",
     "text": [
      "| training  100% Time: 0:00:00                                                 \n",
      "| validation    6% ETA:  0:00:01                                               \r"
     ]
    },
    {
     "name": "stdout",
     "output_type": "stream",
     "text": [
      ".. Discriminator Sigmoid D(x)   : 0.455782\n",
      ".. Generator Sigmoid D(G(z))         : 0.345936\n"
     ]
    },
    {
     "name": "stderr",
     "output_type": "stream",
     "text": [
      "| validation  100% Time: 0:00:00                                               \n"
     ]
    },
    {
     "name": "stdout",
     "output_type": "stream",
     "text": [
      ".. Validation accuracy : 87.7\n",
      ".. Training accuracy : 86.466\n",
      ".\n",
      "\n",
      "\n",
      ".. Epoch: 15 Era: 0\n"
     ]
    },
    {
     "name": "stderr",
     "output_type": "stream",
     "text": [
      "| training  100% Time: 0:00:00                                                 \n",
      "| validation    0% ETA:  --:--:--                                              \r"
     ]
    },
    {
     "name": "stdout",
     "output_type": "stream",
     "text": [
      ".. Discriminator Sigmoid D(x)   : 0.479013\n",
      ".. Generator Sigmoid D(G(z))         : 0.40071\n"
     ]
    },
    {
     "name": "stderr",
     "output_type": "stream",
     "text": [
      "| validation  100% Time: 0:00:00                                               \n"
     ]
    },
    {
     "name": "stdout",
     "output_type": "stream",
     "text": [
      ".. Validation accuracy : 87.43\n",
      ".. Training accuracy : 86.022\n",
      ".\n",
      "\n",
      "\n",
      ".. Epoch: 16 Era: 0\n"
     ]
    },
    {
     "name": "stderr",
     "output_type": "stream",
     "text": [
      "| training  100% Time: 0:00:00                                                 \n",
      "| validation    0% ETA:  --:--:--                                              \r"
     ]
    },
    {
     "name": "stdout",
     "output_type": "stream",
     "text": [
      ".. Discriminator Sigmoid D(x)   : 0.529526\n",
      ".. Generator Sigmoid D(G(z))         : 0.427006\n"
     ]
    },
    {
     "name": "stderr",
     "output_type": "stream",
     "text": [
      "| validation  100% Time: 0:00:00                                               \n"
     ]
    },
    {
     "name": "stdout",
     "output_type": "stream",
     "text": [
      ".. Validation accuracy : 87.65\n",
      ".. Training accuracy : 86.724\n",
      ".\n",
      "\n",
      "\n",
      ".. Epoch: 17 Era: 0\n"
     ]
    },
    {
     "name": "stderr",
     "output_type": "stream",
     "text": [
      "| training  100% Time: 0:00:00                                                 \n",
      "/ validation   35% ETA:  0:00:00                                               \r"
     ]
    },
    {
     "name": "stdout",
     "output_type": "stream",
     "text": [
      ".. Discriminator Sigmoid D(x)   : 0.507176\n",
      ".. Generator Sigmoid D(G(z))         : 0.410834\n"
     ]
    },
    {
     "name": "stderr",
     "output_type": "stream",
     "text": [
      "- validation   36% ETA:  0:00:00                                               \r",
      "\\ validation   38% ETA:  0:00:00                                               \r",
      "| validation   40% ETA:  0:00:00                                               \r",
      "/ validation   41% ETA:  0:00:00                                               \r",
      "- validation   43% ETA:  0:00:00                                               \r",
      "\\ validation   45% ETA:  0:00:00                                               \r",
      "| validation   46% ETA:  0:00:00                                               \r",
      "/ validation   48% ETA:  0:00:00                                               \r",
      "- validation   50% ETA:  0:00:00                                               \r",
      "\\ validation   51% ETA:  0:00:00                                               \r",
      "| validation   53% ETA:  0:00:00                                               \r",
      "/ validation   55% ETA:  0:00:00                                               \r",
      "- validation   56% ETA:  0:00:00                                               \r",
      "\\ validation   58% ETA:  0:00:00                                               \r",
      "| validation   60% ETA:  0:00:00                                               \r",
      "/ validation   61% ETA:  0:00:00                                               \r",
      "- validation   63% ETA:  0:00:00                                               \r",
      "\\ validation   65% ETA:  0:00:00                                               \r",
      "| validation   66% ETA:  0:00:00                                               \r",
      "/ validation   68% ETA:  0:00:00                                               \r",
      "- validation   70% ETA:  0:00:00                                               \r",
      "\\ validation   71% ETA:  0:00:00                                               \r",
      "| validation   73% ETA:  0:00:00                                               \r",
      "/ validation   75% ETA:  0:00:00                                               \r",
      "- validation   76% ETA:  0:00:00                                               \r",
      "\\ validation   78% ETA:  0:00:00                                               \r",
      "| validation   80% ETA:  0:00:00                                               \r",
      "/ validation   81% ETA:  0:00:00                                               \r",
      "- validation   83% ETA:  0:00:00                                               \r",
      "\\ validation   85% ETA:  0:00:00                                               \r",
      "| validation   86% ETA:  0:00:00                                               \r",
      "/ validation   88% ETA:  0:00:00                                               \r",
      "- validation   90% ETA:  0:00:00                                               \r",
      "\\ validation   91% ETA:  0:00:00                                               \r",
      "| validation   93% ETA:  0:00:00                                               \r",
      "/ validation   95% ETA:  0:00:00                                               \r",
      "- validation   96% ETA:  0:00:00                                               \r",
      "\\ validation   98% ETA:  0:00:00                                               \r",
      "| validation  100% ETA:  0:00:00                                               \r",
      "| validation  100% Time: 0:00:00                                               \r\n"
     ]
    },
    {
     "name": "stdout",
     "output_type": "stream",
     "text": [
      ".. Validation accuracy : 88.23\n",
      ".. Training accuracy : 87.546\n",
      ".\n",
      "\n",
      "\n",
      ".. Epoch: 18 Era: 0\n"
     ]
    },
    {
     "name": "stderr",
     "output_type": "stream",
     "text": [
      "| training  100% Time: 0:00:00                                                 \n",
      "| validation    0% ETA:  --:--:--                                              \r"
     ]
    },
    {
     "name": "stdout",
     "output_type": "stream",
     "text": [
      ".. Discriminator Sigmoid D(x)   : 0.647033\n",
      ".. Generator Sigmoid D(G(z))         : 0.546981\n"
     ]
    },
    {
     "name": "stderr",
     "output_type": "stream",
     "text": [
      "| validation  100% Time: 0:00:00                                               \n"
     ]
    },
    {
     "name": "stdout",
     "output_type": "stream",
     "text": [
      ".. Validation accuracy : 90.56\n",
      ".. Training accuracy : 89.936\n",
      ".. Best training accuracy\n",
      ".. Best validation accuracy\n",
      ".\n",
      "\n",
      "\n",
      ".. Epoch: 19 Era: 0\n"
     ]
    },
    {
     "name": "stderr",
     "output_type": "stream",
     "text": [
      "| training  100% Time: 0:00:00                                                 \n",
      "/ validation   35% ETA:  0:00:00                                               \r"
     ]
    },
    {
     "name": "stdout",
     "output_type": "stream",
     "text": [
      ".. Discriminator Sigmoid D(x)   : 0.523178\n",
      ".. Generator Sigmoid D(G(z))         : 0.436908\n"
     ]
    },
    {
     "name": "stderr",
     "output_type": "stream",
     "text": [
      "- validation   36% ETA:  0:00:00                                               \r",
      "\\ validation   38% ETA:  0:00:00                                               \r",
      "| validation   40% ETA:  0:00:00                                               \r",
      "/ validation   41% ETA:  0:00:00                                               \r",
      "- validation   43% ETA:  0:00:00                                               \r",
      "\\ validation   45% ETA:  0:00:00                                               \r",
      "| validation   46% ETA:  0:00:00                                               \r",
      "/ validation   48% ETA:  0:00:00                                               \r",
      "- validation   50% ETA:  0:00:00                                               \r",
      "\\ validation   51% ETA:  0:00:00                                               \r",
      "| validation   53% ETA:  0:00:00                                               \r",
      "/ validation   55% ETA:  0:00:00                                               \r",
      "- validation   56% ETA:  0:00:00                                               \r",
      "\\ validation   58% ETA:  0:00:00                                               \r",
      "| validation   60% ETA:  0:00:00                                               \r",
      "/ validation   61% ETA:  0:00:00                                               \r",
      "- validation   63% ETA:  0:00:00                                               \r",
      "\\ validation   65% ETA:  0:00:00                                               \r",
      "| validation   66% ETA:  0:00:00                                               \r",
      "/ validation   68% ETA:  0:00:00                                               \r",
      "- validation   70% ETA:  0:00:00                                               \r",
      "\\ validation   71% ETA:  0:00:00                                               \r",
      "| validation   73% ETA:  0:00:00                                               \r",
      "/ validation   75% ETA:  0:00:00                                               \r",
      "- validation   76% ETA:  0:00:00                                               \r",
      "\\ validation   78% ETA:  0:00:00                                               \r",
      "| validation   80% ETA:  0:00:00                                               \r",
      "/ validation   81% ETA:  0:00:00                                               \r",
      "- validation   83% ETA:  0:00:00                                               \r",
      "\\ validation   85% ETA:  0:00:00                                               \r",
      "| validation   86% ETA:  0:00:00                                               \r",
      "/ validation   88% ETA:  0:00:00                                               \r",
      "- validation   90% ETA:  0:00:00                                               \r",
      "\\ validation   91% ETA:  0:00:00                                               \r",
      "| validation   93% ETA:  0:00:00                                               \r",
      "/ validation   95% ETA:  0:00:00                                               \r",
      "- validation   96% ETA:  0:00:00                                               \r",
      "\\ validation   98% ETA:  0:00:00                                               \r",
      "| validation  100% ETA:  0:00:00                                               \r",
      "| validation  100% Time: 0:00:00                                               \r\n"
     ]
    },
    {
     "name": "stdout",
     "output_type": "stream",
     "text": [
      ".. Validation accuracy : 89.79\n",
      ".. Training accuracy : 88.632\n",
      ".. Training complete.Took 1.48964608333 minutes\n"
     ]
    }
   ],
   "source": [
    "from yann.special.gan import gan \n",
    "from theano import tensor as T \n",
    "\n",
    "def shallow_gan_mnist ( dataset= None, verbose = 1 ):\n",
    "    \"\"\"\n",
    "    This function is a demo example of a generative adversarial network. \n",
    "    This is an example code. You should study this code rather than merely run it.  \n",
    "\n",
    "    Args: \n",
    "        dataset: Supply a dataset.    \n",
    "        verbose: Similar to the rest of the dataset.\n",
    "\n",
    "    Notes:\n",
    "        This method is setup for MNIST.\n",
    "    \"\"\"\n",
    "    optimizer_params =  {        \n",
    "                \"momentum_type\"       : 'polyak',             \n",
    "                \"momentum_params\"     : (0.65, 0.9, 50),      \n",
    "                \"regularization\"      : (0.000, 0.000),       \n",
    "                \"optimizer_type\"      : 'rmsprop',                \n",
    "                \"id\"                  : \"main\"\n",
    "                        }\n",
    "\n",
    "\n",
    "    dataset_params  = {\n",
    "                            \"dataset\"   : dataset,\n",
    "                            \"type\"      : 'xy',\n",
    "                            \"id\"        : 'data'\n",
    "                    }\n",
    "\n",
    "    visualizer_params = {\n",
    "                    \"root\"       : '.',\n",
    "                    \"frequency\"  : 1,\n",
    "                    \"sample_size\": 225,\n",
    "                    \"rgb_filters\": False,\n",
    "                    \"debug_functions\" : False,\n",
    "                    \"debug_layers\": True,  \n",
    "                    \"id\"         : 'main'\n",
    "                        }  \n",
    "                      \n",
    "    # intitialize the network\n",
    "    net = gan (      borrow = True,\n",
    "                     verbose = verbose )                       \n",
    "    \n",
    "    net.add_module ( type = 'datastream', \n",
    "                     params = dataset_params,\n",
    "                     verbose = verbose )    \n",
    "    \n",
    "    net.add_module ( type = 'visualizer',\n",
    "                     params = visualizer_params,\n",
    "                     verbose = verbose \n",
    "                    ) \n",
    "\n",
    "    #z - latent space created by random layer\n",
    "    net.add_layer(type = 'random',\n",
    "                        id = 'z',\n",
    "                        num_neurons = (100,32), \n",
    "                        distribution = 'normal',\n",
    "                        mu = 0,\n",
    "                        sigma = 1,\n",
    "                        verbose = verbose)\n",
    "    \n",
    "    #x - inputs come from dataset 1 X 784\n",
    "    net.add_layer ( type = \"input\",\n",
    "                    id = \"x\",\n",
    "                    verbose = verbose, \n",
    "                    datastream_origin = 'data', # if you didnt add a dataset module, now is \n",
    "                                                 # the time. \n",
    "                    mean_subtract = False )\n",
    "\n",
    "    net.add_layer ( type = \"dot_product\",\n",
    "                    origin = \"z\",\n",
    "                    id = \"G(z)\",\n",
    "                    num_neurons = 784,\n",
    "                    activation = 'tanh',\n",
    "                    verbose = verbose\n",
    "                    )  # This layer is the one that creates the images.\n",
    "        \n",
    "    #D(x) - Contains params theta_d creates features 1 X 800. \n",
    "    net.add_layer ( type = \"dot_product\",\n",
    "                    id = \"D(x)\",\n",
    "                    origin = \"x\",\n",
    "                    num_neurons = 800,\n",
    "                    activation = 'relu',\n",
    "                    regularize = True,                                                         \n",
    "                    verbose = verbose\n",
    "                    )\n",
    "\n",
    "    net.add_layer ( type = \"dot_product\",\n",
    "                    id = \"D(G(z))\",\n",
    "                    origin = \"G(z)\",\n",
    "                    input_params = net.dropout_layers[\"D(x)\"].params, \n",
    "                    num_neurons = 800,\n",
    "                    activation = 'relu',\n",
    "                    regularize = True,\n",
    "                    verbose = verbose\n",
    "                    )\n",
    "\n",
    "\n",
    "    #C(D(x)) - This is the opposite of C(D(G(z))), real\n",
    "    net.add_layer ( type = \"dot_product\",\n",
    "                    id = \"real\",\n",
    "                    origin = \"D(x)\",\n",
    "                    num_neurons = 1,\n",
    "                    activation = 'sigmoid',\n",
    "                    verbose = verbose\n",
    "                    )\n",
    "\n",
    "    #C(D(G(z))) fake - the classifier for fake/real that always predicts fake \n",
    "    net.add_layer ( type = \"dot_product\",\n",
    "                    id = \"fake\",\n",
    "                    origin = \"D(G(z))\",\n",
    "                    num_neurons = 1,\n",
    "                    activation = 'sigmoid',\n",
    "                    input_params = net.dropout_layers[\"real\"].params, # Again share their parameters                    \n",
    "                    verbose = verbose\n",
    "                    )\n",
    "\n",
    "    \n",
    "    #C(D(x)) - This is the opposite of C(D(G(z))), real\n",
    "    net.add_layer ( type = \"classifier\",\n",
    "                    id = \"softmax\",\n",
    "                    origin = \"D(x)\",\n",
    "                    num_classes = 10,\n",
    "                    activation = 'softmax',\n",
    "                    verbose = verbose\n",
    "                   )\n",
    "    \n",
    "    # objective layers \n",
    "    # discriminator objective \n",
    "    net.add_layer (type = \"tensor\",\n",
    "                    input =  - 0.5 * T.mean(T.log(net.layers['real'].output)) - \\\n",
    "                                  0.5 * T.mean(T.log(1-net.layers['fake'].output)),\n",
    "                    input_shape = (1,),\n",
    "                    id = \"discriminator_task\"\n",
    "                    )\n",
    "\n",
    "    net.add_layer ( type = \"objective\",\n",
    "                    id = \"discriminator_obj\",\n",
    "                    origin = \"discriminator_task\",\n",
    "                    layer_type = 'value',\n",
    "                    objective = net.dropout_layers['discriminator_task'].output,\n",
    "                    datastream_origin = 'data', \n",
    "                    verbose = verbose\n",
    "                    )\n",
    "    #generator objective \n",
    "    net.add_layer (type = \"tensor\",\n",
    "                    input =  - 0.5 * T.mean(T.log(net.layers['fake'].output)),\n",
    "                    input_shape = (1,),\n",
    "                    id = \"objective_task\"\n",
    "                    )\n",
    "    net.add_layer ( type = \"objective\",\n",
    "                    id = \"generator_obj\",\n",
    "                    layer_type = 'value',\n",
    "                    origin = \"objective_task\",\n",
    "                    objective = net.dropout_layers['objective_task'].output,\n",
    "                    datastream_origin = 'data', \n",
    "                    verbose = verbose\n",
    "                    )   \n",
    "\n",
    "    #softmax objective.    \n",
    "    net.add_layer ( type = \"objective\",\n",
    "                    id = \"classifier_obj\",\n",
    "                    origin = \"softmax\",\n",
    "                    objective = \"nll\",\n",
    "                    layer_type = 'discriminator',\n",
    "                    datastream_origin = 'data', \n",
    "                    verbose = verbose\n",
    "                    )\n",
    "    \n",
    "    from yann.utils.graph import draw_network\n",
    "    draw_network(net.graph, filename = 'gan.png')    \n",
    "    net.pretty_print()\n",
    "    \n",
    "    net.cook (  objective_layers = [\"classifier_obj\", \"discriminator_obj\", \"generator_obj\"],\n",
    "                optimizer_params = optimizer_params,\n",
    "                discriminator_layers = [\"D(x)\"],\n",
    "                generator_layers = [\"G(z)\"], \n",
    "                classifier_layers = [\"D(x)\", \"softmax\"],                                                \n",
    "                softmax_layer = \"softmax\",\n",
    "                game_layers = (\"fake\", \"real\"),\n",
    "                verbose = verbose )\n",
    "                    \n",
    "    learning_rates = (0.05, 0.01 )  \n",
    "\n",
    "    net.train( epochs = (20), \n",
    "               k = 2,  \n",
    "               pre_train_discriminator = 3,\n",
    "               validate_after_epochs = 1,\n",
    "               visualize_after_epochs = 1,\n",
    "               training_accuracy = True,\n",
    "               show_progress = True,\n",
    "               early_terminate = True,\n",
    "               verbose = verbose)\n",
    "                           \n",
    "    return net\n",
    "\n",
    "if __name__ == '__main__':\n",
    "    \n",
    "    from yann.special.datasets import cook_mnist_normalized_zero_mean as c \n",
    "    # from yann.special.datasets import cook_cifar10_normalized_zero_mean as c\n",
    "    print \" creating a new dataset to run through\"\n",
    "    data = c (verbose = 2)\n",
    "    dataset = data.dataset_location() \n",
    "\n",
    "    net = shallow_gan_mnist ( dataset, verbose = 2 )"
   ]
  }
 ],
 "metadata": {
  "kernelspec": {
   "display_name": "Python 2",
   "language": "python",
   "name": "python2"
  },
  "language_info": {
   "codemirror_mode": {
    "name": "ipython",
    "version": 2
   },
   "file_extension": ".py",
   "mimetype": "text/x-python",
   "name": "python",
   "nbconvert_exporter": "python",
   "pygments_lexer": "ipython2",
   "version": "2.7.13"
  }
 },
 "nbformat": 4,
 "nbformat_minor": 2
}
