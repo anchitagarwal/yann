{
 "cells": [
  {
   "cell_type": "markdown",
   "metadata": {},
   "source": [
    "## Momentum:\n",
    "\n",
    "### Classical / Polyak momentum\n",
    "We discussed about the importance of learning rates and need for annealing the learning rates with Stochastic Gradient Descent. SGD is a convex optimization technique and it converges to stationary point. A stationary point may not be a convergence point for every problem. A solution space with sparse gradients will have a type of stationary points called saddle points. Saddle points are points with very low gradient or near zero gradient for few iterations and high gradients after that. \n",
    "\n",
    "This problem can be solved by updating parameters with a historical average of the gradients instead of the current gradient. Momentum update is calculated by taking a portion of the previous momentum and subtracting the current gradient (scaled by learning rate) from it. an equation for regular momentum update is shown below.\n",
    "$$v_{t+1} = \\mu v_t - \\eta f'(\\theta _t)$$\n",
    "$$\\theta _{t+1} = \\theta _t + v_{t+1}$$\n",
    "\n",
    "$v_t$ is the momentum update in the previous time step and $\\theta _t$ is the current gradient. $\\eta$ is the learning rate and $\\mu$ is the momentum coefficient. If you consider previous momentum as a vector and currect gradient as another vector, we are adjusting the direction of the momentum vector using the current gradient.\n",
    "\n",
    "### Nestrov Accelerated Gradient(NAG)\n",
    "Nestrov Accelerated Gradient/Nestrov Momentum is another type of momentum update which is highly used. In polyak momentum we calculated the gradient and then adjusted the momentum with the gradient. However in Nestrov momentum we adjust the gradient before calculating the momentum. Nestrov Momentum can be respresented mathematically using the following equations:\n",
    "$$v_{t+1} = \\mu v_t - \\eta f'(\\theta _t + \\mu v_t)$$\n",
    "$$\\theta _{t+1} = \\theta _t + v_{t+1}$$\n",
    "\n",
    "## Momentum in YANN:\n",
    "YANN supports Polyak and Nestrov momentum. Momentum can be added to the network using the following\n",
    "\n",
    "optimizer_params =  {         \n",
    "\n",
    "        \"momentum_type\"   : <option>  'false' <no momentum>, 'polyak', 'nesterov'.\n",
    "        \"momentum_params\" : (<option in range [0,1]>, <option in range [0,1]>, <int>)\n",
    "        \"optimizer_type\" : <option>, 'sgd', 'adagrad', 'rmsprop', 'adam'.\n",
    "        \"id\"        : id of the optimizer\n",
    "            } \n",
    "***`momentum_type`*** is the type of momentum(polyak/nestrov) to be used. If you don't want to use any momentum you can give false to it. The default value for momentum_type is false. ***`momentum_params`*** is a 3 tuple and takes values for momentum coeffient at start,at end, at what epoch to end momentum increase and it takes a default value of (0.5, 0.95,50). ***`Optimizer_type`*** is the type of the optimizer to be used. YANN supports sgd, adagrad, rmsprop and adam. We discussed about sgd in the previous tutorial and we will discuss other optimizers later in this chapter.\n",
    "\n",
    "Let's use the MLP network we created in the previous tutorial and train it with no momentum, polak momentum and nestrov momentum and analyze the results"
   ]
  },
  {
   "cell_type": "code",
   "execution_count": 1,
   "metadata": {},
   "outputs": [
    {
     "name": "stderr",
     "output_type": "stream",
     "text": [
      "WARNING (theano.sandbox.cuda): The cuda backend is deprecated and will be removed in the next release (v0.10).  Please switch to the gpuarray backend. You can get more information about how to switch at this URL:\n",
      " https://github.com/Theano/Theano/wiki/Converting-to-the-new-gpu-back-end%28gpuarray%29\n",
      "\n",
      "Using gpu device 0: GeForce GTX 750 Ti (CNMeM is enabled with initial size: 40.0% of memory, cuDNN 5110)\n"
     ]
    },
    {
     "name": "stdout",
     "output_type": "stream",
     "text": [
      ". Setting up dataset \n",
      ".. setting up skdata\n",
      "... Importing mnist from skdata\n",
      ".. setting up dataset\n",
      ".. training data\n",
      ".. validation data \n",
      ".. testing data \n",
      ". Dataset 31400 is created.\n",
      ". Time taken is 0.744573 seconds\n"
     ]
    }
   ],
   "source": [
    "from yann.network import network\n",
    "from yann.special.datasets import cook_mnist\n",
    "import matplotlib.pyplot as plt\n",
    "\n",
    "def get_cost():\n",
    "    costs = []\n",
    "    with open('./resultor/costs.txt') as costf:\n",
    "        costs = [float(cost.rstrip()) for cost in costf]\n",
    "    return costs\n",
    "\n",
    "def plot_costs(costs, labels):\n",
    "    for cost, label in zip(costs, labels):\n",
    "        plt.plot(cost,label=label)\n",
    "    plt.legend()\n",
    "    plt.show()\n",
    "    \n",
    "costs = []\n",
    "\n",
    "data = cook_mnist()\n",
    "dataset_params  = { \"dataset\": data.dataset_location(), \"id\": 'mnist', \"n_classes\" : 10 }\n",
    "def mlp(dataset_params, optimizer_params, optimizer_id):\n",
    "    net = network()\n",
    "    net.add_layer(type = \"input\", id =\"input\", dataset_init_args = dataset_params)\n",
    "    net.add_layer (type = \"dot_product\",\n",
    "                   origin =\"input\",\n",
    "                   id = \"dot_product_1\",\n",
    "                   num_neurons = 800,\n",
    "                   regularize = True,\n",
    "                   activation ='relu')\n",
    "\n",
    "    net.add_layer (type = \"dot_product\",\n",
    "                   origin =\"dot_product_1\",\n",
    "                   id = \"dot_product_2\",\n",
    "                   num_neurons = 800,\n",
    "                   regularize = True,\n",
    "                   activation ='relu')\n",
    "    net.add_layer ( type = \"classifier\",\n",
    "                    id = \"softmax\",\n",
    "                    origin = \"dot_product_2\",\n",
    "                    num_classes = 10,\n",
    "                    activation = 'softmax',\n",
    "                    )\n",
    "\n",
    "    net.add_layer ( type = \"objective\",\n",
    "                    id = \"nll\",\n",
    "                    origin = \"softmax\",\n",
    "                    )\n",
    "    \n",
    "    net.add_module ( type = 'optimizer', params = optimizer_params )\n",
    "    learning_rates = (0.05, 0.01, 0.001)\n",
    "    net.cook( verbose = 0,\n",
    "             optimizer = optimizer_id,\n",
    "              objective_layer = 'nll',\n",
    "              datastream = 'mnist',\n",
    "              classifier = 'softmax',\n",
    "              )\n",
    "    net.train(verbose=0,\n",
    "              epochs = (20, 20),\n",
    "           validate_after_epochs = 2,\n",
    "           training_accuracy = True,\n",
    "           learning_rates = learning_rates,\n",
    "           show_progress = True,\n",
    "           early_terminate = True)\n",
    "    return net"
   ]
  },
  {
   "cell_type": "markdown",
   "metadata": {},
   "source": [
    "The above function returns a trained network given the dataset_params and optimizer_params. Let's train this network without any momentum"
   ]
  },
  {
   "cell_type": "code",
   "execution_count": 2,
   "metadata": {
    "scrolled": true
   },
   "outputs": [
    {
     "name": "stdout",
     "output_type": "stream",
     "text": [
      ". Initializing the network\n",
      ".. Adding input layer input\n",
      ".. Adding dot_product layer dot_product_1\n",
      ".. Adding flatten layer 2\n",
      ".. Adding dot_product layer dot_product_2\n",
      ".. Adding classifier layer softmax\n",
      ".. Adding objective layer nll\n",
      ".. Setting up the optimizer\n"
     ]
    },
    {
     "name": "stderr",
     "output_type": "stream",
     "text": [
      "| training  100% Time: 0:00:00                                                 \n",
      "| validation  100% Time: 0:00:00                                               \n"
     ]
    },
    {
     "name": "stdout",
     "output_type": "stream",
     "text": [
      ".. Cost                : 2.30127\n",
      "... Learning Rate       : 0.00999999977648\n",
      "... Momentum            : None\n"
     ]
    },
    {
     "name": "stderr",
     "output_type": "stream",
     "text": [
      "| training  100% Time: 0:00:00                                                 \n",
      "- training   30% ETA:  0:00:00                                                 \r"
     ]
    },
    {
     "name": "stdout",
     "output_type": "stream",
     "text": [
      ".. Cost                : 2.29778\n",
      "... Learning Rate       : 0.00949999969453\n",
      "... Momentum            : None\n"
     ]
    },
    {
     "name": "stderr",
     "output_type": "stream",
     "text": [
      "| training  100% Time: 0:00:00                                                 \n",
      "| validation  100% Time: 0:00:00                                               \n"
     ]
    },
    {
     "name": "stdout",
     "output_type": "stream",
     "text": [
      ".. Cost                : 2.29398\n",
      "... Learning Rate       : 0.00902500003576\n",
      "... Momentum            : None\n"
     ]
    },
    {
     "name": "stderr",
     "output_type": "stream",
     "text": [
      "| training  100% Time: 0:00:00                                                 \n",
      "\\ training   35% ETA:  0:00:00                                                 \r"
     ]
    },
    {
     "name": "stdout",
     "output_type": "stream",
     "text": [
      ".. Cost                : 2.28946\n",
      "... Learning Rate       : 0.00857375003397\n",
      "... Momentum            : None\n"
     ]
    },
    {
     "name": "stderr",
     "output_type": "stream",
     "text": [
      "| training  100% Time: 0:00:00                                                 \n",
      "| validation  100% Time: 0:00:00                                               \n"
     ]
    },
    {
     "name": "stdout",
     "output_type": "stream",
     "text": [
      ".. Cost                : 2.28381\n",
      "... Learning Rate       : 0.00814506225288\n",
      "... Momentum            : None\n"
     ]
    },
    {
     "name": "stderr",
     "output_type": "stream",
     "text": [
      "| training  100% Time: 0:00:00                                                 \n",
      "\\ training   35% ETA:  0:00:00                                                 \r"
     ]
    },
    {
     "name": "stdout",
     "output_type": "stream",
     "text": [
      ".. Cost                : 2.2765\n",
      "... Learning Rate       : 0.0077378093265\n",
      "... Momentum            : None\n"
     ]
    },
    {
     "name": "stderr",
     "output_type": "stream",
     "text": [
      "| training  100% Time: 0:00:00                                                 \n",
      "| validation  100% Time: 0:00:00                                               \n"
     ]
    },
    {
     "name": "stdout",
     "output_type": "stream",
     "text": [
      ".. Cost                : 2.26685\n",
      "... Learning Rate       : 0.00735091883689\n",
      "... Momentum            : None\n"
     ]
    },
    {
     "name": "stderr",
     "output_type": "stream",
     "text": [
      "| training  100% Time: 0:00:00                                                 \n",
      "\\ training   35% ETA:  0:00:00                                                 \r"
     ]
    },
    {
     "name": "stdout",
     "output_type": "stream",
     "text": [
      ".. Cost                : 2.25397\n",
      "... Learning Rate       : 0.00698337284848\n",
      "... Momentum            : None\n"
     ]
    },
    {
     "name": "stderr",
     "output_type": "stream",
     "text": [
      "| training  100% Time: 0:00:00                                                 \n",
      "| validation  100% Time: 0:00:00                                               \n"
     ]
    },
    {
     "name": "stdout",
     "output_type": "stream",
     "text": [
      ".. Cost                : 2.23664\n",
      "... Learning Rate       : 0.00663420418277\n",
      "... Momentum            : None\n"
     ]
    },
    {
     "name": "stderr",
     "output_type": "stream",
     "text": [
      "| training  100% Time: 0:00:00                                                 \n",
      "\\ training   35% ETA:  0:00:00                                                 \r"
     ]
    },
    {
     "name": "stdout",
     "output_type": "stream",
     "text": [
      ".. Cost                : 2.21336\n",
      "... Learning Rate       : 0.00630249409005\n",
      "... Momentum            : None\n"
     ]
    },
    {
     "name": "stderr",
     "output_type": "stream",
     "text": [
      "| training  100% Time: 0:00:00                                                 \n",
      "| validation  100% Time: 0:00:00                                               \n"
     ]
    },
    {
     "name": "stdout",
     "output_type": "stream",
     "text": [
      ".. Cost                : 2.1823\n",
      "... Learning Rate       : 0.0059873694554\n",
      "... Momentum            : None\n"
     ]
    },
    {
     "name": "stderr",
     "output_type": "stream",
     "text": [
      "| training  100% Time: 0:00:00                                                 \n",
      "\\ training   35% ETA:  0:00:00                                                 \r"
     ]
    },
    {
     "name": "stdout",
     "output_type": "stream",
     "text": [
      ".. Cost                : 2.1417\n",
      "... Learning Rate       : 0.00568800093606\n",
      "... Momentum            : None\n"
     ]
    },
    {
     "name": "stderr",
     "output_type": "stream",
     "text": [
      "| training  100% Time: 0:00:00                                                 \n",
      "| validation  100% Time: 0:00:00                                               \n"
     ]
    },
    {
     "name": "stdout",
     "output_type": "stream",
     "text": [
      ".. Cost                : 2.09033\n",
      "... Learning Rate       : 0.00540360109881\n",
      "... Momentum            : None\n"
     ]
    },
    {
     "name": "stderr",
     "output_type": "stream",
     "text": [
      "| training  100% Time: 0:00:00                                                 \n",
      "\\ training   35% ETA:  0:00:00                                                 \r"
     ]
    },
    {
     "name": "stdout",
     "output_type": "stream",
     "text": [
      ".. Cost                : 2.02778\n",
      "... Learning Rate       : 0.00513342116028\n",
      "... Momentum            : None\n"
     ]
    },
    {
     "name": "stderr",
     "output_type": "stream",
     "text": [
      "| training  100% Time: 0:00:00                                                 \n",
      "| validation  100% Time: 0:00:00                                               \n"
     ]
    },
    {
     "name": "stdout",
     "output_type": "stream",
     "text": [
      ".. Cost                : 1.95414\n",
      "... Learning Rate       : 0.0048767500557\n",
      "... Momentum            : None\n"
     ]
    },
    {
     "name": "stderr",
     "output_type": "stream",
     "text": [
      "| training  100% Time: 0:00:00                                                 \n",
      "\\ training   35% ETA:  0:00:00                                                 \r"
     ]
    },
    {
     "name": "stdout",
     "output_type": "stream",
     "text": [
      ".. Cost                : 1.86968\n",
      "... Learning Rate       : 0.0046329125762\n",
      "... Momentum            : None\n"
     ]
    },
    {
     "name": "stderr",
     "output_type": "stream",
     "text": [
      "| training  100% Time: 0:00:00                                                 \n",
      "| validation  100% Time: 0:00:00                                               \n"
     ]
    },
    {
     "name": "stdout",
     "output_type": "stream",
     "text": [
      ".. Cost                : 1.77546\n",
      "... Learning Rate       : 0.00440126704052\n",
      "... Momentum            : None\n"
     ]
    },
    {
     "name": "stderr",
     "output_type": "stream",
     "text": [
      "| training  100% Time: 0:00:00                                                 \n",
      "\\ training   35% ETA:  0:00:00                                                 \r"
     ]
    },
    {
     "name": "stdout",
     "output_type": "stream",
     "text": [
      ".. Cost                : 1.67421\n",
      "... Learning Rate       : 0.00418120389804\n",
      "... Momentum            : None\n"
     ]
    },
    {
     "name": "stderr",
     "output_type": "stream",
     "text": [
      "| training  100% Time: 0:00:00                                                 \n",
      "| validation  100% Time: 0:00:00                                               \n"
     ]
    },
    {
     "name": "stdout",
     "output_type": "stream",
     "text": [
      ".. Cost                : 1.57048\n",
      "... Learning Rate       : 0.00397214386612\n",
      "... Momentum            : None\n"
     ]
    },
    {
     "name": "stderr",
     "output_type": "stream",
     "text": [
      "| training  100% Time: 0:00:00                                                 \n",
      "\\ training   35% ETA:  0:00:00                                                 \r"
     ]
    },
    {
     "name": "stdout",
     "output_type": "stream",
     "text": [
      ".. Cost                : 1.46945\n",
      "... Learning Rate       : 0.00377353676595\n",
      "... Momentum            : None\n"
     ]
    },
    {
     "name": "stderr",
     "output_type": "stream",
     "text": [
      "| training  100% Time: 0:00:00                                                 \n",
      "| validation  100% Time: 0:00:00                                               \n"
     ]
    },
    {
     "name": "stdout",
     "output_type": "stream",
     "text": [
      ".. Cost                : 1.50512\n",
      "... Learning Rate       : 0.0010000000475\n",
      "... Momentum            : None\n"
     ]
    },
    {
     "name": "stderr",
     "output_type": "stream",
     "text": [
      "| training  100% Time: 0:00:00                                                 \n",
      "\\ training   35% ETA:  0:00:00                                                 \r"
     ]
    },
    {
     "name": "stdout",
     "output_type": "stream",
     "text": [
      ".. Cost                : 1.47964\n",
      "... Learning Rate       : 0.000950000016019\n",
      "... Momentum            : None\n"
     ]
    },
    {
     "name": "stderr",
     "output_type": "stream",
     "text": [
      "| training  100% Time: 0:00:00                                                 \n",
      "| validation  100% Time: 0:00:00                                               \n"
     ]
    },
    {
     "name": "stdout",
     "output_type": "stream",
     "text": [
      ".. Cost                : 1.45555\n",
      "... Learning Rate       : 0.000902500003576\n",
      "... Momentum            : None\n"
     ]
    },
    {
     "name": "stderr",
     "output_type": "stream",
     "text": [
      "| training  100% Time: 0:00:00                                                 \n",
      "- training   30% ETA:  0:00:00                                                 \r"
     ]
    },
    {
     "name": "stdout",
     "output_type": "stream",
     "text": [
      ".. Cost                : 1.43283\n",
      "... Learning Rate       : 0.000857374980114\n",
      "... Momentum            : None\n"
     ]
    },
    {
     "name": "stderr",
     "output_type": "stream",
     "text": [
      "| training  100% Time: 0:00:00                                                 \n",
      "| validation  100% Time: 0:00:00                                               \n"
     ]
    },
    {
     "name": "stdout",
     "output_type": "stream",
     "text": [
      ".. Cost                : 1.41144\n",
      "... Learning Rate       : 0.000814506202005\n",
      "... Momentum            : None\n"
     ]
    },
    {
     "name": "stderr",
     "output_type": "stream",
     "text": [
      "| training  100% Time: 0:00:00                                                 \n",
      "\\ training   35% ETA:  0:00:00                                                 \r"
     ]
    },
    {
     "name": "stdout",
     "output_type": "stream",
     "text": [
      ".. Cost                : 1.39134\n",
      "... Learning Rate       : 0.000773780862801\n",
      "... Momentum            : None\n"
     ]
    },
    {
     "name": "stderr",
     "output_type": "stream",
     "text": [
      "| training  100% Time: 0:00:00                                                 \n",
      "| validation  100% Time: 0:00:00                                               \n"
     ]
    },
    {
     "name": "stdout",
     "output_type": "stream",
     "text": [
      ".. Cost                : 1.37249\n",
      "... Learning Rate       : 0.000735091802198\n",
      "... Momentum            : None\n"
     ]
    },
    {
     "name": "stderr",
     "output_type": "stream",
     "text": [
      "| training  100% Time: 0:00:00                                                 \n",
      "\\ training   35% ETA:  0:00:00                                                 \r"
     ]
    },
    {
     "name": "stdout",
     "output_type": "stream",
     "text": [
      ".. Cost                : 1.35481\n",
      "... Learning Rate       : 0.000698337214999\n",
      "... Momentum            : None\n"
     ]
    },
    {
     "name": "stderr",
     "output_type": "stream",
     "text": [
      "| training  100% Time: 0:00:00                                                 \n",
      "| validation  100% Time: 0:00:00                                               \n"
     ]
    },
    {
     "name": "stdout",
     "output_type": "stream",
     "text": [
      ".. Cost                : 1.33825\n",
      "... Learning Rate       : 0.00066342036007\n",
      "... Momentum            : None\n"
     ]
    },
    {
     "name": "stderr",
     "output_type": "stream",
     "text": [
      "| training  100% Time: 0:00:00                                                 \n",
      "\\ training   35% ETA:  0:00:00                                                 \r"
     ]
    },
    {
     "name": "stdout",
     "output_type": "stream",
     "text": [
      ".. Cost                : 1.32274\n",
      "... Learning Rate       : 0.000630249327514\n",
      "... Momentum            : None\n"
     ]
    },
    {
     "name": "stderr",
     "output_type": "stream",
     "text": [
      "| training  100% Time: 0:00:00                                                 \n",
      "| validation  100% Time: 0:00:00                                               \n"
     ]
    },
    {
     "name": "stdout",
     "output_type": "stream",
     "text": [
      ".. Cost                : 1.30823\n",
      "... Learning Rate       : 0.000598736864049\n",
      "... Momentum            : None\n"
     ]
    },
    {
     "name": "stderr",
     "output_type": "stream",
     "text": [
      "| training  100% Time: 0:00:00                                                 \n",
      "\\ training   35% ETA:  0:00:00                                                 \r"
     ]
    },
    {
     "name": "stdout",
     "output_type": "stream",
     "text": [
      ".. Cost                : 1.29465\n",
      "... Learning Rate       : 0.000568800023757\n",
      "... Momentum            : None\n"
     ]
    },
    {
     "name": "stderr",
     "output_type": "stream",
     "text": [
      "| training  100% Time: 0:00:00                                                 \n",
      "| validation  100% Time: 0:00:00                                               \n"
     ]
    },
    {
     "name": "stdout",
     "output_type": "stream",
     "text": [
      ".. Cost                : 1.28194\n",
      "... Learning Rate       : 0.000540359993465\n",
      "... Momentum            : None\n"
     ]
    },
    {
     "name": "stderr",
     "output_type": "stream",
     "text": [
      "| training  100% Time: 0:00:00                                                 \n",
      "\\ training   35% ETA:  0:00:00                                                 \r"
     ]
    },
    {
     "name": "stdout",
     "output_type": "stream",
     "text": [
      ".. Cost                : 1.27004\n",
      "... Learning Rate       : 0.00051334197633\n",
      "... Momentum            : None\n"
     ]
    },
    {
     "name": "stderr",
     "output_type": "stream",
     "text": [
      "| training  100% Time: 0:00:00                                                 \n",
      "| validation  100% Time: 0:00:00                                               \n"
     ]
    },
    {
     "name": "stdout",
     "output_type": "stream",
     "text": [
      ".. Cost                : 1.25891\n",
      "... Learning Rate       : 0.000487674871692\n",
      "... Momentum            : None\n"
     ]
    },
    {
     "name": "stderr",
     "output_type": "stream",
     "text": [
      "| training  100% Time: 0:00:00                                                 \n",
      "\\ training   35% ETA:  0:00:00                                                 \r"
     ]
    },
    {
     "name": "stdout",
     "output_type": "stream",
     "text": [
      ".. Cost                : 1.24848\n",
      "... Learning Rate       : 0.000463291129563\n",
      "... Momentum            : None\n"
     ]
    },
    {
     "name": "stderr",
     "output_type": "stream",
     "text": [
      "| training  100% Time: 0:00:00                                                 \n",
      "| validation  100% Time: 0:00:00                                               \n"
     ]
    },
    {
     "name": "stdout",
     "output_type": "stream",
     "text": [
      ".. Cost                : 1.23872\n",
      "... Learning Rate       : 0.000440126575995\n",
      "... Momentum            : None\n"
     ]
    },
    {
     "name": "stderr",
     "output_type": "stream",
     "text": [
      "| training  100% Time: 0:00:00                                                 \n",
      "\\ training   35% ETA:  0:00:00                                                 \r"
     ]
    },
    {
     "name": "stdout",
     "output_type": "stream",
     "text": [
      ".. Cost                : 1.22957\n",
      "... Learning Rate       : 0.000418120238464\n",
      "... Momentum            : None\n"
     ]
    },
    {
     "name": "stderr",
     "output_type": "stream",
     "text": [
      "| training  100% Time: 0:00:00                                                 \n",
      "| validation  100% Time: 0:00:00                                               \n"
     ]
    },
    {
     "name": "stdout",
     "output_type": "stream",
     "text": [
      ".. Cost                : 1.22099\n",
      "... Learning Rate       : 0.000397214229451\n",
      "... Momentum            : None\n"
     ]
    },
    {
     "name": "stderr",
     "output_type": "stream",
     "text": [
      "- training   90% ETA:  0:00:00                                                 \r"
     ]
    },
    {
     "name": "stdout",
     "output_type": "stream",
     "text": [
      ".. Cost                : 1.21295\n",
      "... Learning Rate       : 0.000377353513613\n",
      "... Momentum            : None\n"
     ]
    },
    {
     "name": "stderr",
     "output_type": "stream",
     "text": [
      "\\ training   91% ETA:  0:00:00                                                 \r",
      "| training   92% ETA:  0:00:00                                                 \r",
      "/ training   93% ETA:  0:00:00                                                 \r",
      "- training   94% ETA:  0:00:00                                                 \r",
      "\\ training   95% ETA:  0:00:00                                                 \r",
      "| training   96% ETA:  0:00:00                                                 \r",
      "/ training   97% ETA:  0:00:00                                                 \r",
      "- training   98% ETA:  0:00:00                                                 \r",
      "\\ training   99% ETA:  0:00:00                                                 \r",
      "| training  100% ETA:  0:00:00                                                 \r",
      "| training  100% Time: 0:00:00                                                 \r\n"
     ]
    }
   ],
   "source": [
    "optimizer_params =  {\n",
    "                \"momentum_type\"       : 'false',\n",
    "                \"momentum_params\"     : (0.9, 0.95, 30),\n",
    "                \"regularization\"      : (0.0001, 0.0002),\n",
    "                \"optimizer_type\"      : 'sgd',\n",
    "                \"id\"                  : 'sgd'\n",
    "                        }\n",
    "net = mlp(dataset_params, optimizer_params, 'sgd')\n",
    "costs.append(get_cost())"
   ]
  },
  {
   "cell_type": "code",
   "execution_count": 3,
   "metadata": {},
   "outputs": [
    {
     "data": {
      "image/png": "[encoded data removed]",
      "text/plain": [
       "<matplotlib.figure.Figure at 0x7f0a824f5590>"
      ]
     },
     "metadata": {},
     "output_type": "display_data"
    }
   ],
   "source": [
    "labels = ['no momentum']\n",
    "plot_costs(costs, labels)"
   ]
  },
  {
   "cell_type": "markdown",
   "metadata": {},
   "source": [
    "Let's train the same network with polyak momentum"
   ]
  },
  {
   "cell_type": "code",
   "execution_count": 4,
   "metadata": {
    "scrolled": true
   },
   "outputs": [
    {
     "name": "stdout",
     "output_type": "stream",
     "text": [
      ". Initializing the network\n",
      ".. Adding input layer input\n",
      ".. Adding dot_product layer dot_product_1\n",
      ".. Adding flatten layer 2\n",
      ".. Adding dot_product layer dot_product_2\n",
      ".. Adding classifier layer softmax\n",
      ".. Adding objective layer nll\n",
      ".. Setting up the optimizer\n"
     ]
    },
    {
     "name": "stderr",
     "output_type": "stream",
     "text": [
      "| training  100% Time: 0:00:00                                                 \n",
      "| validation  100% Time: 0:00:00                                               \r"
     ]
    },
    {
     "name": "stdout",
     "output_type": "stream",
     "text": [
      ".. Cost                : 2.27479\n",
      "... Learning Rate       : 0.00999999977648\n",
      "... Momentum            : 0.899999976158\n"
     ]
    },
    {
     "name": "stderr",
     "output_type": "stream",
     "text": [
      "\n",
      "| training  100% Time: 0:00:00                                                 \n",
      "/ training   17% ETA:  0:00:00                                                 \r"
     ]
    },
    {
     "name": "stdout",
     "output_type": "stream",
     "text": [
      ".. Cost                : 1.56053\n",
      "... Learning Rate       : 0.00949999969453\n",
      "... Momentum            : 0.901666641235\n"
     ]
    },
    {
     "name": "stderr",
     "output_type": "stream",
     "text": [
      "| training  100% Time: 0:00:00                                                 \n",
      "| validation  100% Time: 0:00:00                                               \n"
     ]
    },
    {
     "name": "stdout",
     "output_type": "stream",
     "text": [
      ".. Cost                : 0.630191\n",
      "... Learning Rate       : 0.00902500003576\n",
      "... Momentum            : 0.903333306313\n"
     ]
    },
    {
     "name": "stderr",
     "output_type": "stream",
     "text": [
      "| training  100% Time: 0:00:00                                                 \n",
      "/ training   13% ETA:  0:00:00                                                 \r"
     ]
    },
    {
     "name": "stdout",
     "output_type": "stream",
     "text": [
      ".. Cost                : 0.456963\n",
      "... Learning Rate       : 0.00857375003397\n",
      "... Momentum            : 0.90499997139\n"
     ]
    },
    {
     "name": "stderr",
     "output_type": "stream",
     "text": [
      "| training  100% Time: 0:00:00                                                 \n",
      "| validation  100% Time: 0:00:00                                               \n"
     ]
    },
    {
     "name": "stdout",
     "output_type": "stream",
     "text": [
      ".. Cost                : 0.394291\n",
      "... Learning Rate       : 0.00814506225288\n",
      "... Momentum            : 0.906666636467\n"
     ]
    },
    {
     "name": "stderr",
     "output_type": "stream",
     "text": [
      "| training  100% Time: 0:00:00                                                 \n",
      "/ training   17% ETA:  0:00:00                                                 \r"
     ]
    },
    {
     "name": "stdout",
     "output_type": "stream",
     "text": [
      ".. Cost                : 0.361004\n",
      "... Learning Rate       : 0.0077378093265\n",
      "... Momentum            : 0.908333301544\n"
     ]
    },
    {
     "name": "stderr",
     "output_type": "stream",
     "text": [
      "| training  100% Time: 0:00:00                                                 \n",
      "| validation  100% Time: 0:00:00                                               \n"
     ]
    },
    {
     "name": "stdout",
     "output_type": "stream",
     "text": [
      ".. Cost                : 0.337403\n",
      "... Learning Rate       : 0.00735091883689\n",
      "... Momentum            : 0.909999966621\n"
     ]
    },
    {
     "name": "stderr",
     "output_type": "stream",
     "text": [
      "| training  100% Time: 0:00:00                                                 \n",
      "/ training   17% ETA:  0:00:00                                                 \r"
     ]
    },
    {
     "name": "stdout",
     "output_type": "stream",
     "text": [
      ".. Cost                : 0.317819\n",
      "... Learning Rate       : 0.00698337284848\n",
      "... Momentum            : 0.911666631699\n"
     ]
    },
    {
     "name": "stderr",
     "output_type": "stream",
     "text": [
      "| training  100% Time: 0:00:00                                                 \n",
      "| validation  100% Time: 0:00:00                                               \n"
     ]
    },
    {
     "name": "stdout",
     "output_type": "stream",
     "text": [
      ".. Cost                : 0.300565\n",
      "... Learning Rate       : 0.00663420418277\n",
      "... Momentum            : 0.91333335638\n"
     ]
    },
    {
     "name": "stderr",
     "output_type": "stream",
     "text": [
      "| training  100% Time: 0:00:00                                                 \n",
      "/ training   17% ETA:  0:00:00                                                 \r"
     ]
    },
    {
     "name": "stdout",
     "output_type": "stream",
     "text": [
      ".. Cost                : 0.284945\n",
      "... Learning Rate       : 0.00630249409005\n",
      "... Momentum            : 0.914999961853\n"
     ]
    },
    {
     "name": "stderr",
     "output_type": "stream",
     "text": [
      "| training  100% Time: 0:00:00                                                 \n",
      "| validation  100% Time: 0:00:00                                               \n"
     ]
    },
    {
     "name": "stdout",
     "output_type": "stream",
     "text": [
      ".. Cost                : 0.270672\n",
      "... Learning Rate       : 0.0059873694554\n",
      "... Momentum            : 0.91666662693\n"
     ]
    },
    {
     "name": "stderr",
     "output_type": "stream",
     "text": [
      "| training  100% Time: 0:00:00                                                 \n",
      "/ training   17% ETA:  0:00:00                                                 \r"
     ]
    },
    {
     "name": "stdout",
     "output_type": "stream",
     "text": [
      ".. Cost                : 0.257467\n",
      "... Learning Rate       : 0.00568800093606\n",
      "... Momentum            : 0.918333292007\n"
     ]
    },
    {
     "name": "stderr",
     "output_type": "stream",
     "text": [
      "| training  100% Time: 0:00:00                                                 \n",
      "| validation  100% Time: 0:00:00                                               \n"
     ]
    },
    {
     "name": "stdout",
     "output_type": "stream",
     "text": [
      ".. Cost                : 0.245283\n",
      "... Learning Rate       : 0.00540360109881\n",
      "... Momentum            : 0.919999957085\n"
     ]
    },
    {
     "name": "stderr",
     "output_type": "stream",
     "text": [
      "| training  100% Time: 0:00:00                                                 \n",
      "/ training   17% ETA:  0:00:00                                                 \r"
     ]
    },
    {
     "name": "stdout",
     "output_type": "stream",
     "text": [
      ".. Cost                : 0.234036\n",
      "... Learning Rate       : 0.00513342116028\n",
      "... Momentum            : 0.921666622162\n"
     ]
    },
    {
     "name": "stderr",
     "output_type": "stream",
     "text": [
      "| training  100% Time: 0:00:00                                                 \n",
      "| validation  100% Time: 0:00:00                                               \n"
     ]
    },
    {
     "name": "stdout",
     "output_type": "stream",
     "text": [
      ".. Cost                : 0.223667\n",
      "... Learning Rate       : 0.0048767500557\n",
      "... Momentum            : 0.923333287239\n"
     ]
    },
    {
     "name": "stderr",
     "output_type": "stream",
     "text": [
      "| training  100% Time: 0:00:00                                                 \n",
      "/ training   17% ETA:  0:00:00                                                 \r"
     ]
    },
    {
     "name": "stdout",
     "output_type": "stream",
     "text": [
      ".. Cost                : 0.214116\n",
      "... Learning Rate       : 0.0046329125762\n",
      "... Momentum            : 0.924999952316\n"
     ]
    },
    {
     "name": "stderr",
     "output_type": "stream",
     "text": [
      "| training  100% Time: 0:00:00                                                 \n",
      "| validation  100% Time: 0:00:00                                               \n"
     ]
    },
    {
     "name": "stdout",
     "output_type": "stream",
     "text": [
      ".. Cost                : 0.20537\n",
      "... Learning Rate       : 0.00440126704052\n",
      "... Momentum            : 0.926666617393\n"
     ]
    },
    {
     "name": "stderr",
     "output_type": "stream",
     "text": [
      "| training  100% Time: 0:00:00                                                 \n",
      "/ training   17% ETA:  0:00:00                                                 \r"
     ]
    },
    {
     "name": "stdout",
     "output_type": "stream",
     "text": [
      ".. Cost                : 0.197398\n",
      "... Learning Rate       : 0.00418120389804\n",
      "... Momentum            : 0.928333282471\n"
     ]
    },
    {
     "name": "stderr",
     "output_type": "stream",
     "text": [
      "| training  100% Time: 0:00:00                                                 \n",
      "| validation  100% Time: 0:00:00                                               \n"
     ]
    },
    {
     "name": "stdout",
     "output_type": "stream",
     "text": [
      ".. Cost                : 0.190121\n",
      "... Learning Rate       : 0.00397214386612\n",
      "... Momentum            : 0.929999947548\n"
     ]
    },
    {
     "name": "stderr",
     "output_type": "stream",
     "text": [
      "| training  100% Time: 0:00:00                                                 \n",
      "/ training   17% ETA:  0:00:00                                                 \r"
     ]
    },
    {
     "name": "stdout",
     "output_type": "stream",
     "text": [
      ".. Cost                : 0.183463\n",
      "... Learning Rate       : 0.00377353676595\n",
      "... Momentum            : 0.931666612625\n"
     ]
    },
    {
     "name": "stderr",
     "output_type": "stream",
     "text": [
      "| training  100% Time: 0:00:00                                                 \n",
      "| validation  100% Time: 0:00:00                                               \n"
     ]
    },
    {
     "name": "stdout",
     "output_type": "stream",
     "text": [
      ".. Cost                : 0.182799\n",
      "... Learning Rate       : 0.0010000000475\n",
      "... Momentum            : 0.933333277702\n"
     ]
    },
    {
     "name": "stderr",
     "output_type": "stream",
     "text": [
      "| training  100% Time: 0:00:00                                                 \n",
      "/ training   17% ETA:  0:00:00                                                 \r"
     ]
    },
    {
     "name": "stdout",
     "output_type": "stream",
     "text": [
      ".. Cost                : 0.180513\n",
      "... Learning Rate       : 0.000950000016019\n",
      "... Momentum            : 0.93499994278\n"
     ]
    },
    {
     "name": "stderr",
     "output_type": "stream",
     "text": [
      "| training  100% Time: 0:00:00                                                 \n",
      "| validation  100% Time: 0:00:00                                               \n"
     ]
    },
    {
     "name": "stdout",
     "output_type": "stream",
     "text": [
      ".. Cost                : 0.17883\n",
      "... Learning Rate       : 0.000902500003576\n",
      "... Momentum            : 0.936666607857\n"
     ]
    },
    {
     "name": "stderr",
     "output_type": "stream",
     "text": [
      "| training  100% Time: 0:00:00                                                 \n",
      "/ training   17% ETA:  0:00:00                                                 \r"
     ]
    },
    {
     "name": "stdout",
     "output_type": "stream",
     "text": [
      ".. Cost                : 0.177257\n",
      "... Learning Rate       : 0.000857374980114\n",
      "... Momentum            : 0.938333272934\n"
     ]
    },
    {
     "name": "stderr",
     "output_type": "stream",
     "text": [
      "| training  100% Time: 0:00:00                                                 \n",
      "| validation  100% Time: 0:00:00                                               \n"
     ]
    },
    {
     "name": "stdout",
     "output_type": "stream",
     "text": [
      ".. Cost                : 0.175754\n",
      "... Learning Rate       : 0.000814506202005\n",
      "... Momentum            : 0.939999938011\n"
     ]
    },
    {
     "name": "stderr",
     "output_type": "stream",
     "text": [
      "| training  100% Time: 0:00:00                                                 \n",
      "\\ training   11% ETA:  0:00:00                                                 \r"
     ]
    },
    {
     "name": "stdout",
     "output_type": "stream",
     "text": [
      ".. Cost                : 0.174313\n",
      "... Learning Rate       : 0.000773780862801\n",
      "... Momentum            : 0.941666603088\n"
     ]
    },
    {
     "name": "stderr",
     "output_type": "stream",
     "text": [
      "| training  100% Time: 0:00:00                                                 \n",
      "| validation  100% Time: 0:00:00                                               \n"
     ]
    },
    {
     "name": "stdout",
     "output_type": "stream",
     "text": [
      ".. Cost                : 0.172926\n",
      "... Learning Rate       : 0.000735091802198\n",
      "... Momentum            : 0.943333268166\n"
     ]
    },
    {
     "name": "stderr",
     "output_type": "stream",
     "text": [
      "| training  100% Time: 0:00:00                                                 \n",
      "/ training   17% ETA:  0:00:00                                                 \r"
     ]
    },
    {
     "name": "stdout",
     "output_type": "stream",
     "text": [
      ".. Cost                : 0.17159\n",
      "... Learning Rate       : 0.000698337214999\n",
      "... Momentum            : 0.944999933243\n"
     ]
    },
    {
     "name": "stderr",
     "output_type": "stream",
     "text": [
      "| training  100% Time: 0:00:00                                                 \n",
      "| validation  100% Time: 0:00:00                                               \n"
     ]
    },
    {
     "name": "stdout",
     "output_type": "stream",
     "text": [
      ".. Cost                : 0.170301\n",
      "... Learning Rate       : 0.00066342036007\n",
      "... Momentum            : 0.94666659832\n"
     ]
    },
    {
     "name": "stderr",
     "output_type": "stream",
     "text": [
      "| training  100% Time: 0:00:00                                                 \n",
      "/ training   17% ETA:  0:00:00                                                 \r"
     ]
    },
    {
     "name": "stdout",
     "output_type": "stream",
     "text": [
      ".. Cost                : 0.169057\n",
      "... Learning Rate       : 0.000630249327514\n",
      "... Momentum            : 0.948333263397\n"
     ]
    },
    {
     "name": "stderr",
     "output_type": "stream",
     "text": [
      "| training  100% Time: 0:00:00                                                 \n",
      "| validation  100% Time: 0:00:00                                               \n"
     ]
    },
    {
     "name": "stdout",
     "output_type": "stream",
     "text": [
      ".. Cost                : 0.167853\n",
      "... Learning Rate       : 0.000598736864049\n",
      "... Momentum            : 0.949999928474\n"
     ]
    },
    {
     "name": "stderr",
     "output_type": "stream",
     "text": [
      "| training  100% Time: 0:00:00                                                 \n",
      "/ training   17% ETA:  0:00:00                                                 \r"
     ]
    },
    {
     "name": "stdout",
     "output_type": "stream",
     "text": [
      ".. Cost                : 0.166683\n",
      "... Learning Rate       : 0.000568800023757\n",
      "... Momentum            : 0.949999988079\n"
     ]
    },
    {
     "name": "stderr",
     "output_type": "stream",
     "text": [
      "| training  100% Time: 0:00:00                                                 \n",
      "| validation  100% Time: 0:00:00                                               \n"
     ]
    },
    {
     "name": "stdout",
     "output_type": "stream",
     "text": [
      ".. Cost                : 0.165579\n",
      "... Learning Rate       : 0.000540359993465\n",
      "... Momentum            : 0.949999988079\n"
     ]
    },
    {
     "name": "stderr",
     "output_type": "stream",
     "text": [
      "| training  100% Time: 0:00:00                                                 \n",
      "/ training   17% ETA:  0:00:00                                                 \r"
     ]
    },
    {
     "name": "stdout",
     "output_type": "stream",
     "text": [
      ".. Cost                : 0.164541\n",
      "... Learning Rate       : 0.00051334197633\n",
      "... Momentum            : 0.949999988079\n"
     ]
    },
    {
     "name": "stderr",
     "output_type": "stream",
     "text": [
      "| training  100% Time: 0:00:00                                                 \n",
      "| validation  100% Time: 0:00:00                                               \n"
     ]
    },
    {
     "name": "stdout",
     "output_type": "stream",
     "text": [
      ".. Cost                : 0.163565\n",
      "... Learning Rate       : 0.000487674871692\n",
      "... Momentum            : 0.949999988079\n"
     ]
    },
    {
     "name": "stderr",
     "output_type": "stream",
     "text": [
      "| training  100% Time: 0:00:00                                                 \n",
      "/ training   17% ETA:  0:00:00                                                 \r"
     ]
    },
    {
     "name": "stdout",
     "output_type": "stream",
     "text": [
      ".. Cost                : 0.162645\n",
      "... Learning Rate       : 0.000463291129563\n",
      "... Momentum            : 0.949999988079\n"
     ]
    },
    {
     "name": "stderr",
     "output_type": "stream",
     "text": [
      "| training  100% Time: 0:00:00                                                 \n",
      "| validation  100% Time: 0:00:00                                               \n"
     ]
    },
    {
     "name": "stdout",
     "output_type": "stream",
     "text": [
      ".. Cost                : 0.161776\n",
      "... Learning Rate       : 0.000440126575995\n",
      "... Momentum            : 0.949999988079\n"
     ]
    },
    {
     "name": "stderr",
     "output_type": "stream",
     "text": [
      "| training  100% Time: 0:00:00                                                 \n",
      "/ training   17% ETA:  0:00:00                                                 \r"
     ]
    },
    {
     "name": "stdout",
     "output_type": "stream",
     "text": [
      ".. Cost                : 0.160957\n",
      "... Learning Rate       : 0.000418120238464\n",
      "... Momentum            : 0.949999988079\n"
     ]
    },
    {
     "name": "stderr",
     "output_type": "stream",
     "text": [
      "| training  100% Time: 0:00:00                                                 \n",
      "| validation  100% Time: 0:00:00                                               \n"
     ]
    },
    {
     "name": "stdout",
     "output_type": "stream",
     "text": [
      ".. Cost                : 0.160183\n",
      "... Learning Rate       : 0.000397214229451\n",
      "... Momentum            : 0.949999988079\n"
     ]
    },
    {
     "name": "stderr",
     "output_type": "stream",
     "text": [
      "\\ training   79% ETA:  0:00:00                                                 \r"
     ]
    },
    {
     "name": "stdout",
     "output_type": "stream",
     "text": [
      ".. Cost                : 0.159452\n",
      "... Learning Rate       : 0.000377353513613\n",
      "... Momentum            : 0.949999988079\n"
     ]
    },
    {
     "name": "stderr",
     "output_type": "stream",
     "text": [
      "| training   80% ETA:  0:00:00                                                 \r",
      "/ training   81% ETA:  0:00:00                                                 \r",
      "- training   82% ETA:  0:00:00                                                 \r",
      "\\ training   83% ETA:  0:00:00                                                 \r",
      "| training   84% ETA:  0:00:00                                                 \r",
      "/ training   85% ETA:  0:00:00                                                 \r",
      "- training   86% ETA:  0:00:00                                                 \r",
      "\\ training   87% ETA:  0:00:00                                                 \r",
      "| training   88% ETA:  0:00:00                                                 \r",
      "/ training   89% ETA:  0:00:00                                                 \r",
      "- training   90% ETA:  0:00:00                                                 \r",
      "\\ training   91% ETA:  0:00:00                                                 \r",
      "| training   92% ETA:  0:00:00                                                 \r",
      "/ training   93% ETA:  0:00:00                                                 \r",
      "- training   94% ETA:  0:00:00                                                 \r",
      "\\ training   95% ETA:  0:00:00                                                 \r",
      "| training   96% ETA:  0:00:00                                                 \r",
      "/ training   97% ETA:  0:00:00                                                 \r",
      "- training   98% ETA:  0:00:00                                                 \r",
      "\\ training   99% ETA:  0:00:00                                                 \r",
      "| training  100% ETA:  0:00:00                                                 \r",
      "| training  100% Time: 0:00:00                                                 \r\n"
     ]
    }
   ],
   "source": [
    "optimizer_params =  {\n",
    "                \"momentum_type\"       : 'polyak',\n",
    "                \"momentum_params\"     : (0.9, 0.95, 30),\n",
    "                \"regularization\"      : (0.0001, 0.0002),\n",
    "                \"optimizer_type\"      : 'sgd',\n",
    "                \"id\"                  : 'sgd-polyak'\n",
    "                        }\n",
    "net = mlp(dataset_params, optimizer_params, 'sgd-polyak')\n",
    "costs.append(get_cost())"
   ]
  },
  {
   "cell_type": "code",
   "execution_count": 5,
   "metadata": {},
   "outputs": [
    {
     "data": {
      "image/png": "[encoded data removed]",
      "text/plain": [
       "<matplotlib.figure.Figure at 0x7f0a25134990>"
      ]
     },
     "metadata": {},
     "output_type": "display_data"
    }
   ],
   "source": [
    "labels = ['no momentum', 'polyak']\n",
    "plot_costs(costs, labels)"
   ]
  },
  {
   "cell_type": "markdown",
   "metadata": {},
   "source": [
    "Let's train the same network with Nestrov momentum"
   ]
  },
  {
   "cell_type": "code",
   "execution_count": 6,
   "metadata": {},
   "outputs": [
    {
     "name": "stdout",
     "output_type": "stream",
     "text": [
      ". Initializing the network\n",
      ".. Adding input layer input\n",
      ".. Adding dot_product layer dot_product_1\n",
      ".. Adding flatten layer 2\n",
      ".. Adding dot_product layer dot_product_2\n",
      ".. Adding classifier layer softmax\n",
      ".. Adding objective layer nll\n",
      ".. Setting up the optimizer\n"
     ]
    },
    {
     "name": "stderr",
     "output_type": "stream",
     "text": [
      "| training  100% Time: 0:00:00                                                 \n",
      "| validation  100% Time: 0:00:00                                               \n"
     ]
    },
    {
     "name": "stdout",
     "output_type": "stream",
     "text": [
      ".. Cost                : 2.27447\n",
      "... Learning Rate       : 0.00999999977648\n",
      "... Momentum            : 0.899999976158\n"
     ]
    },
    {
     "name": "stderr",
     "output_type": "stream",
     "text": [
      "| training  100% Time: 0:00:00                                                 \n",
      "| training   20% ETA:  0:00:00                                                 \r"
     ]
    },
    {
     "name": "stdout",
     "output_type": "stream",
     "text": [
      ".. Cost                : 1.5333\n",
      "... Learning Rate       : 0.00949999969453\n",
      "... Momentum            : 0.901666641235\n"
     ]
    },
    {
     "name": "stderr",
     "output_type": "stream",
     "text": [
      "| training  100% Time: 0:00:00                                                 \n",
      "| validation  100% Time: 0:00:00                                               \n"
     ]
    },
    {
     "name": "stdout",
     "output_type": "stream",
     "text": [
      ".. Cost                : 0.628792\n",
      "... Learning Rate       : 0.00902500003576\n",
      "... Momentum            : 0.903333306313\n"
     ]
    },
    {
     "name": "stderr",
     "output_type": "stream",
     "text": [
      "| training  100% Time: 0:00:00                                                 \n",
      "| training   16% ETA:  0:00:00                                                 \r"
     ]
    },
    {
     "name": "stdout",
     "output_type": "stream",
     "text": [
      ".. Cost                : 0.456023\n",
      "... Learning Rate       : 0.00857375003397\n",
      "... Momentum            : 0.90499997139\n"
     ]
    },
    {
     "name": "stderr",
     "output_type": "stream",
     "text": [
      "| training  100% Time: 0:00:00                                                 \n",
      "| validation  100% Time: 0:00:00                                               \n"
     ]
    },
    {
     "name": "stdout",
     "output_type": "stream",
     "text": [
      ".. Cost                : 0.393798\n",
      "... Learning Rate       : 0.00814506225288\n",
      "... Momentum            : 0.906666636467\n"
     ]
    },
    {
     "name": "stderr",
     "output_type": "stream",
     "text": [
      "| training  100% Time: 0:00:00                                                 \n",
      "| training   20% ETA:  0:00:00                                                 \r"
     ]
    },
    {
     "name": "stdout",
     "output_type": "stream",
     "text": [
      ".. Cost                : 0.361185\n",
      "... Learning Rate       : 0.0077378093265\n",
      "... Momentum            : 0.908333301544\n"
     ]
    },
    {
     "name": "stderr",
     "output_type": "stream",
     "text": [
      "| training  100% Time: 0:00:00                                                 \n",
      "| validation  100% Time: 0:00:00                                               \n"
     ]
    },
    {
     "name": "stdout",
     "output_type": "stream",
     "text": [
      ".. Cost                : 0.338061\n",
      "... Learning Rate       : 0.00735091883689\n",
      "... Momentum            : 0.909999966621\n"
     ]
    },
    {
     "name": "stderr",
     "output_type": "stream",
     "text": [
      "| training  100% Time: 0:00:00                                                 \n",
      "| training   20% ETA:  0:00:00                                                 \r"
     ]
    },
    {
     "name": "stdout",
     "output_type": "stream",
     "text": [
      ".. Cost                : 0.319009\n",
      "... Learning Rate       : 0.00698337284848\n",
      "... Momentum            : 0.911666631699\n"
     ]
    },
    {
     "name": "stderr",
     "output_type": "stream",
     "text": [
      "| training  100% Time: 0:00:00                                                 \n",
      "| validation  100% Time: 0:00:00                                               \n"
     ]
    },
    {
     "name": "stdout",
     "output_type": "stream",
     "text": [
      ".. Cost                : 0.302319\n",
      "... Learning Rate       : 0.00663420418277\n",
      "... Momentum            : 0.91333335638\n"
     ]
    },
    {
     "name": "stderr",
     "output_type": "stream",
     "text": [
      "| training  100% Time: 0:00:00                                                 \n",
      "| training   20% ETA:  0:00:00                                                 \r"
     ]
    },
    {
     "name": "stdout",
     "output_type": "stream",
     "text": [
      ".. Cost                : 0.287134\n",
      "... Learning Rate       : 0.00630249409005\n",
      "... Momentum            : 0.914999961853\n"
     ]
    },
    {
     "name": "stderr",
     "output_type": "stream",
     "text": [
      "| training  100% Time: 0:00:00                                                 \n",
      "| validation  100% Time: 0:00:00                                               \n"
     ]
    },
    {
     "name": "stdout",
     "output_type": "stream",
     "text": [
      ".. Cost                : 0.273162\n",
      "... Learning Rate       : 0.0059873694554\n",
      "... Momentum            : 0.91666662693\n"
     ]
    },
    {
     "name": "stderr",
     "output_type": "stream",
     "text": [
      "| training  100% Time: 0:00:00                                                 \n",
      "| training   20% ETA:  0:00:00                                                 \r"
     ]
    },
    {
     "name": "stdout",
     "output_type": "stream",
     "text": [
      ".. Cost                : 0.260377\n",
      "... Learning Rate       : 0.00568800093606\n",
      "... Momentum            : 0.918333292007\n"
     ]
    },
    {
     "name": "stderr",
     "output_type": "stream",
     "text": [
      "| training  100% Time: 0:00:00                                                 \n",
      "| validation  100% Time: 0:00:00                                               \n"
     ]
    },
    {
     "name": "stdout",
     "output_type": "stream",
     "text": [
      ".. Cost                : 0.248669\n",
      "... Learning Rate       : 0.00540360109881\n",
      "... Momentum            : 0.919999957085\n"
     ]
    },
    {
     "name": "stderr",
     "output_type": "stream",
     "text": [
      "| training  100% Time: 0:00:00                                                 \n",
      "| training   20% ETA:  0:00:00                                                 \r"
     ]
    },
    {
     "name": "stdout",
     "output_type": "stream",
     "text": [
      ".. Cost                : 0.237936\n",
      "... Learning Rate       : 0.00513342116028\n",
      "... Momentum            : 0.921666622162\n"
     ]
    },
    {
     "name": "stderr",
     "output_type": "stream",
     "text": [
      "| training  100% Time: 0:00:00                                                 \n",
      "| validation  100% Time: 0:00:00                                               \n"
     ]
    },
    {
     "name": "stdout",
     "output_type": "stream",
     "text": [
      ".. Cost                : 0.228102\n",
      "... Learning Rate       : 0.0048767500557\n",
      "... Momentum            : 0.923333287239\n"
     ]
    },
    {
     "name": "stderr",
     "output_type": "stream",
     "text": [
      "| training  100% Time: 0:00:00                                                 \n",
      "| training   20% ETA:  0:00:00                                                 \r"
     ]
    },
    {
     "name": "stdout",
     "output_type": "stream",
     "text": [
      ".. Cost                : 0.219055\n",
      "... Learning Rate       : 0.0046329125762\n",
      "... Momentum            : 0.924999952316\n"
     ]
    },
    {
     "name": "stderr",
     "output_type": "stream",
     "text": [
      "| training  100% Time: 0:00:00                                                 \n",
      "| validation  100% Time: 0:00:00                                               \n"
     ]
    },
    {
     "name": "stdout",
     "output_type": "stream",
     "text": [
      ".. Cost                : 0.210739\n",
      "... Learning Rate       : 0.00440126704052\n",
      "... Momentum            : 0.926666617393\n"
     ]
    },
    {
     "name": "stderr",
     "output_type": "stream",
     "text": [
      "| training  100% Time: 0:00:00                                                 \n",
      "| training   20% ETA:  0:00:00                                                 \r"
     ]
    },
    {
     "name": "stdout",
     "output_type": "stream",
     "text": [
      ".. Cost                : 0.203073\n",
      "... Learning Rate       : 0.00418120389804\n",
      "... Momentum            : 0.928333282471\n"
     ]
    },
    {
     "name": "stderr",
     "output_type": "stream",
     "text": [
      "| training  100% Time: 0:00:00                                                 \n",
      "| validation  100% Time: 0:00:00                                               \n"
     ]
    },
    {
     "name": "stdout",
     "output_type": "stream",
     "text": [
      ".. Cost                : 0.195979\n",
      "... Learning Rate       : 0.00397214386612\n",
      "... Momentum            : 0.929999947548\n"
     ]
    },
    {
     "name": "stderr",
     "output_type": "stream",
     "text": [
      "| training  100% Time: 0:00:00                                                 \n",
      "- training   18% ETA:  0:00:00                                                 \r"
     ]
    },
    {
     "name": "stdout",
     "output_type": "stream",
     "text": [
      ".. Cost                : 0.189424\n",
      "... Learning Rate       : 0.00377353676595\n",
      "... Momentum            : 0.931666612625\n"
     ]
    },
    {
     "name": "stderr",
     "output_type": "stream",
     "text": [
      "| training  100% Time: 0:00:00                                                 \n",
      "| validation  100% Time: 0:00:00                                               \n"
     ]
    },
    {
     "name": "stdout",
     "output_type": "stream",
     "text": [
      ".. Cost                : 0.188874\n",
      "... Learning Rate       : 0.0010000000475\n",
      "... Momentum            : 0.933333277702\n"
     ]
    },
    {
     "name": "stderr",
     "output_type": "stream",
     "text": [
      "| training  100% Time: 0:00:00                                                 \n",
      "| training   20% ETA:  0:00:00                                                 \r"
     ]
    },
    {
     "name": "stdout",
     "output_type": "stream",
     "text": [
      ".. Cost                : 0.186823\n",
      "... Learning Rate       : 0.000950000016019\n",
      "... Momentum            : 0.93499994278\n"
     ]
    },
    {
     "name": "stderr",
     "output_type": "stream",
     "text": [
      "| training  100% Time: 0:00:00                                                 \n",
      "| validation  100% Time: 0:00:00                                               \n"
     ]
    },
    {
     "name": "stdout",
     "output_type": "stream",
     "text": [
      ".. Cost                : 0.18515\n",
      "... Learning Rate       : 0.000902500003576\n",
      "... Momentum            : 0.936666607857\n"
     ]
    },
    {
     "name": "stderr",
     "output_type": "stream",
     "text": [
      "| training  100% Time: 0:00:00                                                 \n",
      "| training   20% ETA:  0:00:00                                                 \r"
     ]
    },
    {
     "name": "stdout",
     "output_type": "stream",
     "text": [
      ".. Cost                : 0.183576\n",
      "... Learning Rate       : 0.000857374980114\n",
      "... Momentum            : 0.938333272934\n"
     ]
    },
    {
     "name": "stderr",
     "output_type": "stream",
     "text": [
      "| training  100% Time: 0:00:00                                                 \n",
      "| validation  100% Time: 0:00:00                                               \n"
     ]
    },
    {
     "name": "stdout",
     "output_type": "stream",
     "text": [
      ".. Cost                : 0.182069\n",
      "... Learning Rate       : 0.000814506202005\n",
      "... Momentum            : 0.939999938011\n"
     ]
    },
    {
     "name": "stderr",
     "output_type": "stream",
     "text": [
      "| training  100% Time: 0:00:00                                                 \n",
      "| training   20% ETA:  0:00:00                                                 \r"
     ]
    },
    {
     "name": "stdout",
     "output_type": "stream",
     "text": [
      ".. Cost                : 0.18062\n",
      "... Learning Rate       : 0.000773780862801\n",
      "... Momentum            : 0.941666603088\n"
     ]
    },
    {
     "name": "stderr",
     "output_type": "stream",
     "text": [
      "| training  100% Time: 0:00:00                                                 \n",
      "| validation  100% Time: 0:00:00                                               \n"
     ]
    },
    {
     "name": "stdout",
     "output_type": "stream",
     "text": [
      ".. Cost                : 0.179225\n",
      "... Learning Rate       : 0.000735091802198\n",
      "... Momentum            : 0.943333268166\n"
     ]
    },
    {
     "name": "stderr",
     "output_type": "stream",
     "text": [
      "| training  100% Time: 0:00:00                                                 \n",
      "| training   16% ETA:  0:00:00                                                 \r"
     ]
    },
    {
     "name": "stdout",
     "output_type": "stream",
     "text": [
      ".. Cost                : 0.177878\n",
      "... Learning Rate       : 0.000698337214999\n",
      "... Momentum            : 0.944999933243\n"
     ]
    },
    {
     "name": "stderr",
     "output_type": "stream",
     "text": [
      "| training  100% Time: 0:00:00                                                 \n",
      "| validation  100% Time: 0:00:00                                               \n"
     ]
    },
    {
     "name": "stdout",
     "output_type": "stream",
     "text": [
      ".. Cost                : 0.176575\n",
      "... Learning Rate       : 0.00066342036007\n",
      "... Momentum            : 0.94666659832\n"
     ]
    },
    {
     "name": "stderr",
     "output_type": "stream",
     "text": [
      "| training  100% Time: 0:00:00                                                 \n",
      "| training   20% ETA:  0:00:00                                                 \r"
     ]
    },
    {
     "name": "stdout",
     "output_type": "stream",
     "text": [
      ".. Cost                : 0.175312\n",
      "... Learning Rate       : 0.000630249327514\n",
      "... Momentum            : 0.948333263397\n"
     ]
    },
    {
     "name": "stderr",
     "output_type": "stream",
     "text": [
      "| training  100% Time: 0:00:00                                                 \n",
      "| validation  100% Time: 0:00:00                                               \n"
     ]
    },
    {
     "name": "stdout",
     "output_type": "stream",
     "text": [
      ".. Cost                : 0.174088\n",
      "... Learning Rate       : 0.000598736864049\n",
      "... Momentum            : 0.949999928474\n"
     ]
    },
    {
     "name": "stderr",
     "output_type": "stream",
     "text": [
      "| training  100% Time: 0:00:00                                                 \n",
      "| training   20% ETA:  0:00:00                                                 \r"
     ]
    },
    {
     "name": "stdout",
     "output_type": "stream",
     "text": [
      ".. Cost                : 0.1729\n",
      "... Learning Rate       : 0.000568800023757\n",
      "... Momentum            : 0.949999988079\n"
     ]
    },
    {
     "name": "stderr",
     "output_type": "stream",
     "text": [
      "| training  100% Time: 0:00:00                                                 \n",
      "| validation  100% Time: 0:00:00                                               \n"
     ]
    },
    {
     "name": "stdout",
     "output_type": "stream",
     "text": [
      ".. Cost                : 0.171779\n",
      "... Learning Rate       : 0.000540359993465\n",
      "... Momentum            : 0.949999988079\n"
     ]
    },
    {
     "name": "stderr",
     "output_type": "stream",
     "text": [
      "| training  100% Time: 0:00:00                                                 \n",
      "| training   20% ETA:  0:00:00                                                 \r"
     ]
    },
    {
     "name": "stdout",
     "output_type": "stream",
     "text": [
      ".. Cost                : 0.170724\n",
      "... Learning Rate       : 0.00051334197633\n",
      "... Momentum            : 0.949999988079\n"
     ]
    },
    {
     "name": "stderr",
     "output_type": "stream",
     "text": [
      "| training  100% Time: 0:00:00                                                 \n",
      "| validation  100% Time: 0:00:00                                               \n"
     ]
    },
    {
     "name": "stdout",
     "output_type": "stream",
     "text": [
      ".. Cost                : 0.16973\n",
      "... Learning Rate       : 0.000487674871692\n",
      "... Momentum            : 0.949999988079\n"
     ]
    },
    {
     "name": "stderr",
     "output_type": "stream",
     "text": [
      "| training  100% Time: 0:00:00                                                 \n",
      "| training   20% ETA:  0:00:00                                                 \r"
     ]
    },
    {
     "name": "stdout",
     "output_type": "stream",
     "text": [
      ".. Cost                : 0.168793\n",
      "... Learning Rate       : 0.000463291129563\n",
      "... Momentum            : 0.949999988079\n"
     ]
    },
    {
     "name": "stderr",
     "output_type": "stream",
     "text": [
      "| training  100% Time: 0:00:00                                                 \n",
      "| validation  100% Time: 0:00:00                                               \n"
     ]
    },
    {
     "name": "stdout",
     "output_type": "stream",
     "text": [
      ".. Cost                : 0.167908\n",
      "... Learning Rate       : 0.000440126575995\n",
      "... Momentum            : 0.949999988079\n"
     ]
    },
    {
     "name": "stderr",
     "output_type": "stream",
     "text": [
      "| training  100% Time: 0:00:00                                                 \n",
      "| training   20% ETA:  0:00:00                                                 \r"
     ]
    },
    {
     "name": "stdout",
     "output_type": "stream",
     "text": [
      ".. Cost                : 0.167074\n",
      "... Learning Rate       : 0.000418120238464\n",
      "... Momentum            : 0.949999988079\n"
     ]
    },
    {
     "name": "stderr",
     "output_type": "stream",
     "text": [
      "| training  100% Time: 0:00:00                                                 \n",
      "| validation  100% Time: 0:00:00                                               \n"
     ]
    },
    {
     "name": "stdout",
     "output_type": "stream",
     "text": [
      ".. Cost                : 0.166285\n",
      "... Learning Rate       : 0.000397214229451\n",
      "... Momentum            : 0.949999988079\n"
     ]
    },
    {
     "name": "stderr",
     "output_type": "stream",
     "text": [
      "/ training   81% ETA:  0:00:00                                                 \r"
     ]
    },
    {
     "name": "stdout",
     "output_type": "stream",
     "text": [
      ".. Cost                : 0.16554\n",
      "... Learning Rate       : 0.000377353513613\n",
      "... Momentum            : 0.949999988079\n"
     ]
    },
    {
     "name": "stderr",
     "output_type": "stream",
     "text": [
      "- training   82% ETA:  0:00:00                                                 \r",
      "\\ training   83% ETA:  0:00:00                                                 \r",
      "| training   84% ETA:  0:00:00                                                 \r",
      "/ training   85% ETA:  0:00:00                                                 \r",
      "- training   86% ETA:  0:00:00                                                 \r",
      "\\ training   87% ETA:  0:00:00                                                 \r",
      "| training   88% ETA:  0:00:00                                                 \r",
      "/ training   89% ETA:  0:00:00                                                 \r",
      "- training   90% ETA:  0:00:00                                                 \r",
      "\\ training   91% ETA:  0:00:00                                                 \r",
      "| training   92% ETA:  0:00:00                                                 \r",
      "/ training   93% ETA:  0:00:00                                                 \r",
      "- training   94% ETA:  0:00:00                                                 \r",
      "\\ training   95% ETA:  0:00:00                                                 \r",
      "| training   96% ETA:  0:00:00                                                 \r",
      "/ training   97% ETA:  0:00:00                                                 \r",
      "- training   98% ETA:  0:00:00                                                 \r",
      "\\ training   99% ETA:  0:00:00                                                 \r",
      "| training  100% ETA:  0:00:00                                                 \r",
      "| training  100% Time: 0:00:00                                                 \r\n"
     ]
    }
   ],
   "source": [
    "optimizer_params =  {\n",
    "                \"momentum_type\"       : 'nesterov',\n",
    "                \"momentum_params\"     : (0.9, 0.95, 30),\n",
    "                \"regularization\"      : (0.0001, 0.0002),\n",
    "                \"optimizer_type\"      : 'sgd',\n",
    "                \"id\"                  : 'sgd-nesterov'\n",
    "                        }\n",
    "net = mlp(dataset_params, optimizer_params, 'sgd-nesterov')\n",
    "costs.append(get_cost())"
   ]
  },
  {
   "cell_type": "code",
   "execution_count": null,
   "metadata": {},
   "outputs": [],
   "source": [
    "labels = ['no momentum', 'polyak', 'nesterov']\n",
    "plot_costs(costs, labels)"
   ]
  },
  {
   "cell_type": "markdown",
   "metadata": {},
   "source": [
    "If you see the plot above you can observe that polyak and nesterov momentum helped to converge faster compared to the one with no momentum. In particular example, polyak and nesterov performed similarly. Hoewever in general nesterov performs better and is more stable."
   ]
  },
  {
   "cell_type": "markdown",
   "metadata": {},
   "source": [
    "#### Need for a new optimizer:\n",
    "Momentum solves the saddle point problem by adding a temporal average of the previous updates. One problem with momentum is that it accelerates the gradients for every direction(dimension). Imagine a scenario where we need have the minimum in the direction where we have less gradients and high gradients in other direction. Using momentum makes it faster in other direction and it maintains the slow pace in the direction we actually need to move.   \n",
    "\n",
    "## Adagrad\n",
    "\n",
    "Adagrad is another optimizer we are borrowing from convex optimization. Adagrad promises convergence given a convex setting. We have learnt few optimization techniques before. If you recall, we used same learning rate for all parameters. Adagrad adapts the learning rate per parameter. Parameter update in Adagrad is done using the following equation.\n",
    "$$\\theta _{j} = \\theta _j +  \\frac{\\eta}{\\sqrt{G_{j,j}}} g_j$$\n",
    "\n",
    "The above equation has only one new component $\\sqrt{G_{j,j}}$. $G_{j,j}$ is the sum of the squares of the previous gradients. This term acts as a smoothing factor.  If the gradient is constantly high in a direction then $G_{j,j}$ is also high which reduces the overall learning rate in that direction and vice versa.\n",
    "\n",
    "Let's try the previous example using Adagrad."
   ]
  },
  {
   "cell_type": "code",
   "execution_count": 8,
   "metadata": {
    "scrolled": true
   },
   "outputs": [
    {
     "name": "stdout",
     "output_type": "stream",
     "text": [
      ". Initializing the network\n",
      ".. Adding input layer input\n",
      ".. Adding dot_product layer dot_product_1\n",
      ".. Adding flatten layer 2\n",
      ".. Adding dot_product layer dot_product_2\n",
      ".. Adding classifier layer softmax\n",
      ".. Adding objective layer nll\n",
      ".. Setting up the optimizer\n"
     ]
    },
    {
     "name": "stderr",
     "output_type": "stream",
     "text": [
      "| training  100% Time: 0:00:00                                                 \n",
      "| validation  100% Time: 0:00:00                                               \n"
     ]
    },
    {
     "name": "stdout",
     "output_type": "stream",
     "text": [
      ".. Cost                : 0.524895\n",
      "... Learning Rate       : 0.00999999977648\n",
      "... Momentum            : None\n"
     ]
    },
    {
     "name": "stderr",
     "output_type": "stream",
     "text": [
      "| training  100% Time: 0:00:00                                                 \n",
      "\\ training   23% ETA:  0:00:00                                                 \r"
     ]
    },
    {
     "name": "stdout",
     "output_type": "stream",
     "text": [
      ".. Cost                : 0.15146\n",
      "... Learning Rate       : 0.00949999969453\n",
      "... Momentum            : None\n"
     ]
    },
    {
     "name": "stderr",
     "output_type": "stream",
     "text": [
      "| training  100% Time: 0:00:00                                                 \n",
      "| validation  100% Time: 0:00:00                                               \n"
     ]
    },
    {
     "name": "stdout",
     "output_type": "stream",
     "text": [
      ".. Cost                : 0.10481\n",
      "... Learning Rate       : 0.00902500003576\n",
      "... Momentum            : None\n"
     ]
    },
    {
     "name": "stderr",
     "output_type": "stream",
     "text": [
      "| training  100% Time: 0:00:00                                                 \n",
      "\\ training   23% ETA:  0:00:00                                                 \r"
     ]
    },
    {
     "name": "stdout",
     "output_type": "stream",
     "text": [
      ".. Cost                : 0.0799246\n",
      "... Learning Rate       : 0.00857375003397\n",
      "... Momentum            : None\n"
     ]
    },
    {
     "name": "stderr",
     "output_type": "stream",
     "text": [
      "| training  100% Time: 0:00:00                                                 \n",
      "| validation  100% Time: 0:00:00                                               \n"
     ]
    },
    {
     "name": "stdout",
     "output_type": "stream",
     "text": [
      ".. Cost                : 0.063727\n",
      "... Learning Rate       : 0.00814506225288\n",
      "... Momentum            : None\n"
     ]
    },
    {
     "name": "stderr",
     "output_type": "stream",
     "text": [
      "| training  100% Time: 0:00:00                                                 \n",
      "\\ training   23% ETA:  0:00:00                                                 \r"
     ]
    },
    {
     "name": "stdout",
     "output_type": "stream",
     "text": [
      ".. Cost                : 0.0521991\n",
      "... Learning Rate       : 0.0077378093265\n",
      "... Momentum            : None\n"
     ]
    },
    {
     "name": "stderr",
     "output_type": "stream",
     "text": [
      "| training  100% Time: 0:00:00                                                 \n",
      "| validation  100% Time: 0:00:00                                               \n"
     ]
    },
    {
     "name": "stdout",
     "output_type": "stream",
     "text": [
      ".. Cost                : 0.043717\n",
      "... Learning Rate       : 0.00735091883689\n",
      "... Momentum            : None\n"
     ]
    },
    {
     "name": "stderr",
     "output_type": "stream",
     "text": [
      "| training  100% Time: 0:00:00                                                 \n",
      "\\ training   19% ETA:  0:00:00                                                 \r"
     ]
    },
    {
     "name": "stdout",
     "output_type": "stream",
     "text": [
      ".. Cost                : 0.0372449\n",
      "... Learning Rate       : 0.00698337284848\n",
      "... Momentum            : None\n"
     ]
    },
    {
     "name": "stderr",
     "output_type": "stream",
     "text": [
      "| training  100% Time: 0:00:00                                                 \n",
      "| validation  100% Time: 0:00:00                                               \n"
     ]
    },
    {
     "name": "stdout",
     "output_type": "stream",
     "text": [
      ".. Cost                : 0.0322198\n",
      "... Learning Rate       : 0.00663420418277\n",
      "... Momentum            : None\n"
     ]
    },
    {
     "name": "stderr",
     "output_type": "stream",
     "text": [
      "| training  100% Time: 0:00:00                                                 \n",
      "\\ training   23% ETA:  0:00:00                                                 \r"
     ]
    },
    {
     "name": "stdout",
     "output_type": "stream",
     "text": [
      ".. Cost                : 0.0281588\n",
      "... Learning Rate       : 0.00630249409005\n",
      "... Momentum            : None\n"
     ]
    },
    {
     "name": "stderr",
     "output_type": "stream",
     "text": [
      "| training  100% Time: 0:00:00                                                 \n",
      "| validation  100% Time: 0:00:00                                               \n"
     ]
    },
    {
     "name": "stdout",
     "output_type": "stream",
     "text": [
      ".. Cost                : 0.0248669\n",
      "... Learning Rate       : 0.0059873694554\n",
      "... Momentum            : None\n"
     ]
    },
    {
     "name": "stderr",
     "output_type": "stream",
     "text": [
      "| training  100% Time: 0:00:00                                                 \n",
      "\\ training   23% ETA:  0:00:00                                                 \r"
     ]
    },
    {
     "name": "stdout",
     "output_type": "stream",
     "text": [
      ".. Cost                : 0.0221508\n",
      "... Learning Rate       : 0.00568800093606\n",
      "... Momentum            : None\n"
     ]
    },
    {
     "name": "stderr",
     "output_type": "stream",
     "text": [
      "| training  100% Time: 0:00:00                                                 \n",
      "| validation  100% Time: 0:00:00                                               \n"
     ]
    },
    {
     "name": "stdout",
     "output_type": "stream",
     "text": [
      ".. Cost                : 0.0199184\n",
      "... Learning Rate       : 0.00540360109881\n",
      "... Momentum            : None\n"
     ]
    },
    {
     "name": "stderr",
     "output_type": "stream",
     "text": [
      "| training  100% Time: 0:00:00                                                 \n",
      "\\ training   23% ETA:  0:00:00                                                 \r"
     ]
    },
    {
     "name": "stdout",
     "output_type": "stream",
     "text": [
      ".. Cost                : 0.0180428\n",
      "... Learning Rate       : 0.00513342116028\n",
      "... Momentum            : None\n"
     ]
    },
    {
     "name": "stderr",
     "output_type": "stream",
     "text": [
      "| training  100% Time: 0:00:00                                                 \n",
      "| validation  100% Time: 0:00:00                                               \n"
     ]
    },
    {
     "name": "stdout",
     "output_type": "stream",
     "text": [
      ".. Cost                : 0.0164617\n",
      "... Learning Rate       : 0.0048767500557\n",
      "... Momentum            : None\n"
     ]
    },
    {
     "name": "stderr",
     "output_type": "stream",
     "text": [
      "| training  100% Time: 0:00:00                                                 \n",
      "\\ training   23% ETA:  0:00:00                                                 \r"
     ]
    },
    {
     "name": "stdout",
     "output_type": "stream",
     "text": [
      ".. Cost                : 0.0150964\n",
      "... Learning Rate       : 0.0046329125762\n",
      "... Momentum            : None\n"
     ]
    },
    {
     "name": "stderr",
     "output_type": "stream",
     "text": [
      "| training  100% Time: 0:00:00                                                 \n",
      "| validation  100% Time: 0:00:00                                               \n"
     ]
    },
    {
     "name": "stdout",
     "output_type": "stream",
     "text": [
      ".. Cost                : 0.0139218\n",
      "... Learning Rate       : 0.00440126704052\n",
      "... Momentum            : None\n"
     ]
    },
    {
     "name": "stderr",
     "output_type": "stream",
     "text": [
      "| training  100% Time: 0:00:00                                                 \n",
      "\\ training   23% ETA:  0:00:00                                                 \r"
     ]
    },
    {
     "name": "stdout",
     "output_type": "stream",
     "text": [
      ".. Cost                : 0.0129141\n",
      "... Learning Rate       : 0.00418120389804\n",
      "... Momentum            : None\n"
     ]
    },
    {
     "name": "stderr",
     "output_type": "stream",
     "text": [
      "| training  100% Time: 0:00:00                                                 \n",
      "| validation  100% Time: 0:00:00                                               \n"
     ]
    },
    {
     "name": "stdout",
     "output_type": "stream",
     "text": [
      ".. Cost                : 0.0120349\n",
      "... Learning Rate       : 0.00397214386612\n",
      "... Momentum            : None\n"
     ]
    },
    {
     "name": "stderr",
     "output_type": "stream",
     "text": [
      "| training  100% Time: 0:00:00                                                 \n",
      "- training   22% ETA:  0:00:00                                                 \r"
     ]
    },
    {
     "name": "stdout",
     "output_type": "stream",
     "text": [
      ".. Cost                : 0.0112718\n",
      "... Learning Rate       : 0.00377353676595\n",
      "... Momentum            : None\n"
     ]
    },
    {
     "name": "stderr",
     "output_type": "stream",
     "text": [
      "| training  100% Time: 0:00:00                                                 \n",
      "| validation  100% Time: 0:00:00                                               \n"
     ]
    },
    {
     "name": "stdout",
     "output_type": "stream",
     "text": [
      ".. Cost                : 0.0148587\n",
      "... Learning Rate       : 0.0010000000475\n",
      "... Momentum            : None\n"
     ]
    },
    {
     "name": "stderr",
     "output_type": "stream",
     "text": [
      "| training  100% Time: 0:00:00                                                 \n",
      "\\ training   23% ETA:  0:00:00                                                 \r"
     ]
    },
    {
     "name": "stdout",
     "output_type": "stream",
     "text": [
      ".. Cost                : 0.0143665\n",
      "... Learning Rate       : 0.000950000016019\n",
      "... Momentum            : None\n"
     ]
    },
    {
     "name": "stderr",
     "output_type": "stream",
     "text": [
      "| training  100% Time: 0:00:00                                                 \n",
      "| validation  100% Time: 0:00:00                                               \n"
     ]
    },
    {
     "name": "stdout",
     "output_type": "stream",
     "text": [
      ".. Cost                : 0.0140917\n",
      "... Learning Rate       : 0.000902500003576\n",
      "... Momentum            : None\n"
     ]
    },
    {
     "name": "stderr",
     "output_type": "stream",
     "text": [
      "| training  100% Time: 0:00:00                                                 \n",
      "\\ training   23% ETA:  0:00:00                                                 \r"
     ]
    },
    {
     "name": "stdout",
     "output_type": "stream",
     "text": [
      ".. Cost                : 0.0138617\n",
      "... Learning Rate       : 0.000857374980114\n",
      "... Momentum            : None\n"
     ]
    },
    {
     "name": "stderr",
     "output_type": "stream",
     "text": [
      "| training  100% Time: 0:00:00                                                 \n",
      "| validation  100% Time: 0:00:00                                               \n"
     ]
    },
    {
     "name": "stdout",
     "output_type": "stream",
     "text": [
      ".. Cost                : 0.0136585\n",
      "... Learning Rate       : 0.000814506202005\n",
      "... Momentum            : None\n"
     ]
    },
    {
     "name": "stderr",
     "output_type": "stream",
     "text": [
      "| training  100% Time: 0:00:00                                                 \n",
      "\\ training   23% ETA:  0:00:00                                                 \r"
     ]
    },
    {
     "name": "stdout",
     "output_type": "stream",
     "text": [
      ".. Cost                : 0.0134721\n",
      "... Learning Rate       : 0.000773780862801\n",
      "... Momentum            : None\n"
     ]
    },
    {
     "name": "stderr",
     "output_type": "stream",
     "text": [
      "| training  100% Time: 0:00:00                                                 \n",
      "| validation  100% Time: 0:00:00                                               \n"
     ]
    },
    {
     "name": "stdout",
     "output_type": "stream",
     "text": [
      ".. Cost                : 0.0133028\n",
      "... Learning Rate       : 0.000735091802198\n",
      "... Momentum            : None\n"
     ]
    },
    {
     "name": "stderr",
     "output_type": "stream",
     "text": [
      "| training  100% Time: 0:00:00                                                 \n",
      "\\ training   23% ETA:  0:00:00                                                 \r"
     ]
    },
    {
     "name": "stdout",
     "output_type": "stream",
     "text": [
      ".. Cost                : 0.0131459\n",
      "... Learning Rate       : 0.000698337214999\n",
      "... Momentum            : None\n"
     ]
    },
    {
     "name": "stderr",
     "output_type": "stream",
     "text": [
      "| training  100% Time: 0:00:00                                                 \n",
      "| validation  100% Time: 0:00:00                                               \n"
     ]
    },
    {
     "name": "stdout",
     "output_type": "stream",
     "text": [
      ".. Cost                : 0.0130013\n",
      "... Learning Rate       : 0.00066342036007\n",
      "... Momentum            : None\n"
     ]
    },
    {
     "name": "stderr",
     "output_type": "stream",
     "text": [
      "| training  100% Time: 0:00:00                                                 \n",
      "\\ training   23% ETA:  0:00:00                                                 \r"
     ]
    },
    {
     "name": "stdout",
     "output_type": "stream",
     "text": [
      ".. Cost                : 0.0128673\n",
      "... Learning Rate       : 0.000630249327514\n",
      "... Momentum            : None\n"
     ]
    },
    {
     "name": "stderr",
     "output_type": "stream",
     "text": [
      "| training  100% Time: 0:00:00                                                 \n",
      "| validation  100% Time: 0:00:00                                               \n"
     ]
    },
    {
     "name": "stdout",
     "output_type": "stream",
     "text": [
      ".. Cost                : 0.0127432\n",
      "... Learning Rate       : 0.000598736864049\n",
      "... Momentum            : None\n"
     ]
    },
    {
     "name": "stderr",
     "output_type": "stream",
     "text": [
      "| training  100% Time: 0:00:00                                                 \n",
      "| training   20% ETA:  0:00:00                                                 \r"
     ]
    },
    {
     "name": "stdout",
     "output_type": "stream",
     "text": [
      ".. Cost                : 0.0126275\n",
      "... Learning Rate       : 0.000568800023757\n",
      "... Momentum            : None\n"
     ]
    },
    {
     "name": "stderr",
     "output_type": "stream",
     "text": [
      "| training  100% Time: 0:00:00                                                 \n",
      "| validation  100% Time: 0:00:00                                               \n"
     ]
    },
    {
     "name": "stdout",
     "output_type": "stream",
     "text": [
      ".. Cost                : 0.0125197\n",
      "... Learning Rate       : 0.000540359993465\n",
      "... Momentum            : None\n"
     ]
    },
    {
     "name": "stderr",
     "output_type": "stream",
     "text": [
      "| training  100% Time: 0:00:00                                                 \n",
      "\\ training   23% ETA:  0:00:00                                                 \r"
     ]
    },
    {
     "name": "stdout",
     "output_type": "stream",
     "text": [
      ".. Cost                : 0.0124198\n",
      "... Learning Rate       : 0.00051334197633\n",
      "... Momentum            : None\n"
     ]
    },
    {
     "name": "stderr",
     "output_type": "stream",
     "text": [
      "| training  100% Time: 0:00:00                                                 \n",
      "| validation  100% Time: 0:00:00                                               \n"
     ]
    },
    {
     "name": "stdout",
     "output_type": "stream",
     "text": [
      ".. Cost                : 0.012326\n",
      "... Learning Rate       : 0.000487674871692\n",
      "... Momentum            : None\n"
     ]
    },
    {
     "name": "stderr",
     "output_type": "stream",
     "text": [
      "| training  100% Time: 0:00:00                                                 \n",
      "\\ training   23% ETA:  0:00:00                                                 \r"
     ]
    },
    {
     "name": "stdout",
     "output_type": "stream",
     "text": [
      ".. Cost                : 0.012238\n",
      "... Learning Rate       : 0.000463291129563\n",
      "... Momentum            : None\n"
     ]
    },
    {
     "name": "stderr",
     "output_type": "stream",
     "text": [
      "| training  100% Time: 0:00:00                                                 \n",
      "| validation  100% Time: 0:00:00                                               \n"
     ]
    },
    {
     "name": "stdout",
     "output_type": "stream",
     "text": [
      ".. Cost                : 0.0121567\n",
      "... Learning Rate       : 0.000440126575995\n",
      "... Momentum            : None\n"
     ]
    },
    {
     "name": "stderr",
     "output_type": "stream",
     "text": [
      "| training  100% Time: 0:00:00                                                 \n",
      "\\ training   23% ETA:  0:00:00                                                 \r"
     ]
    },
    {
     "name": "stdout",
     "output_type": "stream",
     "text": [
      ".. Cost                : 0.0120794\n",
      "... Learning Rate       : 0.000418120238464\n",
      "... Momentum            : None\n"
     ]
    },
    {
     "name": "stderr",
     "output_type": "stream",
     "text": [
      "| training  100% Time: 0:00:00                                                 \n",
      "| validation  100% Time: 0:00:00                                               \n"
     ]
    },
    {
     "name": "stdout",
     "output_type": "stream",
     "text": [
      ".. Cost                : 0.0120076\n",
      "... Learning Rate       : 0.000397214229451\n",
      "... Momentum            : None\n"
     ]
    },
    {
     "name": "stderr",
     "output_type": "stream",
     "text": [
      "/ training   93% ETA:  0:00:00                                                 \r"
     ]
    },
    {
     "name": "stdout",
     "output_type": "stream",
     "text": [
      ".. Cost                : 0.0119412\n",
      "... Learning Rate       : 0.000377353513613\n",
      "... Momentum            : None\n"
     ]
    },
    {
     "name": "stderr",
     "output_type": "stream",
     "text": [
      "- training   94% ETA:  0:00:00                                                 \r",
      "\\ training   95% ETA:  0:00:00                                                 \r",
      "| training   96% ETA:  0:00:00                                                 \r",
      "/ training   97% ETA:  0:00:00                                                 \r",
      "- training   98% ETA:  0:00:00                                                 \r",
      "\\ training   99% ETA:  0:00:00                                                 \r",
      "| training  100% ETA:  0:00:00                                                 \r",
      "| training  100% Time: 0:00:00                                                 \r\n"
     ]
    }
   ],
   "source": [
    "optimizer_params =  {\n",
    "                \"momentum_type\"       : 'false',\n",
    "                \"regularization\"      : (0.0001, 0.0002),\n",
    "                \"optimizer_type\"      : 'adagrad',\n",
    "                \"id\"                  : 'adagrad'\n",
    "                        }\n",
    "net = mlp(dataset_params, optimizer_params, 'adagrad')\n",
    "costs.append(get_cost())"
   ]
  },
  {
   "cell_type": "code",
   "execution_count": 9,
   "metadata": {},
   "outputs": [
    {
     "data": {
      "image/png": "[encoded data removed]",
      "text/plain": [
       "<matplotlib.figure.Figure at 0x7f0a19fd6210>"
      ]
     },
     "metadata": {},
     "output_type": "display_data"
    }
   ],
   "source": [
    "labels = ['sgd','sgd-polyak','sgd-nestrov', 'adagrad']\n",
    "plot_costs(costs, labels)"
   ]
  },
  {
   "cell_type": "markdown",
   "metadata": {},
   "source": [
    "The above plot shows a comparison between sgd(with momentum) and adagrad where adagrad converged significantly faster compared to other algorithms. You can use polyak and nestrov momentum with Agadrad.\n",
    "\n",
    "#### Problem with Adagrad:\n",
    "\n",
    "We saw that the Agadrad got all those nice features from the denominator term $\\sqrt{G_{j,j}}$. $G_{j,j}$. However, this term increases with time consequently, learning rate reduces with time. It can reach a point where through the gradient is high, low learning rate can stop the learning. In simple term Adagrad forces the convergence. Therefore this technique is not immune to Saddle point problem. Let's look at the most popular neural network training technique.\n",
    "\n",
    "## RMSPROP\n",
    "\n",
    "rmsprop algorithm is proposed by Hinton which solves teh adagrad problem of forced convergence by taking weighted average of historical gradients so that the current update is only impacted by the past few gradients unlike every past gradient in Adagrad.\n",
    "$$H_t = \\gamma H_{t-1} + (1-\\gamma )g_j^2$$\n",
    "$$\\theta _{j} = \\theta _j +  \\frac{\\eta}{\\sqrt{H_t}} g_j$$\n",
    "In the above equations $\\gamma$ is called the forgetting factor because scales down the $H_{t-1}$, the historical gradient. As the historical gradient is scaled down using this forgetting factor it is immune to saddle points. As rmsprop implements weighted historic average it is also not affected much by sudden changes in the gradient. Therefore it is works well with on-line and non-stationary optimization settings.\n",
    "\n",
    "Let's see rmsprop in action:"
   ]
  },
  {
   "cell_type": "code",
   "execution_count": 10,
   "metadata": {
    "scrolled": true
   },
   "outputs": [
    {
     "name": "stdout",
     "output_type": "stream",
     "text": [
      ". Initializing the network\n",
      ".. Adding input layer input\n",
      ".. Adding dot_product layer dot_product_1\n",
      ".. Adding flatten layer 2\n",
      ".. Adding dot_product layer dot_product_2\n",
      ".. Adding classifier layer softmax\n",
      ".. Adding objective layer nll\n",
      ".. Setting up the optimizer\n"
     ]
    },
    {
     "name": "stderr",
     "output_type": "stream",
     "text": [
      "| training  100% Time: 0:00:00                                                 \n",
      "| validation  100% Time: 0:00:00                                               \n"
     ]
    },
    {
     "name": "stdout",
     "output_type": "stream",
     "text": [
      ".. Cost                : 1.20843\n",
      "... Learning Rate       : 0.00999999977648\n",
      "... Momentum            : None\n"
     ]
    },
    {
     "name": "stderr",
     "output_type": "stream",
     "text": [
      "| training  100% Time: 0:00:00                                                 \n",
      "/ training   21% ETA:  0:00:00                                                 \r"
     ]
    },
    {
     "name": "stdout",
     "output_type": "stream",
     "text": [
      ".. Cost                : 0.238489\n",
      "... Learning Rate       : 0.00949999969453\n",
      "... Momentum            : None\n"
     ]
    },
    {
     "name": "stderr",
     "output_type": "stream",
     "text": [
      "| training  100% Time: 0:00:00                                                 \n",
      "| validation  100% Time: 0:00:00                                               \n"
     ]
    },
    {
     "name": "stdout",
     "output_type": "stream",
     "text": [
      ".. Cost                : 0.154087\n",
      "... Learning Rate       : 0.00902500003576\n",
      "... Momentum            : None\n"
     ]
    },
    {
     "name": "stderr",
     "output_type": "stream",
     "text": [
      "| training  100% Time: 0:00:00                                                 \n",
      "| training   20% ETA:  0:00:00                                                 \r"
     ]
    },
    {
     "name": "stdout",
     "output_type": "stream",
     "text": [
      ".. Cost                : 0.119845\n",
      "... Learning Rate       : 0.00857375003397\n",
      "... Momentum            : None\n"
     ]
    },
    {
     "name": "stderr",
     "output_type": "stream",
     "text": [
      "| training  100% Time: 0:00:00                                                 \n",
      "| validation  100% Time: 0:00:00                                               \n"
     ]
    },
    {
     "name": "stdout",
     "output_type": "stream",
     "text": [
      ".. Cost                : 0.0900585\n",
      "... Learning Rate       : 0.00814506225288\n",
      "... Momentum            : None\n"
     ]
    },
    {
     "name": "stderr",
     "output_type": "stream",
     "text": [
      "| training  100% Time: 0:00:00                                                 \n",
      "- training   18% ETA:  0:00:00                                                 \r"
     ]
    },
    {
     "name": "stdout",
     "output_type": "stream",
     "text": [
      ".. Cost                : 0.0730993\n",
      "... Learning Rate       : 0.0077378093265\n",
      "... Momentum            : None\n"
     ]
    },
    {
     "name": "stderr",
     "output_type": "stream",
     "text": [
      "| training  100% Time: 0:00:00                                                 \n",
      "| validation  100% Time: 0:00:00                                               \n"
     ]
    },
    {
     "name": "stdout",
     "output_type": "stream",
     "text": [
      ".. Cost                : 0.0601007\n",
      "... Learning Rate       : 0.00735091883689\n",
      "... Momentum            : None\n"
     ]
    },
    {
     "name": "stderr",
     "output_type": "stream",
     "text": [
      "| training  100% Time: 0:00:00                                                 \n",
      "/ training   21% ETA:  0:00:00                                                 \r"
     ]
    },
    {
     "name": "stdout",
     "output_type": "stream",
     "text": [
      ".. Cost                : 0.0492536\n",
      "... Learning Rate       : 0.00698337284848\n",
      "... Momentum            : None\n"
     ]
    },
    {
     "name": "stderr",
     "output_type": "stream",
     "text": [
      "| training  100% Time: 0:00:00                                                 \n",
      "| validation  100% Time: 0:00:00                                               \n"
     ]
    },
    {
     "name": "stdout",
     "output_type": "stream",
     "text": [
      ".. Cost                : 0.0413557\n",
      "... Learning Rate       : 0.00663420418277\n",
      "... Momentum            : None\n"
     ]
    },
    {
     "name": "stderr",
     "output_type": "stream",
     "text": [
      "| training  100% Time: 0:00:00                                                 \n",
      "- training   22% ETA:  0:00:00                                                 \r"
     ]
    },
    {
     "name": "stdout",
     "output_type": "stream",
     "text": [
      ".. Cost                : 0.0336751\n",
      "... Learning Rate       : 0.00630249409005\n",
      "... Momentum            : None\n"
     ]
    },
    {
     "name": "stderr",
     "output_type": "stream",
     "text": [
      "| training  100% Time: 0:00:00                                                 \n",
      "| validation  100% Time: 0:00:00                                               \n"
     ]
    },
    {
     "name": "stdout",
     "output_type": "stream",
     "text": [
      ".. Cost                : 0.0306382\n",
      "... Learning Rate       : 0.0059873694554\n",
      "... Momentum            : None\n"
     ]
    },
    {
     "name": "stderr",
     "output_type": "stream",
     "text": [
      "| training  100% Time: 0:00:00                                                 \n",
      "- training   22% ETA:  0:00:00                                                 \r"
     ]
    },
    {
     "name": "stdout",
     "output_type": "stream",
     "text": [
      ".. Cost                : 0.0229147\n",
      "... Learning Rate       : 0.00568800093606\n",
      "... Momentum            : None\n"
     ]
    },
    {
     "name": "stderr",
     "output_type": "stream",
     "text": [
      "| training  100% Time: 0:00:00                                                 \n",
      "| validation  100% Time: 0:00:00                                               \n"
     ]
    },
    {
     "name": "stdout",
     "output_type": "stream",
     "text": [
      ".. Cost                : 0.019978\n",
      "... Learning Rate       : 0.00540360109881\n",
      "... Momentum            : None\n"
     ]
    },
    {
     "name": "stderr",
     "output_type": "stream",
     "text": [
      "| training  100% Time: 0:00:00                                                 \n",
      "- training   22% ETA:  0:00:00                                                 \r"
     ]
    },
    {
     "name": "stdout",
     "output_type": "stream",
     "text": [
      ".. Cost                : 0.0160781\n",
      "... Learning Rate       : 0.00513342116028\n",
      "... Momentum            : None\n"
     ]
    },
    {
     "name": "stderr",
     "output_type": "stream",
     "text": [
      "| training  100% Time: 0:00:00                                                 \n",
      "| validation  100% Time: 0:00:00                                               \n"
     ]
    },
    {
     "name": "stdout",
     "output_type": "stream",
     "text": [
      ".. Cost                : 0.0136931\n",
      "... Learning Rate       : 0.0048767500557\n",
      "... Momentum            : None\n"
     ]
    },
    {
     "name": "stderr",
     "output_type": "stream",
     "text": [
      "| training  100% Time: 0:00:00                                                 \n",
      "/ training   21% ETA:  0:00:00                                                 \r"
     ]
    },
    {
     "name": "stdout",
     "output_type": "stream",
     "text": [
      ".. Cost                : 0.0103865\n",
      "... Learning Rate       : 0.0046329125762\n",
      "... Momentum            : None\n"
     ]
    },
    {
     "name": "stderr",
     "output_type": "stream",
     "text": [
      "| training  100% Time: 0:00:00                                                 \n",
      "| validation  100% Time: 0:00:00                                               \n"
     ]
    },
    {
     "name": "stdout",
     "output_type": "stream",
     "text": [
      ".. Cost                : 0.00864367\n",
      "... Learning Rate       : 0.00440126704052\n",
      "... Momentum            : None\n"
     ]
    },
    {
     "name": "stderr",
     "output_type": "stream",
     "text": [
      "| training  100% Time: 0:00:00                                                 \n",
      "/ training   21% ETA:  0:00:00                                                 \r"
     ]
    },
    {
     "name": "stdout",
     "output_type": "stream",
     "text": [
      ".. Cost                : 0.0072419\n",
      "... Learning Rate       : 0.00418120389804\n",
      "... Momentum            : None\n"
     ]
    },
    {
     "name": "stderr",
     "output_type": "stream",
     "text": [
      "| training  100% Time: 0:00:00                                                 \n",
      "| validation  100% Time: 0:00:00                                               \n"
     ]
    },
    {
     "name": "stdout",
     "output_type": "stream",
     "text": [
      ".. Cost                : 0.00568823\n",
      "... Learning Rate       : 0.00397214386612\n",
      "... Momentum            : None\n"
     ]
    },
    {
     "name": "stderr",
     "output_type": "stream",
     "text": [
      "| training  100% Time: 0:00:00                                                 \n",
      "/ training   21% ETA:  0:00:00                                                 \r"
     ]
    },
    {
     "name": "stdout",
     "output_type": "stream",
     "text": [
      ".. Cost                : 0.00494935\n",
      "... Learning Rate       : 0.00377353676595\n",
      "... Momentum            : None\n"
     ]
    },
    {
     "name": "stderr",
     "output_type": "stream",
     "text": [
      "| training  100% Time: 0:00:00                                                 \n",
      "\\ validation   98% ETA:  0:00:00                                               \r"
     ]
    },
    {
     "name": "stdout",
     "output_type": "stream",
     "text": [
      ".. Cost                : 0.00403446\n",
      "... Learning Rate       : 0.0010000000475\n",
      "... Momentum            : None\n"
     ]
    },
    {
     "name": "stderr",
     "output_type": "stream",
     "text": [
      "| validation  100% Time: 0:00:00                                               \n",
      "| training  100% Time: 0:00:00                                                 \n",
      "- training   22% ETA:  0:00:00                                                 \r"
     ]
    },
    {
     "name": "stdout",
     "output_type": "stream",
     "text": [
      ".. Cost                : 0.00157265\n",
      "... Learning Rate       : 0.000950000016019\n",
      "... Momentum            : None\n"
     ]
    },
    {
     "name": "stderr",
     "output_type": "stream",
     "text": [
      "| training  100% Time: 0:00:00                                                 \n",
      "| validation  100% Time: 0:00:00                                               \n"
     ]
    },
    {
     "name": "stdout",
     "output_type": "stream",
     "text": [
      ".. Cost                : 0.000873975\n",
      "... Learning Rate       : 0.000902500003576\n",
      "... Momentum            : None\n"
     ]
    },
    {
     "name": "stderr",
     "output_type": "stream",
     "text": [
      "| training  100% Time: 0:00:00                                                 \n",
      "- training   22% ETA:  0:00:00                                                 \r"
     ]
    },
    {
     "name": "stdout",
     "output_type": "stream",
     "text": [
      ".. Cost                : 0.000544938\n",
      "... Learning Rate       : 0.000857374980114\n",
      "... Momentum            : None\n"
     ]
    },
    {
     "name": "stderr",
     "output_type": "stream",
     "text": [
      "| training  100% Time: 0:00:00                                                 \n",
      "| validation  100% Time: 0:00:00                                               \n"
     ]
    },
    {
     "name": "stdout",
     "output_type": "stream",
     "text": [
      ".. Cost                : 0.000377974\n",
      "... Learning Rate       : 0.000814506202005\n",
      "... Momentum            : None\n"
     ]
    },
    {
     "name": "stderr",
     "output_type": "stream",
     "text": [
      "| training  100% Time: 0:00:00                                                 \n",
      "- training   22% ETA:  0:00:00                                                 \r"
     ]
    },
    {
     "name": "stdout",
     "output_type": "stream",
     "text": [
      ".. Cost                : 0.000280538\n",
      "... Learning Rate       : 0.000773780862801\n",
      "... Momentum            : None\n"
     ]
    },
    {
     "name": "stderr",
     "output_type": "stream",
     "text": [
      "| training  100% Time: 0:00:00                                                 \n",
      "| validation  100% Time: 0:00:00                                               \n"
     ]
    },
    {
     "name": "stdout",
     "output_type": "stream",
     "text": [
      ".. Cost                : 0.000221617\n",
      "... Learning Rate       : 0.000735091802198\n",
      "... Momentum            : None\n"
     ]
    },
    {
     "name": "stderr",
     "output_type": "stream",
     "text": [
      "| training  100% Time: 0:00:00                                                 \n",
      "/ training   21% ETA:  0:00:00                                                 \r"
     ]
    },
    {
     "name": "stdout",
     "output_type": "stream",
     "text": [
      ".. Cost                : 0.000184564\n",
      "... Learning Rate       : 0.000698337214999\n",
      "... Momentum            : None\n"
     ]
    },
    {
     "name": "stderr",
     "output_type": "stream",
     "text": [
      "| training  100% Time: 0:00:00                                                 \n",
      "| validation  100% Time: 0:00:00                                               \n"
     ]
    },
    {
     "name": "stdout",
     "output_type": "stream",
     "text": [
      ".. Cost                : 0.00015988\n",
      "... Learning Rate       : 0.00066342036007\n",
      "... Momentum            : None\n"
     ]
    },
    {
     "name": "stderr",
     "output_type": "stream",
     "text": [
      "| training  100% Time: 0:00:00                                                 \n",
      "- training   22% ETA:  0:00:00                                                 \r"
     ]
    },
    {
     "name": "stdout",
     "output_type": "stream",
     "text": [
      ".. Cost                : 0.000142023\n",
      "... Learning Rate       : 0.000630249327514\n",
      "... Momentum            : None\n"
     ]
    },
    {
     "name": "stderr",
     "output_type": "stream",
     "text": [
      "| training  100% Time: 0:00:00                                                 \n",
      "| validation  100% Time: 0:00:00                                               \n"
     ]
    },
    {
     "name": "stdout",
     "output_type": "stream",
     "text": [
      ".. Cost                : 0.000128341\n",
      "... Learning Rate       : 0.000598736864049\n",
      "... Momentum            : None\n"
     ]
    },
    {
     "name": "stderr",
     "output_type": "stream",
     "text": [
      "| training  100% Time: 0:00:00                                                 \n",
      "/ training   21% ETA:  0:00:00                                                 \r"
     ]
    },
    {
     "name": "stdout",
     "output_type": "stream",
     "text": [
      ".. Cost                : 0.000117554\n",
      "... Learning Rate       : 0.000568800023757\n",
      "... Momentum            : None\n"
     ]
    },
    {
     "name": "stderr",
     "output_type": "stream",
     "text": [
      "| training  100% Time: 0:00:00                                                 \n",
      "| validation  100% Time: 0:00:00                                               \n"
     ]
    },
    {
     "name": "stdout",
     "output_type": "stream",
     "text": [
      ".. Cost                : 0.000109164\n",
      "... Learning Rate       : 0.000540359993465\n",
      "... Momentum            : None\n"
     ]
    },
    {
     "name": "stderr",
     "output_type": "stream",
     "text": [
      "| training  100% Time: 0:00:00                                                 \n",
      "\\ training   19% ETA:  0:00:00                                                 \r"
     ]
    },
    {
     "name": "stdout",
     "output_type": "stream",
     "text": [
      ".. Cost                : 0.000102014\n",
      "... Learning Rate       : 0.00051334197633\n",
      "... Momentum            : None\n"
     ]
    },
    {
     "name": "stderr",
     "output_type": "stream",
     "text": [
      "| training  100% Time: 0:00:00                                                 \n",
      "| validation  100% Time: 0:00:00                                               \n"
     ]
    },
    {
     "name": "stdout",
     "output_type": "stream",
     "text": [
      ".. Cost                : 9.62023e-05\n",
      "... Learning Rate       : 0.000487674871692\n",
      "... Momentum            : None\n"
     ]
    },
    {
     "name": "stderr",
     "output_type": "stream",
     "text": [
      "| training  100% Time: 0:00:00                                                 \n",
      "- training   22% ETA:  0:00:00                                                 \r"
     ]
    },
    {
     "name": "stdout",
     "output_type": "stream",
     "text": [
      ".. Cost                : 9.1159e-05\n",
      "... Learning Rate       : 0.000463291129563\n",
      "... Momentum            : None\n"
     ]
    },
    {
     "name": "stderr",
     "output_type": "stream",
     "text": [
      "| training  100% Time: 0:00:00                                                 \n",
      "| validation  100% Time: 0:00:00                                               \n"
     ]
    },
    {
     "name": "stdout",
     "output_type": "stream",
     "text": [
      ".. Cost                : 8.69486e-05\n",
      "... Learning Rate       : 0.000440126575995\n",
      "... Momentum            : None\n"
     ]
    },
    {
     "name": "stderr",
     "output_type": "stream",
     "text": [
      "| training  100% Time: 0:00:00                                                 \n",
      "- training   22% ETA:  0:00:00                                                 \r"
     ]
    },
    {
     "name": "stdout",
     "output_type": "stream",
     "text": [
      ".. Cost                : 8.32499e-05\n",
      "... Learning Rate       : 0.000418120238464\n",
      "... Momentum            : None\n"
     ]
    },
    {
     "name": "stderr",
     "output_type": "stream",
     "text": [
      "| training  100% Time: 0:00:00                                                 \n",
      "| validation  100% Time: 0:00:00                                               \n"
     ]
    },
    {
     "name": "stdout",
     "output_type": "stream",
     "text": [
      ".. Cost                : 8.00483e-05\n",
      "... Learning Rate       : 0.000397214229451\n",
      "... Momentum            : None\n"
     ]
    },
    {
     "name": "stderr",
     "output_type": "stream",
     "text": [
      "| training   92% ETA:  0:00:00                                                 \r"
     ]
    },
    {
     "name": "stdout",
     "output_type": "stream",
     "text": [
      ".. Cost                : 7.72281e-05\n",
      "... Learning Rate       : 0.000377353513613\n",
      "... Momentum            : None\n"
     ]
    },
    {
     "name": "stderr",
     "output_type": "stream",
     "text": [
      "/ training   93% ETA:  0:00:00                                                 \r",
      "- training   94% ETA:  0:00:00                                                 \r",
      "\\ training   95% ETA:  0:00:00                                                 \r",
      "| training   96% ETA:  0:00:00                                                 \r",
      "/ training   97% ETA:  0:00:00                                                 \r",
      "- training   98% ETA:  0:00:00                                                 \r",
      "\\ training   99% ETA:  0:00:00                                                 \r",
      "| training  100% ETA:  0:00:00                                                 \r",
      "| training  100% Time: 0:00:00                                                 \r\n"
     ]
    }
   ],
   "source": [
    "optimizer_params =  {\n",
    "                \"momentum_type\"       : 'false',\n",
    "                \"regularization\"      : (0.0001, 0.0002),\n",
    "                \"optimizer_type\"      : 'rmsprop',\n",
    "                \"id\"                  : 'rmsprop'\n",
    "                        }\n",
    "net = mlp(dataset_params, optimizer_params, 'rmsprop')\n",
    "costs.append(get_cost())"
   ]
  },
  {
   "cell_type": "code",
   "execution_count": 11,
   "metadata": {},
   "outputs": [
    {
     "data": {
      "image/png": "[encoded data removed]",
      "text/plain": [
       "<matplotlib.figure.Figure at 0x7f0a2ef3e050>"
      ]
     },
     "metadata": {},
     "output_type": "display_data"
    }
   ],
   "source": [
    "labels = ['sgd','sgd-polyak','sgd-nestrov', 'adagrad','rmsprop']\n",
    "plot_costs(costs, labels)"
   ]
  },
  {
   "cell_type": "markdown",
   "metadata": {},
   "source": [
    "Above plot shows that rmsprop reaches convergence marginally faster compared to adagrad. \n",
    "\n",
    "##### Need for a new Optimizer\n",
    "We have rmsprop that works well in on-line and non-stationary optimization setting ang we have adagrad that works well with sparse gradients. What if we have a single algorithm that achieves both? we are going to learn about an optimizer that achieves both in the next section\n",
    "\n",
    "## Adam\n",
    "Adam is relatively new algorithm. It got published in 2015. Adam is immune to sparse gradients and non-stationary optimization techniques. It has automatic annealing, It adapts learning rate to each parameter. Let's see the mathematics behind adam.\n",
    "\n",
    "moment calculation:\n",
    "$$m_t = \\beta_1 m_{t-1} + (1-\\beta_1 )g_t$$\n",
    "$$v_t = \\beta_2 v_{t-1} + (1-\\beta_2 )g_t^2$$\n",
    "\n",
    "Bias Update:\n",
    "$$\\hat{m_t} = \\frac{m_t}{1-\\beta_1^t}$$\n",
    "$$\\hat{v_t} = \\frac{v_t}{1-\\beta_2^t}$$\n",
    "\n",
    "Parameter update:\n",
    "$$\\theta _{t+1} = \\theta _t +  \\frac{\\eta}{\\sqrt{\\hat{v_t}} + \\epsilon } \\hat{m_t}$$\n",
    "\n",
    "As shown above adam has three steps ie., moment calculation, bias update and parameter update. In the moment calculation step, adam calculates first order and second order moments. first order moment is the temporal weighted average of the historical gradients and the second order moment is the temporal weighted average of square of historical gradients. $\\beta _1$ and $\\beta _2$ are coefficients similar to forgetting factor in rmsprop and they are close to 1. Authors who proposed this technique suggested to use 0.9 for $\\beta _1$ and 0.999 for $\\beta _2$. Therefore, $\\beta _1$ and $\\beta _2$ makes $m_t$ and $v_t$ biased towards the historical average because the weight $1-\\beta_1$ and $1-\\beta_2$ for the current gradient is near to zero. \n",
    "At the start of the learning $m_0$ = 0; $v_0$ = 0 which makes the updates biased to zero. Therefore to correct that we use that bias correction term. AS $\\beta _1$ < 1 after few iterations $\\beta_1^t \\approx$ 0 and the bias correction will not effect the moments. Parameter update is equivalent to rmpsprop with polyak momentum becase first order moment is equivalent to polyak momentum and the second order moment is the denominator term in rms prop are same.  $\\epsilon$ is a small constand used to prevent divide-by-zero disaster.\n",
    "\n",
    "Let's see Adam in Action:"
   ]
  },
  {
   "cell_type": "code",
   "execution_count": 13,
   "metadata": {
    "scrolled": true
   },
   "outputs": [
    {
     "name": "stdout",
     "output_type": "stream",
     "text": [
      ". Initializing the network\n",
      ".. Adding input layer input\n",
      ".. Adding dot_product layer dot_product_1\n",
      ".. Adding flatten layer 2\n",
      ".. Adding dot_product layer dot_product_2\n",
      ".. Adding classifier layer softmax\n",
      ".. Adding objective layer nll\n",
      ".. Setting up the optimizer\n"
     ]
    },
    {
     "name": "stderr",
     "output_type": "stream",
     "text": [
      "| training  100% Time: 0:00:00                                                 \n",
      "| validation  100% Time: 0:00:00                                               \n"
     ]
    },
    {
     "name": "stdout",
     "output_type": "stream",
     "text": [
      ".. Cost                : 0.362432\n",
      "... Learning Rate       : 0.00999999977648\n",
      "... Momentum            : None\n"
     ]
    },
    {
     "name": "stderr",
     "output_type": "stream",
     "text": [
      "| training  100% Time: 0:00:00                                                 \n",
      "\\ training   23% ETA:  0:00:00                                                 \r"
     ]
    },
    {
     "name": "stdout",
     "output_type": "stream",
     "text": [
      ".. Cost                : 0.111809\n",
      "... Learning Rate       : 0.00949999969453\n",
      "... Momentum            : None\n"
     ]
    },
    {
     "name": "stderr",
     "output_type": "stream",
     "text": [
      "| training  100% Time: 0:00:00                                                 \n",
      "| validation  100% Time: 0:00:00                                               \n"
     ]
    },
    {
     "name": "stdout",
     "output_type": "stream",
     "text": [
      ".. Cost                : 0.0835949\n",
      "... Learning Rate       : 0.00902500003576\n",
      "... Momentum            : None\n"
     ]
    },
    {
     "name": "stderr",
     "output_type": "stream",
     "text": [
      "| training  100% Time: 0:00:00                                                 \n",
      "\\ training   23% ETA:  0:00:00                                                 \r"
     ]
    },
    {
     "name": "stdout",
     "output_type": "stream",
     "text": [
      ".. Cost                : 0.0682858\n",
      "... Learning Rate       : 0.00857375003397\n",
      "... Momentum            : None\n"
     ]
    },
    {
     "name": "stderr",
     "output_type": "stream",
     "text": [
      "| training  100% Time: 0:00:00                                                 \n",
      "| validation  100% Time: 0:00:00                                               \n"
     ]
    },
    {
     "name": "stdout",
     "output_type": "stream",
     "text": [
      ".. Cost                : 0.0574818\n",
      "... Learning Rate       : 0.00814506225288\n",
      "... Momentum            : None\n"
     ]
    },
    {
     "name": "stderr",
     "output_type": "stream",
     "text": [
      "| training  100% Time: 0:00:00                                                 \n",
      "| training   20% ETA:  0:00:00                                                 \r"
     ]
    },
    {
     "name": "stdout",
     "output_type": "stream",
     "text": [
      ".. Cost                : 0.0465513\n",
      "... Learning Rate       : 0.0077378093265\n",
      "... Momentum            : None\n"
     ]
    },
    {
     "name": "stderr",
     "output_type": "stream",
     "text": [
      "| training  100% Time: 0:00:00                                                 \n",
      "| validation  100% Time: 0:00:00                                               \n"
     ]
    },
    {
     "name": "stdout",
     "output_type": "stream",
     "text": [
      ".. Cost                : 0.0432484\n",
      "... Learning Rate       : 0.00735091883689\n",
      "... Momentum            : None\n"
     ]
    },
    {
     "name": "stderr",
     "output_type": "stream",
     "text": [
      "| training  100% Time: 0:00:00                                                 \n",
      "- training   22% ETA:  0:00:00                                                 \r"
     ]
    },
    {
     "name": "stdout",
     "output_type": "stream",
     "text": [
      ".. Cost                : 0.0470485\n",
      "... Learning Rate       : 0.00698337284848\n",
      "... Momentum            : None\n"
     ]
    },
    {
     "name": "stderr",
     "output_type": "stream",
     "text": [
      "| training  100% Time: 0:00:00                                                 \n",
      "| validation  100% Time: 0:00:00                                               \n"
     ]
    },
    {
     "name": "stdout",
     "output_type": "stream",
     "text": [
      ".. Cost                : 0.0377975\n",
      "... Learning Rate       : 0.00663420418277\n",
      "... Momentum            : None\n"
     ]
    },
    {
     "name": "stderr",
     "output_type": "stream",
     "text": [
      "| training  100% Time: 0:00:00                                                 \n",
      "\\ training   23% ETA:  0:00:00                                                 \r"
     ]
    },
    {
     "name": "stdout",
     "output_type": "stream",
     "text": [
      ".. Cost                : 0.0332297\n",
      "... Learning Rate       : 0.00630249409005\n",
      "... Momentum            : None\n"
     ]
    },
    {
     "name": "stderr",
     "output_type": "stream",
     "text": [
      "| training  100% Time: 0:00:00                                                 \n",
      "| validation  100% Time: 0:00:00                                               \n"
     ]
    },
    {
     "name": "stdout",
     "output_type": "stream",
     "text": [
      ".. Cost                : 0.0302726\n",
      "... Learning Rate       : 0.0059873694554\n",
      "... Momentum            : None\n"
     ]
    },
    {
     "name": "stderr",
     "output_type": "stream",
     "text": [
      "| training  100% Time: 0:00:00                                                 \n",
      "\\ training   23% ETA:  0:00:00                                                 \r"
     ]
    },
    {
     "name": "stdout",
     "output_type": "stream",
     "text": [
      ".. Cost                : 0.0214966\n",
      "... Learning Rate       : 0.00568800093606\n",
      "... Momentum            : None\n"
     ]
    },
    {
     "name": "stderr",
     "output_type": "stream",
     "text": [
      "| training  100% Time: 0:00:00                                                 \n",
      "| validation  100% Time: 0:00:00                                               \n"
     ]
    },
    {
     "name": "stdout",
     "output_type": "stream",
     "text": [
      ".. Cost                : 0.0180245\n",
      "... Learning Rate       : 0.00540360109881\n",
      "... Momentum            : None\n"
     ]
    },
    {
     "name": "stderr",
     "output_type": "stream",
     "text": [
      "| training  100% Time: 0:00:00                                                 \n",
      "\\ training   23% ETA:  0:00:00                                                 \r"
     ]
    },
    {
     "name": "stdout",
     "output_type": "stream",
     "text": [
      ".. Cost                : 0.0147772\n",
      "... Learning Rate       : 0.00513342116028\n",
      "... Momentum            : None\n"
     ]
    },
    {
     "name": "stderr",
     "output_type": "stream",
     "text": [
      "| training  100% Time: 0:00:00                                                 \n",
      "| validation  100% Time: 0:00:00                                               \n"
     ]
    },
    {
     "name": "stdout",
     "output_type": "stream",
     "text": [
      ".. Cost                : 0.0176706\n",
      "... Learning Rate       : 0.0048767500557\n",
      "... Momentum            : None\n"
     ]
    },
    {
     "name": "stderr",
     "output_type": "stream",
     "text": [
      "| training  100% Time: 0:00:00                                                 \n",
      "\\ training   23% ETA:  0:00:00                                                 \r"
     ]
    },
    {
     "name": "stdout",
     "output_type": "stream",
     "text": [
      ".. Cost                : 0.00960995\n",
      "... Learning Rate       : 0.0046329125762\n",
      "... Momentum            : None\n"
     ]
    },
    {
     "name": "stderr",
     "output_type": "stream",
     "text": [
      "| training  100% Time: 0:00:00                                                 \n",
      "| validation  100% Time: 0:00:00                                               \n"
     ]
    },
    {
     "name": "stdout",
     "output_type": "stream",
     "text": [
      ".. Cost                : 0.00998307\n",
      "... Learning Rate       : 0.00440126704052\n",
      "... Momentum            : None\n"
     ]
    },
    {
     "name": "stderr",
     "output_type": "stream",
     "text": [
      "| training  100% Time: 0:00:00                                                 \n",
      "\\ training   23% ETA:  0:00:00                                                 \r"
     ]
    },
    {
     "name": "stdout",
     "output_type": "stream",
     "text": [
      ".. Cost                : 0.00991542\n",
      "... Learning Rate       : 0.00418120389804\n",
      "... Momentum            : None\n"
     ]
    },
    {
     "name": "stderr",
     "output_type": "stream",
     "text": [
      "| training  100% Time: 0:00:00                                                 \n",
      "| validation  100% Time: 0:00:00                                               \n"
     ]
    },
    {
     "name": "stdout",
     "output_type": "stream",
     "text": [
      ".. Cost                : 0.0085059\n",
      "... Learning Rate       : 0.00397214386612\n",
      "... Momentum            : None\n"
     ]
    },
    {
     "name": "stderr",
     "output_type": "stream",
     "text": [
      "| training  100% Time: 0:00:00                                                 \n",
      "\\ training   23% ETA:  0:00:00                                                 \r"
     ]
    },
    {
     "name": "stdout",
     "output_type": "stream",
     "text": [
      ".. Cost                : 0.00414123\n",
      "... Learning Rate       : 0.00377353676595\n",
      "... Momentum            : None\n"
     ]
    },
    {
     "name": "stderr",
     "output_type": "stream",
     "text": [
      "| training  100% Time: 0:00:00                                                 \n",
      "| validation  100% Time: 0:00:00                                               \n"
     ]
    },
    {
     "name": "stdout",
     "output_type": "stream",
     "text": [
      ".. Cost                : 0.00353667\n",
      "... Learning Rate       : 0.0010000000475\n",
      "... Momentum            : None\n"
     ]
    },
    {
     "name": "stderr",
     "output_type": "stream",
     "text": [
      "| training  100% Time: 0:00:00                                                 \n",
      "\\ training   23% ETA:  0:00:00                                                 \r"
     ]
    },
    {
     "name": "stdout",
     "output_type": "stream",
     "text": [
      ".. Cost                : 0.000711566\n",
      "... Learning Rate       : 0.000950000016019\n",
      "... Momentum            : None\n"
     ]
    },
    {
     "name": "stderr",
     "output_type": "stream",
     "text": [
      "| training  100% Time: 0:00:00                                                 \n",
      "| validation  100% Time: 0:00:00                                               \n"
     ]
    },
    {
     "name": "stdout",
     "output_type": "stream",
     "text": [
      ".. Cost                : 0.000402329\n",
      "... Learning Rate       : 0.000902500003576\n",
      "... Momentum            : None\n"
     ]
    },
    {
     "name": "stderr",
     "output_type": "stream",
     "text": [
      "| training  100% Time: 0:00:00                                                 \n",
      "\\ training   23% ETA:  0:00:00                                                 \r"
     ]
    },
    {
     "name": "stdout",
     "output_type": "stream",
     "text": [
      ".. Cost                : 0.000323398\n",
      "... Learning Rate       : 0.000857374980114\n",
      "... Momentum            : None\n"
     ]
    },
    {
     "name": "stderr",
     "output_type": "stream",
     "text": [
      "| training  100% Time: 0:00:00                                                 \n",
      "| validation  100% Time: 0:00:00                                               \n"
     ]
    },
    {
     "name": "stdout",
     "output_type": "stream",
     "text": [
      ".. Cost                : 0.000276283\n",
      "... Learning Rate       : 0.000814506202005\n",
      "... Momentum            : None\n"
     ]
    },
    {
     "name": "stderr",
     "output_type": "stream",
     "text": [
      "| training  100% Time: 0:00:00                                                 \n",
      "\\ training   23% ETA:  0:00:00                                                 \r"
     ]
    },
    {
     "name": "stdout",
     "output_type": "stream",
     "text": [
      ".. Cost                : 0.000242125\n",
      "... Learning Rate       : 0.000773780862801\n",
      "... Momentum            : None\n"
     ]
    },
    {
     "name": "stderr",
     "output_type": "stream",
     "text": [
      "| training  100% Time: 0:00:00                                                 \n",
      "| validation  100% Time: 0:00:00                                               \n"
     ]
    },
    {
     "name": "stdout",
     "output_type": "stream",
     "text": [
      ".. Cost                : 0.000216403\n",
      "... Learning Rate       : 0.000735091802198\n",
      "... Momentum            : None\n"
     ]
    },
    {
     "name": "stderr",
     "output_type": "stream",
     "text": [
      "| training  100% Time: 0:00:00                                                 \n",
      "\\ training   23% ETA:  0:00:00                                                 \r"
     ]
    },
    {
     "name": "stdout",
     "output_type": "stream",
     "text": [
      ".. Cost                : 0.000195929\n",
      "... Learning Rate       : 0.000698337214999\n",
      "... Momentum            : None\n"
     ]
    },
    {
     "name": "stderr",
     "output_type": "stream",
     "text": [
      "| training  100% Time: 0:00:00                                                 \n",
      "| validation  100% Time: 0:00:00                                               \n"
     ]
    },
    {
     "name": "stdout",
     "output_type": "stream",
     "text": [
      ".. Cost                : 0.000179242\n",
      "... Learning Rate       : 0.00066342036007\n",
      "... Momentum            : None\n"
     ]
    },
    {
     "name": "stderr",
     "output_type": "stream",
     "text": [
      "| training  100% Time: 0:00:00                                                 \n",
      "| training   20% ETA:  0:00:00                                                 \r"
     ]
    },
    {
     "name": "stdout",
     "output_type": "stream",
     "text": [
      ".. Cost                : 0.000165267\n",
      "... Learning Rate       : 0.000630249327514\n",
      "... Momentum            : None\n"
     ]
    },
    {
     "name": "stderr",
     "output_type": "stream",
     "text": [
      "| training  100% Time: 0:00:00                                                 \n",
      "| validation  100% Time: 0:00:00                                               \n"
     ]
    },
    {
     "name": "stdout",
     "output_type": "stream",
     "text": [
      ".. Cost                : 0.000153327\n",
      "... Learning Rate       : 0.000598736864049\n",
      "... Momentum            : None\n"
     ]
    },
    {
     "name": "stderr",
     "output_type": "stream",
     "text": [
      "| training  100% Time: 0:00:00                                                 \n",
      "\\ training   23% ETA:  0:00:00                                                 \r"
     ]
    },
    {
     "name": "stdout",
     "output_type": "stream",
     "text": [
      ".. Cost                : 0.000142855\n",
      "... Learning Rate       : 0.000568800023757\n",
      "... Momentum            : None\n"
     ]
    },
    {
     "name": "stderr",
     "output_type": "stream",
     "text": [
      "| training  100% Time: 0:00:00                                                 \n",
      "| validation  100% Time: 0:00:00                                               \n"
     ]
    },
    {
     "name": "stdout",
     "output_type": "stream",
     "text": [
      ".. Cost                : 0.000134077\n",
      "... Learning Rate       : 0.000540359993465\n",
      "... Momentum            : None\n"
     ]
    },
    {
     "name": "stderr",
     "output_type": "stream",
     "text": [
      "| training  100% Time: 0:00:00                                                 \n",
      "\\ training   23% ETA:  0:00:00                                                 \r"
     ]
    },
    {
     "name": "stdout",
     "output_type": "stream",
     "text": [
      ".. Cost                : 0.00012608\n",
      "... Learning Rate       : 0.00051334197633\n",
      "... Momentum            : None\n"
     ]
    },
    {
     "name": "stderr",
     "output_type": "stream",
     "text": [
      "| training  100% Time: 0:00:00                                                 \n",
      "| validation  100% Time: 0:00:00                                               \n"
     ]
    },
    {
     "name": "stdout",
     "output_type": "stream",
     "text": [
      ".. Cost                : 0.000118993\n",
      "... Learning Rate       : 0.000487674871692\n",
      "... Momentum            : None\n"
     ]
    },
    {
     "name": "stderr",
     "output_type": "stream",
     "text": [
      "| training  100% Time: 0:00:00                                                 \n",
      "\\ training   23% ETA:  0:00:00                                                 \r"
     ]
    },
    {
     "name": "stdout",
     "output_type": "stream",
     "text": [
      ".. Cost                : 0.000112693\n",
      "... Learning Rate       : 0.000463291129563\n",
      "... Momentum            : None\n"
     ]
    },
    {
     "name": "stderr",
     "output_type": "stream",
     "text": [
      "| training  100% Time: 0:00:00                                                 \n",
      "| validation  100% Time: 0:00:00                                               \n"
     ]
    },
    {
     "name": "stdout",
     "output_type": "stream",
     "text": [
      ".. Cost                : 0.000107024\n",
      "... Learning Rate       : 0.000440126575995\n",
      "... Momentum            : None\n"
     ]
    },
    {
     "name": "stderr",
     "output_type": "stream",
     "text": [
      "| training  100% Time: 0:00:00                                                 \n",
      "\\ training   23% ETA:  0:00:00                                                 \r"
     ]
    },
    {
     "name": "stdout",
     "output_type": "stream",
     "text": [
      ".. Cost                : 0.000101824\n",
      "... Learning Rate       : 0.000418120238464\n",
      "... Momentum            : None\n"
     ]
    },
    {
     "name": "stderr",
     "output_type": "stream",
     "text": [
      "| training  100% Time: 0:00:00                                                 \n",
      "| validation  100% Time: 0:00:00                                               \n"
     ]
    },
    {
     "name": "stdout",
     "output_type": "stream",
     "text": [
      ".. Cost                : 9.72436e-05\n",
      "... Learning Rate       : 0.000397214229451\n",
      "... Momentum            : None\n"
     ]
    },
    {
     "name": "stderr",
     "output_type": "stream",
     "text": [
      "/ training   93% ETA:  0:00:00                                                 \r"
     ]
    },
    {
     "name": "stdout",
     "output_type": "stream",
     "text": [
      ".. Cost                : 9.2925e-05\n",
      "... Learning Rate       : 0.000377353513613\n",
      "... Momentum            : None\n"
     ]
    },
    {
     "name": "stderr",
     "output_type": "stream",
     "text": [
      "- training   94% ETA:  0:00:00                                                 \r",
      "\\ training   95% ETA:  0:00:00                                                 \r",
      "| training   96% ETA:  0:00:00                                                 \r",
      "/ training   97% ETA:  0:00:00                                                 \r",
      "- training   98% ETA:  0:00:00                                                 \r",
      "\\ training   99% ETA:  0:00:00                                                 \r",
      "| training  100% ETA:  0:00:00                                                 \r",
      "| training  100% Time: 0:00:00                                                 \r\n"
     ]
    }
   ],
   "source": [
    "optimizer_params =  {\n",
    "                \"momentum_type\"       : 'false',\n",
    "                \"regularization\"      : (0.0001, 0.0002),\n",
    "                \"optimizer_type\"      : 'adam',\n",
    "                \"id\"                  : 'adam'\n",
    "                        }\n",
    "net = mlp(dataset_params, optimizer_params, 'adam')\n",
    "costs.append(get_cost())"
   ]
  },
  {
   "cell_type": "code",
   "execution_count": 14,
   "metadata": {},
   "outputs": [
    {
     "data": {
      "image/png": "[encoded data removed]",
      "text/plain": [
       "<matplotlib.figure.Figure at 0x7f0a24fe1150>"
      ]
     },
     "metadata": {},
     "output_type": "display_data"
    }
   ],
   "source": [
    "labels = ['sgd','sgd-polyak','sgd-nestrov', 'adagrad','rmsprop','adam']\n",
    "plot_costs(costs, labels)"
   ]
  },
  {
   "cell_type": "markdown",
   "metadata": {},
   "source": [
    "The above plot shows that adam performs slightly better compared to rmsprop. \n",
    "\n",
    "To conclude this discussion of optimizers, this tutorial follows a path for introducing new optimizers. However that doesn't mean that adam works better than other techniques in every scenario. There may be many cases where adagrad may overperform rmsprop/adam. It is advised to analyze these technqiues and use them based on the requirement."
   ]
  }
 ],
 "metadata": {
  "kernelspec": {
   "display_name": "Python 2",
   "language": "python",
   "name": "python2"
  },
  "language_info": {
   "codemirror_mode": {
    "name": "ipython",
    "version": 2
   },
   "file_extension": ".py",
   "mimetype": "text/x-python",
   "name": "python",
   "nbconvert_exporter": "python",
   "pygments_lexer": "ipython2",
   "version": "2.7.13"
  }
 },
 "nbformat": 4,
 "nbformat_minor": 2
}
