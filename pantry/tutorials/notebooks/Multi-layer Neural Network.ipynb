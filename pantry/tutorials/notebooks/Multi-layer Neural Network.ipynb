{
 "cells": [
  {
   "cell_type": "markdown",
   "metadata": {},
   "source": [
    "# Multi-layer Neural Network\n",
    "By virture of being here, it is assumed that you have gone through the [Quick Start](http://yann.readthedocs.io/en/master/index.html#quick-start). To recap the Quicks tart tutorial, We imported MNIST dataset and trained a  Logistic Regression  which produces a linear classification boundary. It is impossible to learn complex functions like XOR with linear classification boundary.\n",
    "\n",
    "A Neural Network is a function approximator consisting of several neurons organized in a layered fashion. Each neuron takes input from previous layer, performs some mathematical calculation and sends output to next layer. A neuron produces output only if the result of the calculation it performs is greater than some threshold. This threshold function is called activation function. Depending on the type of the task different activation functions can be used. Some of the most commonly used activation functions are sigmoid, tanh, ReLu and maxout. It is inspired from the functioning of human brain where one neuron sends signal to other neuron only if the electical signal in the first neuron is greater than some threshold.\n",
    "\n",
    "A Feed Forward Neural network/ multi-layer perceptron has an input layer, an output layer and some hidden layers. The actual magic of the neural networks happens in the hidden layers and they represent the function the network is trying to approximate. Output layer is generally a softmax function that converts the inputs into probabilities.  Let us look at the mathematical representation of the hidden layer and output layer\n",
    "\n",
    "#### Hidden layer:\n",
    "let $[a_{i-1}^1], a_{i-1}^2, a_{i-1}^3 ........ a_{i-1}^n]$ be the activations of the previous layer $i-1$\n",
    "$$h_i = w_i^0 + w_i^1a_{i-1}^1 + w_i^2a_{i-1}^2 + ...... + w_i^na_{i-1}^n$$\n",
    "$$a_i = act(h_i)$$\n",
    " Where i is the layer number,\n",
    "       $[w_i^1, w_i^2, w_i^3, ......... w_i^n]$ be the parameters between the $i^{th}$ and $(i-1)^{th}$ layer, $w_i^0$ is the bias which is the input when there is no activation from the previous layer,\n",
    "       1,2....n are the dimensions of the layer,\n",
    "       $a_i$ is the activation at the layer, and $act()$ is the activation function for that layer. \n",
    "       \n",
    "#### Output layer:\n",
    "let our network has l layers\n",
    "$$z = w_i^0 + w_i^1a_{i-1}^1 + w_i^2a_{i-1}^2 + ...... + w_i^na_{i-1}^n$$\n",
    "$$a = softmax(z)$$\n",
    "$$correct class = argmax(a)$$\n",
    "\n",
    "Where a represents the output probabilities, z represents the weighted activations of the previous layer.\n",
    "\n",
    "### Neural Network training:-\n",
    "Neural Network has a lot of parameters to learn. Consider a neural network with 2 layers of each 100 neurons and input dimension of 1024 and 10 outputs. Then the number of parameters to learn is 1024 * 100 * 100 * 10 i.e., 102400000 parameters. Learning these many parameters is a complex task because for each parameter we need to calculate the gradient of error function and update the parameters with that gradient. The computational instability of this process is the reason for neural networks to loose it's charm quickly. There is a technique called Back propagation that solved this problem. The following section gives a brief insight into the backpropagation technique.\n",
    "\n",
    "## Back Propagation:\n",
    "YANN handles the Back propagation by itself. But, it does not hurt to know how it works. A neural network can be represented mathematically as $$O = f_1(W_l(f_2(W_{l-1}f_3(..f_n(WX)..)))$$ where $f_1, f_2, f_3$ are activation functions. \n",
    "An Error function can be represented as $$E(f_1(W_l(f_2(W_{l-1}f_3(..f_n(WX)..))))$$ where $E()$ is some error function. The gradient of $W_l$ is given by:\n",
    "\n",
    "$$g_l = \\frac{\\partial E(f_1(W_lf_2(W_{l-1}f_3(..f_n(WX)..))))}{\\partial W_l} $$\n",
    "Applying chain rule:\n",
    "$$g_l = \\frac{\\partial E(f_1())}{\\partial f_1}\\frac{\\partial f_1}{\\partial W_l}\n",
    "$$\n",
    "The gradient of error w.r.t $W_{l-1}$ after applying chain rule:\n",
    "$$g_l = \\frac{\\partial E(f_1())}{\\partial f_1}\\frac{\\partial f_1(W_lf_2())}{\\partial f_2}\\frac{\\partial f_2()}{\\partial W_2}\n",
    "$$\n",
    "\n",
    "In the above equations the first term $\\frac{\\partial E(f_1())}{\\partial f_1}$ remains same for both gradients. Similarly for rest of the parameters we reuse the terms from the previous gradient calculation. This process drastically reduces the number of calculations in Neural Network training.  \n",
    "\n",
    "Let us take this one step further and create a neural network with two hidden layers. We begin as usual by importing the network class and creating the input layer."
   ]
  },
  {
   "cell_type": "code",
   "execution_count": 2,
   "metadata": {},
   "outputs": [
    {
     "name": "stdout",
     "output_type": "stream",
     "text": [
      ". Setting up dataset \n",
      ".. setting up skdata\n",
      "... Importing mnist from skdata\n",
      ".. setting up dataset\n",
      ".. training data\n",
      ".. validation data \n",
      ".. testing data \n",
      ". Dataset 24331 is created.\n",
      ". Time taken is 0.936363 seconds\n",
      ". Initializing the network\n",
      ".. Adding input layer input\n"
     ]
    }
   ],
   "source": [
    "from yann.network import network\n",
    "from yann.special.datasets import cook_mnist\n",
    "\n",
    "data = cook_mnist()\n",
    "dataset_params  = { \"dataset\": data.dataset_location(), \"id\": 'mnist', \"n_classes\" : 10 }\n",
    "\n",
    "net = network()\n",
    "net.add_layer(type = \"input\", id =\"input\", dataset_init_args = dataset_params)"
   ]
  },
  {
   "cell_type": "markdown",
   "metadata": {},
   "source": [
    "In Instead of connecting this to a classfier as we saw in the [Quick Start](http://yann.readthedocs.io/en/master/index.html#quick-start) , let us add a couple of fully connected hidden layers. Hidden layers can be created using layer type = dot_product."
   ]
  },
  {
   "cell_type": "code",
   "execution_count": 3,
   "metadata": {},
   "outputs": [
    {
     "name": "stdout",
     "output_type": "stream",
     "text": [
      ".. Adding dot_product layer dot_product_1\n",
      ".. Adding flatten layer 2\n",
      ".. Adding dot_product layer dot_product_2\n"
     ]
    }
   ],
   "source": [
    "net.add_layer (type = \"dot_product\",\n",
    "               origin =\"input\",\n",
    "               id = \"dot_product_1\",\n",
    "               num_neurons = 800,\n",
    "               regularize = True,\n",
    "               activation ='relu')\n",
    "\n",
    "net.add_layer (type = \"dot_product\",\n",
    "               origin =\"dot_product_1\",\n",
    "               id = \"dot_product_2\",\n",
    "               num_neurons = 800,\n",
    "               regularize = True,\n",
    "               activation ='relu')"
   ]
  },
  {
   "cell_type": "markdown",
   "metadata": {},
   "source": [
    "Notice the parameters passed. ***num_neurons*** is the number of nodes in the layer. Notice also how we modularized the layers by using the ***id*** parameter. ***origin*** represents which layer will be the input to the new layer. By default yann assumes all layers are input serially and chooses the last added layer to be the input. Using ***origin***, one can create various types of architectures. Infact any directed acyclic graphs (DAGs) that could be hand-drawn could be implemented. Let us now add a classifier and an objective layer to this."
   ]
  },
  {
   "cell_type": "code",
   "execution_count": 4,
   "metadata": {},
   "outputs": [
    {
     "name": "stdout",
     "output_type": "stream",
     "text": [
      ".. Adding classifier layer softmax\n",
      ".. Adding objective layer nll\n"
     ]
    }
   ],
   "source": [
    "net.add_layer ( type = \"classifier\",\n",
    "                id = \"softmax\",\n",
    "                origin = \"dot_product_2\",\n",
    "                num_classes = 10,\n",
    "                activation = 'softmax',\n",
    "                )\n",
    "\n",
    "net.add_layer ( type = \"objective\",\n",
    "                id = \"nll\",\n",
    "                origin = \"softmax\",\n",
    "                )"
   ]
  },
  {
   "cell_type": "markdown",
   "metadata": {},
   "source": [
    "The following block is something we did not use in the Quick Start tutorial. We are adding optimizer and optimizer parameters to the network. Let us create our own optimizer module this time instead of using the yann default. For any ***module*** in yann, the initialization can be done using the ***`add_module`*** method. The ***`add_module`*** method typically takes input ***`type`*** which in this case is ***`optimizer`*** and a set of intitliazation parameters which in our case is ***`params = optimizer_params`***. Any module params, which in this case is the ***`optimizer_params`*** is a dictionary of relevant options. If you are not familiar with the optimizers in neural network, I would suggest you to go through the [Optimizers to Neural network](./Optimization%20for%20Neural%20networks.ipynb) series of tutorials to get familiar with the effect of differnt optimizers in a Nueral Network.\n",
    "\n",
    "A typical ***`optimizer setup`*** is:"
   ]
  },
  {
   "cell_type": "code",
   "execution_count": 10,
   "metadata": {},
   "outputs": [
    {
     "name": "stdout",
     "output_type": "stream",
     "text": [
      ".. Setting up the optimizer\n"
     ]
    }
   ],
   "source": [
    "optimizer_params =  {\n",
    "            \"momentum_type\"       : 'polyak',\n",
    "            \"momentum_params\"     : (0.9, 0.95, 30),\n",
    "            \"regularization\"      : (0.0001, 0.0002),\n",
    "            \"optimizer_type\"      : 'rmsprop',\n",
    "            \"id\"                  : 'polyak-rms'\n",
    "                    }\n",
    "net.add_module ( type = 'optimizer', params = optimizer_params )"
   ]
  },
  {
   "cell_type": "markdown",
   "metadata": {},
   "source": [
    "We have now successfully added a Polyak momentum with RmsProp back propagation with some  and  co-efficients that will be applied to the layers for which we passed as argument ***`regularize = True`***. For more options of parameters on optimizer refer to the [optimizer documentation](http://yann.readthedocs.io/en/master/yann/modules/optimizer.html) . This optimizer will therefore solve the following error:\n",
    "\n",
    "where  is the error,  is the sigmoid layer and  is the ith layer of the network.  "
   ]
  },
  {
   "cell_type": "code",
   "execution_count": 11,
   "metadata": {},
   "outputs": [
    {
     "name": "stdout",
     "output_type": "stream",
     "text": [
      ".. Cooking the network\n",
      ".. All checks complete, cooking continues\n"
     ]
    }
   ],
   "source": [
    "learning_rates = (0.05, 0.01, 0.001)"
   ]
  },
  {
   "cell_type": "markdown",
   "metadata": {},
   "source": [
    "The ***`learning_rate`***, supplied here is a tuple. The first indicates a annealing of a linear rate, the second is the initial learning rate of the first era, and the third value is the leanring rate of the second era. Accordingly, epochs takes in a tuple with number of ***`epochs`*** for each era.\n",
    "\n",
    "Noe we can cook, train and test as usual:"
   ]
  },
  {
   "cell_type": "code",
   "execution_count": 12,
   "metadata": {},
   "outputs": [
    {
     "name": "stdout",
     "output_type": "stream",
     "text": [
      ".. Cooking the network\n",
      ".. All checks complete, cooking continues\n",
      ". Training\n",
      ". \n",
      "\n",
      ".. Epoch: 0 Era: 0\n"
     ]
    },
    {
     "name": "stderr",
     "output_type": "stream",
     "text": [
      "| training  100% Time: 0:00:00                                                 \n",
      "| validation  100% Time: 0:00:00                                               \n"
     ]
    },
    {
     "name": "stdout",
     "output_type": "stream",
     "text": [
      ".. Validation accuracy : 97.37\n",
      ".. Training accuracy : 98.304\n",
      ".. Best training accuracy\n",
      ".. Best validation accuracy\n",
      ".. Cost                : 0.0788697\n",
      "... Learning Rate       : 0.00999999977648\n",
      "... Momentum            : 0.899999976158\n",
      ". \n",
      "\n",
      ".. Epoch: 1 Era: 0\n"
     ]
    },
    {
     "name": "stderr",
     "output_type": "stream",
     "text": [
      "| training  100% Time: 0:00:00                                                 \n",
      "/ training   17% ETA:  0:00:00                                                 \r"
     ]
    },
    {
     "name": "stdout",
     "output_type": "stream",
     "text": [
      ".. Cost                : 0.0589618\n",
      "... Learning Rate       : 0.00949999969453\n",
      "... Momentum            : 0.901666641235\n",
      ". \n",
      "\n",
      ".. Epoch: 2 Era: 0\n"
     ]
    },
    {
     "name": "stderr",
     "output_type": "stream",
     "text": [
      "| training  100% Time: 0:00:00                                                 \n",
      "| validation  100% Time: 0:00:00                                               \n"
     ]
    },
    {
     "name": "stdout",
     "output_type": "stream",
     "text": [
      ".. Validation accuracy : 97.27\n",
      ".. Training accuracy : 98.568\n",
      ".. Best training accuracy\n",
      ".. Cost                : 0.0492305\n",
      "... Learning Rate       : 0.00902500003576\n",
      "... Momentum            : 0.903333306313\n",
      ". \n",
      "\n",
      ".. Epoch: 3 Era: 0\n"
     ]
    },
    {
     "name": "stderr",
     "output_type": "stream",
     "text": [
      "| training  100% Time: 0:00:00                                                 \n",
      "/ training   17% ETA:  0:00:00                                                 \r"
     ]
    },
    {
     "name": "stdout",
     "output_type": "stream",
     "text": [
      ".. Cost                : 0.039751\n",
      "... Learning Rate       : 0.00857375003397\n",
      "... Momentum            : 0.90499997139\n",
      ".. Patience ran out lowering learning rate.\n",
      ". \n",
      "\n",
      ".. Epoch: 4 Era: 0\n"
     ]
    },
    {
     "name": "stderr",
     "output_type": "stream",
     "text": [
      "| training  100% Time: 0:00:00                                                 \n",
      "| validation  100% Time: 0:00:00                                               \n"
     ]
    },
    {
     "name": "stdout",
     "output_type": "stream",
     "text": [
      ".. Validation accuracy : 98.08\n",
      ".. Training accuracy : 99.396\n",
      ".. Best training accuracy\n",
      ".. Best validation accuracy\n",
      ".. Cost                : 0.0666344\n",
      "... Learning Rate       : 0.000814506202005\n",
      "... Momentum            : 0.906666636467\n",
      ".. Patience ran out lowering learning rate.\n",
      ". \n",
      "\n",
      ".. Epoch: 5 Era: 0\n"
     ]
    },
    {
     "name": "stderr",
     "output_type": "stream",
     "text": [
      "| training  100% Time: 0:00:00                                                 \n",
      "/ training   17% ETA:  0:00:00                                                 \r"
     ]
    },
    {
     "name": "stdout",
     "output_type": "stream",
     "text": [
      ".. Cost                : 0.0196242\n",
      "... Learning Rate       : 7.73780848249e-05\n",
      "... Momentum            : 0.908333301544\n",
      ".. Patience ran out lowering learning rate.\n",
      ". \n",
      "\n",
      ".. Epoch: 6 Era: 0\n"
     ]
    },
    {
     "name": "stderr",
     "output_type": "stream",
     "text": [
      "| training  100% Time: 0:00:00                                                 \n",
      "| validation  100% Time: 0:00:00                                               \n"
     ]
    },
    {
     "name": "stdout",
     "output_type": "stream",
     "text": [
      ".. Validation accuracy : 98.1\n",
      ".. Training accuracy : 99.4\n",
      ".. Best training accuracy\n",
      ".. Best validation accuracy\n",
      ".. Cost                : 0.0192627\n",
      "... Learning Rate       : 7.3509181675e-06\n",
      "... Momentum            : 0.909999966621\n",
      ".. Patience ran out lowering learning rate.\n",
      ". \n",
      "\n",
      ".. Epoch: 7 Era: 0\n"
     ]
    },
    {
     "name": "stderr",
     "output_type": "stream",
     "text": [
      "| training  100% Time: 0:00:00                                                 \n",
      "/ training   17% ETA:  0:00:00                                                 \r"
     ]
    },
    {
     "name": "stdout",
     "output_type": "stream",
     "text": [
      ".. Cost                : 0.0189514\n",
      "... Learning Rate       : 6.98337203175e-07\n",
      "... Momentum            : 0.911666631699\n",
      ".. Patience ran out lowering learning rate.\n",
      ". \n",
      "\n",
      ".. Epoch: 8 Era: 0\n"
     ]
    },
    {
     "name": "stderr",
     "output_type": "stream",
     "text": [
      "| training  100% Time: 0:00:00                                                 \n",
      "| validation  100% Time: 0:00:00                                               \n"
     ]
    },
    {
     "name": "stdout",
     "output_type": "stream",
     "text": [
      ".. Validation accuracy : 98.1\n",
      ".. Training accuracy : 99.4\n",
      ".. Cost                : 0.0189819\n",
      "... Learning Rate       : 6.63420323121e-08\n",
      "... Momentum            : 0.91333335638\n",
      ".. Patience ran out lowering learning rate.\n",
      ". \n",
      "\n",
      ".. Epoch: 9 Era: 0\n"
     ]
    },
    {
     "name": "stderr",
     "output_type": "stream",
     "text": [
      "| training  100% Time: 0:00:00                                                 \n",
      "| training   16% ETA:  0:00:00                                                 \r"
     ]
    },
    {
     "name": "stdout",
     "output_type": "stream",
     "text": [
      ".. Cost                : 0.0189849\n",
      "... Learning Rate       : 6.30249274991e-09\n",
      "... Momentum            : 0.914999961853\n",
      ".. Patience ran out lowering learning rate.\n",
      ". \n",
      "\n",
      ".. Epoch: 10 Era: 0\n"
     ]
    },
    {
     "name": "stderr",
     "output_type": "stream",
     "text": [
      "| training  100% Time: 0:00:00                                                 \n",
      "| validation  100% Time: 0:00:00                                               \n"
     ]
    },
    {
     "name": "stdout",
     "output_type": "stream",
     "text": [
      ".. Validation accuracy : 98.1\n",
      ".. Training accuracy : 99.4\n",
      ".. Cost                : 0.0189851\n",
      "... Learning Rate       : 5.98736782376e-10\n",
      "... Momentum            : 0.91666662693\n",
      ".. Patience ran out lowering learning rate.\n",
      ". \n",
      "\n",
      ".. Epoch: 11 Era: 0\n"
     ]
    },
    {
     "name": "stderr",
     "output_type": "stream",
     "text": [
      "| training  100% Time: 0:00:00                                                 \n",
      "\\ training   15% ETA:  0:00:00                                                 \r"
     ]
    },
    {
     "name": "stdout",
     "output_type": "stream",
     "text": [
      ".. Cost                : 0.0189851\n",
      "... Learning Rate       : 5.68799937706e-11\n",
      "... Momentum            : 0.918333292007\n",
      ".. Patience ran out lowering learning rate.\n",
      ". \n",
      "\n",
      ".. Epoch: 12 Era: 0\n"
     ]
    },
    {
     "name": "stderr",
     "output_type": "stream",
     "text": [
      "| training  100% Time: 0:00:00                                                 \n",
      "| validation  100% Time: 0:00:00                                               \n"
     ]
    },
    {
     "name": "stdout",
     "output_type": "stream",
     "text": [
      ".. Validation accuracy : 98.1\n",
      ".. Training accuracy : 99.4\n",
      ".. Cost                : 0.0189851\n",
      "... Learning Rate       : 5.4035994429e-12\n",
      "... Momentum            : 0.919999957085\n",
      ".. Patience ran out lowering learning rate.\n",
      ". \n",
      "\n",
      ".. Epoch: 13 Era: 0\n"
     ]
    },
    {
     "name": "stderr",
     "output_type": "stream",
     "text": [
      "| training  100% Time: 0:00:00                                                 \n",
      "/ training   17% ETA:  0:00:00                                                 \r"
     ]
    },
    {
     "name": "stdout",
     "output_type": "stream",
     "text": [
      ".. Cost                : 0.0189851\n",
      "... Learning Rate       : 5.13341918886e-13\n",
      "... Momentum            : 0.921666622162\n",
      ".. Patience ran out lowering learning rate.\n",
      ". \n",
      "\n",
      ".. Epoch: 14 Era: 0\n"
     ]
    },
    {
     "name": "stderr",
     "output_type": "stream",
     "text": [
      "| training  100% Time: 0:00:00                                                 \n",
      "| validation  100% Time: 0:00:00                                               \n"
     ]
    },
    {
     "name": "stdout",
     "output_type": "stream",
     "text": [
      ".. Validation accuracy : 98.1\n",
      ".. Training accuracy : 99.4\n",
      ".. Cost                : 0.0189851\n",
      "... Learning Rate       : 4.87674848692e-14\n",
      "... Momentum            : 0.923333287239\n",
      ".. Patience ran out lowering learning rate.\n",
      ". \n",
      "\n",
      ".. Epoch: 15 Era: 0\n"
     ]
    },
    {
     "name": "stderr",
     "output_type": "stream",
     "text": [
      "| training  100% Time: 0:00:00                                                 \n",
      "/ training   17% ETA:  0:00:00                                                 \r"
     ]
    },
    {
     "name": "stdout",
     "output_type": "stream",
     "text": [
      ".. Cost                : 0.0189851\n",
      "... Learning Rate       : 4.63291107951e-15\n",
      "... Momentum            : 0.924999952316\n",
      ".. Patience ran out lowering learning rate.\n",
      ". \n",
      "\n",
      ".. Epoch: 16 Era: 0\n"
     ]
    },
    {
     "name": "stderr",
     "output_type": "stream",
     "text": [
      "| training  100% Time: 0:00:00                                                 \n",
      "| validation  100% Time: 0:00:00                                               \n"
     ]
    },
    {
     "name": "stdout",
     "output_type": "stream",
     "text": [
      ".. Validation accuracy : 98.1\n",
      ".. Training accuracy : 99.4\n",
      ".. Cost                : 0.0189851\n",
      "... Learning Rate       : 4.40126525025e-16\n",
      "... Momentum            : 0.926666617393\n",
      ".. Patience ran out lowering learning rate.\n",
      ". \n",
      "\n",
      ".. Epoch: 17 Era: 0\n"
     ]
    },
    {
     "name": "stderr",
     "output_type": "stream",
     "text": [
      "| training  100% Time: 0:00:00                                                 \n",
      "/ training   17% ETA:  0:00:00                                                 \r"
     ]
    },
    {
     "name": "stdout",
     "output_type": "stream",
     "text": [
      ".. Cost                : 0.0189851\n",
      "... Learning Rate       : 4.18120178921e-17\n",
      "... Momentum            : 0.928333282471\n",
      ".. Patience ran out lowering learning rate.\n",
      ". \n",
      "\n",
      ".. Epoch: 18 Era: 0\n"
     ]
    },
    {
     "name": "stderr",
     "output_type": "stream",
     "text": [
      "| training  100% Time: 0:00:00                                                 \n",
      "| validation  100% Time: 0:00:00                                               \n"
     ]
    },
    {
     "name": "stdout",
     "output_type": "stream",
     "text": [
      ".. Validation accuracy : 98.1\n",
      ".. Training accuracy : 99.4\n",
      ".. Cost                : 0.0189851\n",
      "... Learning Rate       : 3.97214198099e-18\n",
      "... Momentum            : 0.929999947548\n",
      ".. Patience ran out lowering learning rate.\n",
      ". \n",
      "\n",
      ".. Epoch: 19 Era: 0\n"
     ]
    },
    {
     "name": "stderr",
     "output_type": "stream",
     "text": [
      "| training  100% Time: 0:00:00                                                 \n",
      "/ training   17% ETA:  0:00:00                                                 \r"
     ]
    },
    {
     "name": "stdout",
     "output_type": "stream",
     "text": [
      ".. Cost                : 0.0189851\n",
      "... Learning Rate       : 3.77353462345e-19\n",
      "... Momentum            : 0.931666612625\n",
      ".. Patience ran out lowering learning rate.\n",
      ".. Learning rate was already lower than specified. Not changing it.\n",
      ".. Old learning rate was :3.5848579569e-20\n",
      ".. Was trying to change to: 0.001\n",
      ". \n",
      "\n",
      ".. Epoch: 20 Era: 1\n"
     ]
    },
    {
     "name": "stderr",
     "output_type": "stream",
     "text": [
      "| training  100% Time: 0:00:00                                                 \n",
      "| validation  100% Time: 0:00:00                                               \n"
     ]
    },
    {
     "name": "stdout",
     "output_type": "stream",
     "text": [
      ".. Validation accuracy : 98.1\n",
      ".. Training accuracy : 99.4\n",
      ".. Cost                : 0.0189851\n",
      "... Learning Rate       : 3.5848579569e-20\n",
      "... Momentum            : 0.933333277702\n",
      ".. Early stopping\n",
      ".. Training complete.Took 0.79049325 minutes\n"
     ]
    }
   ],
   "source": [
    "net.cook( optimizer = 'polyak-rms',\n",
    "          objective_layer = 'nll',\n",
    "          datastream = 'mnist',\n",
    "          classifier = 'softmax',\n",
    "          )\n",
    "\n",
    "net.train( epochs = (20, 20),\n",
    "           validate_after_epochs = 2,\n",
    "           training_accuracy = True,\n",
    "           learning_rates = learning_rates,\n",
    "           show_progress = True,\n",
    "           early_terminate = True)"
   ]
  },
  {
   "cell_type": "markdown",
   "metadata": {},
   "source": [
    "This time, let us not let it run the forty epochs, let us cancel in the middle after some epochs by hitting ^c. Once it stops lets immediately test and demonstrate that the ***`net`*** retains the parameters as updated as possible. \n",
    "Some new arguments are introduced here and they are for the most part easy to understand in context. ***`epoch`*** represents a ***`tuple`*** which is the number of epochs of training and number of epochs of fine tuning epochs after that. There could be several of these stages of finer tuning. Yann uses the term ‘era’ to represent each set of epochs running with one learning rate. ***`show_progress`*** will print a progress bar for each epoch. ***`validate_after_epochs`*** will perform validation after such many epochs on a different validation dataset. \n",
    "\n",
    "Once done, lets run ***`net.test()`***:-"
   ]
  },
  {
   "cell_type": "code",
   "execution_count": 13,
   "metadata": {},
   "outputs": [
    {
     "name": "stdout",
     "output_type": "stream",
     "text": [
      ".. Testing\n"
     ]
    },
    {
     "name": "stderr",
     "output_type": "stream",
     "text": [
      "| testing  100% Time: 0:00:00                                                  \n"
     ]
    },
    {
     "name": "stdout",
     "output_type": "stream",
     "text": [
      ".. Testing accuracy : 97.86\n"
     ]
    }
   ],
   "source": [
    "net.test()"
   ]
  },
  {
   "cell_type": "markdown",
   "metadata": {},
   "source": [
    "The full code for this tutorial with additional commentary can be found in the file ***`pantry.tutorials.mlp.py`***. If you have toolbox cloned or downloaded or just the tutorials downloaded, Run the code as,"
   ]
  },
  {
   "cell_type": "code",
   "execution_count": 16,
   "metadata": {},
   "outputs": [
    {
     "ename": "ImportError",
     "evalue": "No module named pantry.tutorials.mlp",
     "output_type": "error",
     "traceback": [
      "\u001b[0;31m---------------------------------------------------------------------------\u001b[0m",
      "\u001b[0;31mImportError\u001b[0m                               Traceback (most recent call last)",
      "\u001b[0;32m<ipython-input-16-429707094830>\u001b[0m in \u001b[0;36m<module>\u001b[0;34m()\u001b[0m\n\u001b[0;32m----> 1\u001b[0;31m \u001b[0;32mfrom\u001b[0m \u001b[0myann\u001b[0m\u001b[0;34m.\u001b[0m\u001b[0mpantry\u001b[0m\u001b[0;34m.\u001b[0m\u001b[0mtutorials\u001b[0m\u001b[0;34m.\u001b[0m\u001b[0mmlp\u001b[0m \u001b[0;32mimport\u001b[0m \u001b[0mmlp\u001b[0m\u001b[0;34m\u001b[0m\u001b[0m\n\u001b[0m\u001b[1;32m      2\u001b[0m \u001b[0mmlp\u001b[0m\u001b[0;34m(\u001b[0m\u001b[0mdataset\u001b[0m \u001b[0;34m=\u001b[0m \u001b[0mdata\u001b[0m\u001b[0;34m.\u001b[0m\u001b[0mdataset_location\u001b[0m\u001b[0;34m(\u001b[0m\u001b[0;34m)\u001b[0m\u001b[0;34m)\u001b[0m\u001b[0;34m\u001b[0m\u001b[0m\n",
      "\u001b[0;31mImportError\u001b[0m: No module named pantry.tutorials.mlp"
     ]
    }
   ],
   "source": [
    "from yann.pantry.tutorials.mlp import mlp\n",
    "mlp(dataset = data.dataset_location())"
   ]
  },
  {
   "cell_type": "markdown",
   "metadata": {},
   "source": [
    "or simply ,\n",
    "<pre><code>python pantry/tutorials/mlp.py </code></pre>\n",
    "\n",
    "from the toolbox root or path added to toolbox. The ***`__init__`*** program has all the required tools to create or load an already created dataset. Optionally as command line argument you can provide the location to the dataset."
   ]
  },
  {
   "cell_type": "code",
   "execution_count": null,
   "metadata": {
    "collapsed": true
   },
   "outputs": [],
   "source": []
  },
  {
   "cell_type": "code",
   "execution_count": null,
   "metadata": {
    "collapsed": true
   },
   "outputs": [],
   "source": []
  }
 ],
 "metadata": {
  "kernelspec": {
   "display_name": "Python 2",
   "language": "python",
   "name": "python2"
  },
  "language_info": {
   "codemirror_mode": {
    "name": "ipython",
    "version": 2
   },
   "file_extension": ".py",
   "mimetype": "text/x-python",
   "name": "python",
   "nbconvert_exporter": "python",
   "pygments_lexer": "ipython2",
   "version": "2.7.13"
  }
 },
 "nbformat": 4,
 "nbformat_minor": 2
}
